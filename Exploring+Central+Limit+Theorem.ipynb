{
 "cells": [
  {
   "cell_type": "markdown",
   "metadata": {},
   "source": [
    "# Exploring the Central Limit Theorem\n",
    "\n",
    "#### Questions:\n",
    "\n",
    "1. Increase the size of your samples from 100 to 1000, then calculate the means and standard deviations for your new samples and create histograms for each. Repeat this again, decreasing the size of your samples to 20. What values change, and what remain the same?\n",
    "\n",
    "2. Change the population value (p in the NumPy documentation) for pop1 to 0.3, then take new samples and compute the t-statistic and p-value. Then change the population value p for group 1 to 0.4, and do it again. What changes, and why?\n",
    "\n",
    "3. Change the distribution of your populations from binomial to a distribution of your choice. Do the sample mean values still accurately represent the population values?"
   ]
  },
  {
   "cell_type": "code",
   "execution_count": 41,
   "metadata": {
    "collapsed": true
   },
   "outputs": [],
   "source": [
    "import numpy as np\n",
    "import pandas as pd\n",
    "import matplotlib.pyplot as plt\n",
    "from scipy.stats import ttest_ind\n",
    "%matplotlib inline"
   ]
  },
  {
   "cell_type": "markdown",
   "metadata": {},
   "source": [
    "## Binomial distribution, Sample sizes of 100"
   ]
  },
  {
   "cell_type": "code",
   "execution_count": 63,
   "metadata": {},
   "outputs": [
    {
     "name": "stdout",
     "output_type": "stream",
     "text": [
      "2.17\n",
      "1.25741798937\n",
      "5.1\n",
      "1.78044938148\n"
     ]
    },
    {
     "data": {
      "image/png": "[encoded data removed]",
      "text/plain": [
       "<matplotlib.figure.Figure at 0x1157a2710>"
      ]
     },
     "metadata": {},
     "output_type": "display_data"
    }
   ],
   "source": [
    "np.random.seed(1234)\n",
    "\n",
    "pop1 = np.random.binomial(10,.2,10000)\n",
    "pop2 = np.random.binomial(10,.5,10000)\n",
    "\n",
    "sample1 = np.random.choice(pop1,100,replace=True)\n",
    "sample2 = np.random.choice(pop2,100,replace=True)\n",
    "\n",
    "print(np.mean(sample1))\n",
    "print(np.std(sample1))\n",
    "\n",
    "\n",
    "print(np.mean(sample2))\n",
    "print(np.std(sample2))\n",
    "\n",
    "plt.hist(sample1,alpha=0.5,label='s1')\n",
    "plt.hist(sample2,alpha=0.6,label='s2')\n",
    "plt.legend(loc='upper right')\n",
    "plt.show()"
   ]
  },
  {
   "cell_type": "markdown",
   "metadata": {},
   "source": [
    "## Binomial distribution, Sample sizes of 1000"
   ]
  },
  {
   "cell_type": "code",
   "execution_count": 64,
   "metadata": {},
   "outputs": [
    {
     "name": "stdout",
     "output_type": "stream",
     "text": [
      "1.94\n",
      "1.2587295182\n",
      "4.966\n",
      "1.54882019615\n"
     ]
    },
    {
     "data": {
      "image/png": "[encoded data removed]",
      "text/plain": [
       "<matplotlib.figure.Figure at 0x118b40320>"
      ]
     },
     "metadata": {},
     "output_type": "display_data"
    }
   ],
   "source": [
    "np.random.seed(1234)\n",
    "\n",
    "pop1 = np.random.binomial(10,.2,10000)\n",
    "pop2 = np.random.binomial(10,.5,10000)\n",
    "\n",
    "sample1 = np.random.choice(pop1,1000,replace=True)\n",
    "sample2 = np.random.choice(pop2,1000,replace=True)\n",
    "\n",
    "print(np.mean(sample1))\n",
    "print(np.std(sample1))\n",
    "\n",
    "\n",
    "print(np.mean(sample2))\n",
    "print(np.std(sample2))\n",
    "\n",
    "plt.hist(sample1,alpha=0.5,label='s1')\n",
    "plt.hist(sample2,alpha=0.6,label='s2')\n",
    "plt.legend(loc='upper right')\n",
    "plt.show()"
   ]
  },
  {
   "cell_type": "markdown",
   "metadata": {},
   "source": [
    "## Binomial distribution, Sample sizes of 20"
   ]
  },
  {
   "cell_type": "code",
   "execution_count": 65,
   "metadata": {},
   "outputs": [
    {
     "name": "stdout",
     "output_type": "stream",
     "text": [
      "1.65\n",
      "1.15217186218\n",
      "4.8\n",
      "1.93907194297\n"
     ]
    },
    {
     "data": {
      "image/png": "[encoded data removed]",
      "text/plain": [
       "<matplotlib.figure.Figure at 0x118d119b0>"
      ]
     },
     "metadata": {},
     "output_type": "display_data"
    }
   ],
   "source": [
    "np.random.seed(1234)\n",
    "\n",
    "pop1 = np.random.binomial(10,.2,10000)\n",
    "pop2 = np.random.binomial(10,.5,10000)\n",
    "\n",
    "sample1 = np.random.choice(pop1,20,replace=True)\n",
    "sample2 = np.random.choice(pop2,20,replace=True)\n",
    "\n",
    "print(np.mean(sample1))\n",
    "print(np.std(sample1))\n",
    "\n",
    "\n",
    "print(np.mean(sample2))\n",
    "print(np.std(sample2))\n",
    "\n",
    "plt.hist(sample1,alpha=0.5,label='s1')\n",
    "plt.hist(sample2,alpha=0.6,label='s2')\n",
    "plt.legend(loc='upper right')\n",
    "plt.show()"
   ]
  },
  {
   "cell_type": "markdown",
   "metadata": {
    "collapsed": true
   },
   "source": [
    "## Binomial distribution, Sample sizes of 100, pop1 p = 0.3"
   ]
  },
  {
   "cell_type": "code",
   "execution_count": 61,
   "metadata": {},
   "outputs": [
    {
     "name": "stdout",
     "output_type": "stream",
     "text": [
      "Ttest_indResult(statistic=8.1682884924344954, pvalue=3.899488666094433e-14)\n"
     ]
    }
   ],
   "source": [
    "np.random.seed(1234)\n",
    "\n",
    "pop1 = np.random.binomial(10, 0.3, 10000)\n",
    "pop2 = np.random.binomial(10,0.5, 10000) \n",
    "\n",
    "sample1 = np.random.choice(pop1, 100, replace=True)\n",
    "sample2 = np.random.choice(pop2, 100, replace=True)\n",
    "\n",
    "print(ttest_ind(sample2, sample1, equal_var=False))"
   ]
  },
  {
   "cell_type": "markdown",
   "metadata": {
    "collapsed": true
   },
   "source": [
    "## Binomial distribution, Sample sizes of 100, pop1 p = 0.4\n",
    "\n",
    "#### Between this example and the previous one, the t-value gets smaller which indicates the means between the two samples get closer as they get more similar. The pvalue gets gets larger, indicating that the population difference isn't likely due to any meaningful differences between the two populations."
   ]
  },
  {
   "cell_type": "code",
   "execution_count": 62,
   "metadata": {},
   "outputs": [
    {
     "name": "stdout",
     "output_type": "stream",
     "text": [
      "Ttest_indResult(statistic=3.9462069154579082, pvalue=0.00011060724714395783)\n"
     ]
    }
   ],
   "source": [
    "np.random.seed(1234)\n",
    "\n",
    "pop1 = np.random.binomial(10, 0.4, 10000)\n",
    "pop2 = np.random.binomial(10,0.5, 10000) \n",
    "\n",
    "\n",
    "sample1 = np.random.choice(pop1, 100, replace=True)\n",
    "sample2 = np.random.choice(pop2, 100, replace=True)\n",
    "\n",
    "print(ttest_ind(sample2, sample1, equal_var=False))"
   ]
  },
  {
   "cell_type": "markdown",
   "metadata": {},
   "source": [
    "## Poisson distribution, Sample sizes of 1000"
   ]
  },
  {
   "cell_type": "code",
   "execution_count": 54,
   "metadata": {},
   "outputs": [
    {
     "name": "stdout",
     "output_type": "stream",
     "text": [
      "0.974\n",
      "1.02923466712\n",
      "2.027\n",
      "1.4093512692\n"
     ]
    },
    {
     "data": {
      "image/png": "[encoded data removed]",
      "text/plain": [
       "<matplotlib.figure.Figure at 0x118f7c8d0>"
      ]
     },
     "metadata": {},
     "output_type": "display_data"
    }
   ],
   "source": [
    "np.random.seed(1234)\n",
    "\n",
    "pop1 = np.random.poisson(1,10000)\n",
    "pop2 = np.random.poisson(2,10000)\n",
    "\n",
    "sample1 = np.random.choice(pop1,1000,replace=True)\n",
    "sample2 = np.random.choice(pop2,1000,replace=True)\n",
    "\n",
    "print(np.mean(sample1))\n",
    "print(np.std(sample1))\n",
    "\n",
    "\n",
    "print(np.mean(sample2))\n",
    "print(np.std(sample2))\n",
    "\n",
    "plt.hist(sample1,alpha=0.5,label='s1')\n",
    "plt.hist(sample2,alpha=0.6,label='s2')\n",
    "plt.legend(loc='upper right')\n",
    "plt.show()"
   ]
  }
 ],
 "metadata": {
  "kernelspec": {
   "display_name": "Python 3",
   "language": "python",
   "name": "python3"
  },
  "language_info": {
   "codemirror_mode": {
    "name": "ipython",
    "version": 3
   },
   "file_extension": ".py",
   "mimetype": "text/x-python",
   "name": "python",
   "nbconvert_exporter": "python",
   "pygments_lexer": "ipython3",
   "version": "3.6.1"
  }
 },
 "nbformat": 4,
 "nbformat_minor": 2
}
