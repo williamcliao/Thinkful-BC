{
 "cells": [
  {
   "cell_type": "markdown",
   "metadata": {},
   "source": [
    "# Multivariable least squares regression\n",
    "\n",
    "### Read in, format and subset data"
   ]
  },
  {
   "cell_type": "code",
   "execution_count": 120,
   "metadata": {
    "collapsed": true
   },
   "outputs": [],
   "source": [
    "#Read in data\n",
    "df = pd.read_csv('crime.csv')\n",
    "\n",
    "#Rename columns\n",
    "df.columns = ['city','population','violent_crime','murder_nonegligent_manslaughter','rape_revised','rape_legacy_def','robbery','agg_assault','property_crime','burglary','larceny_theft','motor_theft','arson3','unnamed']"
   ]
  },
  {
   "cell_type": "code",
   "execution_count": 121,
   "metadata": {
    "collapsed": false,
    "scrolled": true
   },
   "outputs": [
    {
     "data": {
      "text/html": [
       "<div>\n",
       "<style>\n",
       "    .dataframe thead tr:only-child th {\n",
       "        text-align: right;\n",
       "    }\n",
       "\n",
       "    .dataframe thead th {\n",
       "        text-align: left;\n",
       "    }\n",
       "\n",
       "    .dataframe tbody tr th {\n",
       "        vertical-align: top;\n",
       "    }\n",
       "</style>\n",
       "<table border=\"1\" class=\"dataframe\">\n",
       "  <thead>\n",
       "    <tr style=\"text-align: right;\">\n",
       "      <th></th>\n",
       "      <th>city</th>\n",
       "      <th>population</th>\n",
       "      <th>violent_crime</th>\n",
       "      <th>murder_nonegligent_manslaughter</th>\n",
       "      <th>rape_revised</th>\n",
       "      <th>rape_legacy_def</th>\n",
       "      <th>robbery</th>\n",
       "      <th>agg_assault</th>\n",
       "      <th>property_crime</th>\n",
       "      <th>burglary</th>\n",
       "      <th>larceny_theft</th>\n",
       "      <th>motor_theft</th>\n",
       "      <th>arson3</th>\n",
       "      <th>unnamed</th>\n",
       "    </tr>\n",
       "  </thead>\n",
       "  <tbody>\n",
       "    <tr>\n",
       "      <th>0</th>\n",
       "      <td>Adams Village</td>\n",
       "      <td>1,861</td>\n",
       "      <td>0</td>\n",
       "      <td>0.000</td>\n",
       "      <td>nan</td>\n",
       "      <td>0</td>\n",
       "      <td>0</td>\n",
       "      <td>0</td>\n",
       "      <td>12</td>\n",
       "      <td>2</td>\n",
       "      <td>10</td>\n",
       "      <td>0</td>\n",
       "      <td>0.000</td>\n",
       "      <td>nan</td>\n",
       "    </tr>\n",
       "    <tr>\n",
       "      <th>1</th>\n",
       "      <td>Addison Town and Village</td>\n",
       "      <td>2,577</td>\n",
       "      <td>3</td>\n",
       "      <td>0.000</td>\n",
       "      <td>nan</td>\n",
       "      <td>0</td>\n",
       "      <td>0</td>\n",
       "      <td>3</td>\n",
       "      <td>24</td>\n",
       "      <td>3</td>\n",
       "      <td>20</td>\n",
       "      <td>1</td>\n",
       "      <td>0.000</td>\n",
       "      <td>nan</td>\n",
       "    </tr>\n",
       "    <tr>\n",
       "      <th>2</th>\n",
       "      <td>Akron Village</td>\n",
       "      <td>2,846</td>\n",
       "      <td>3</td>\n",
       "      <td>0.000</td>\n",
       "      <td>nan</td>\n",
       "      <td>0</td>\n",
       "      <td>0</td>\n",
       "      <td>3</td>\n",
       "      <td>16</td>\n",
       "      <td>1</td>\n",
       "      <td>15</td>\n",
       "      <td>0</td>\n",
       "      <td>0.000</td>\n",
       "      <td>nan</td>\n",
       "    </tr>\n",
       "    <tr>\n",
       "      <th>3</th>\n",
       "      <td>Albany</td>\n",
       "      <td>97,956</td>\n",
       "      <td>791</td>\n",
       "      <td>8.000</td>\n",
       "      <td>nan</td>\n",
       "      <td>30</td>\n",
       "      <td>227</td>\n",
       "      <td>526</td>\n",
       "      <td>4,090</td>\n",
       "      <td>705</td>\n",
       "      <td>3,243</td>\n",
       "      <td>142</td>\n",
       "      <td>nan</td>\n",
       "      <td>nan</td>\n",
       "    </tr>\n",
       "    <tr>\n",
       "      <th>4</th>\n",
       "      <td>Albion Village</td>\n",
       "      <td>6,388</td>\n",
       "      <td>23</td>\n",
       "      <td>0.000</td>\n",
       "      <td>nan</td>\n",
       "      <td>3</td>\n",
       "      <td>4</td>\n",
       "      <td>16</td>\n",
       "      <td>223</td>\n",
       "      <td>53</td>\n",
       "      <td>165</td>\n",
       "      <td>5</td>\n",
       "      <td>nan</td>\n",
       "      <td>nan</td>\n",
       "    </tr>\n",
       "  </tbody>\n",
       "</table>\n",
       "</div>"
      ],
      "text/plain": [
       "                       city population violent_crime  \\\n",
       "0             Adams Village      1,861             0   \n",
       "1  Addison Town and Village      2,577             3   \n",
       "2             Akron Village      2,846             3   \n",
       "3                    Albany     97,956           791   \n",
       "4            Albion Village      6,388            23   \n",
       "\n",
       "   murder_nonegligent_manslaughter  rape_revised rape_legacy_def robbery  \\\n",
       "0                            0.000           nan               0       0   \n",
       "1                            0.000           nan               0       0   \n",
       "2                            0.000           nan               0       0   \n",
       "3                            8.000           nan              30     227   \n",
       "4                            0.000           nan               3       4   \n",
       "\n",
       "  agg_assault property_crime burglary larceny_theft motor_theft  arson3  \\\n",
       "0           0             12        2            10           0   0.000   \n",
       "1           3             24        3            20           1   0.000   \n",
       "2           3             16        1            15           0   0.000   \n",
       "3         526          4,090      705         3,243         142     nan   \n",
       "4          16            223       53           165           5     nan   \n",
       "\n",
       "   unnamed  \n",
       "0      nan  \n",
       "1      nan  \n",
       "2      nan  \n",
       "3      nan  \n",
       "4      nan  "
      ]
     },
     "execution_count": 121,
     "metadata": {},
     "output_type": "execute_result"
    }
   ],
   "source": [
    "#Preview data\n",
    "df.head(5)"
   ]
  },
  {
   "cell_type": "code",
   "execution_count": 122,
   "metadata": {
    "collapsed": true
   },
   "outputs": [],
   "source": [
    "#Subset variables of interest: population, murder, robbery and property crime\n",
    "df2 = df[['population','murder_nonegligent_manslaughter','robbery','property_crime']].copy()"
   ]
  },
  {
   "cell_type": "code",
   "execution_count": 123,
   "metadata": {
    "collapsed": false,
    "scrolled": true
   },
   "outputs": [
    {
     "data": {
      "text/plain": [
       "population                         3\n",
       "murder_nonegligent_manslaughter    3\n",
       "robbery                            3\n",
       "property_crime                     3\n",
       "dtype: int64"
      ]
     },
     "execution_count": 123,
     "metadata": {},
     "output_type": "execute_result"
    }
   ],
   "source": [
    "#Evaluate how many null values there are \n",
    "df2.isnull().sum()"
   ]
  },
  {
   "cell_type": "code",
   "execution_count": 134,
   "metadata": {
    "collapsed": true
   },
   "outputs": [],
   "source": [
    "#There aren't that many null values so instead of imputing, we'll just remove them\n",
    "df2 = df2.dropna()"
   ]
  },
  {
   "cell_type": "code",
   "execution_count": 124,
   "metadata": {
    "collapsed": false,
    "scrolled": true
   },
   "outputs": [
    {
     "data": {
      "text/plain": [
       "population                          object\n",
       "murder_nonegligent_manslaughter    float64\n",
       "robbery                             object\n",
       "property_crime                      object\n",
       "dtype: object"
      ]
     },
     "execution_count": 124,
     "metadata": {},
     "output_type": "execute_result"
    }
   ],
   "source": [
    "#Evaluate data types; we need to convert some of the objects to floats\n",
    "df2.dtypes"
   ]
  },
  {
   "cell_type": "code",
   "execution_count": 125,
   "metadata": {
    "collapsed": false,
    "scrolled": false
   },
   "outputs": [],
   "source": [
    "#Convert objects into floats \n",
    "df2['population'] = pd.to_numeric(df2['population'].str.replace(',',''), errors='coerce')\n",
    "cols = ['population','robbery','property_crime']\n",
    "df2[cols] = df2[cols].apply(pd.to_numeric, errors='coerce', axis=1)"
   ]
  },
  {
   "cell_type": "markdown",
   "metadata": {},
   "source": [
    "### Investigate and deal with outliers"
   ]
  },
  {
   "cell_type": "code",
   "execution_count": 126,
   "metadata": {
    "collapsed": false
   },
   "outputs": [
    {
     "data": {
      "image/png": "[encoded data removed]",
      "text/plain": [
       "<matplotlib.figure.Figure at 0x1167c26d8>"
      ]
     },
     "metadata": {},
     "output_type": "display_data"
    }
   ],
   "source": [
    "#Evalute distribution of data\n",
    "fig, axs = plt.subplots(nrows=4)\n",
    "sns.boxplot(df2['robbery'],ax=axs[0])\n",
    "sns.boxplot(df2['property_crime'],ax=axs[1])\n",
    "sns.boxplot(df2['population'],ax=axs[2])\n",
    "sns.boxplot(df2['murder_nonegligent_manslaughter'],ax=axs[3])\n",
    "plt.tight_layout()\n"
   ]
  },
  {
   "cell_type": "code",
   "execution_count": 127,
   "metadata": {
    "collapsed": false,
    "scrolled": true
   },
   "outputs": [],
   "source": [
    "#There appear to be some pretty outstanding outliers,\n",
    "#we'll winsorize the data so they don't impair the model's performance \n",
    "for column in df2:\n",
    "    df2[column] = scipy.stats.mstats.winsorize(df2[column],limits=[0.05,0.05])"
   ]
  },
  {
   "cell_type": "code",
   "execution_count": 128,
   "metadata": {
    "collapsed": false
   },
   "outputs": [
    {
     "data": {
      "image/png": "[encoded data removed]",
      "text/plain": [
       "<matplotlib.figure.Figure at 0x1167c2a20>"
      ]
     },
     "metadata": {},
     "output_type": "display_data"
    }
   ],
   "source": [
    "#Revaluate distribution of data after winsorizing\n",
    "fig, axs = plt.subplots(nrows=4)\n",
    "sns.boxplot(df2['robbery'],ax=axs[0])\n",
    "sns.boxplot(df2['property_crime'],ax=axs[1])\n",
    "sns.boxplot(df2['population'],ax=axs[2])\n",
    "sns.boxplot(df2['murder_nonegligent_manslaughter'],ax=axs[3])\n",
    "plt.tight_layout()"
   ]
  },
  {
   "cell_type": "markdown",
   "metadata": {},
   "source": [
    "### Engineer new features "
   ]
  },
  {
   "cell_type": "code",
   "execution_count": 129,
   "metadata": {
    "collapsed": false
   },
   "outputs": [],
   "source": [
    "#Engineering requisite features\n",
    "\n",
    "#Population squared\n",
    "df2['population_squared'] = df2['population']**2\n",
    "\n",
    "#Whether robbery occurred in the city or not \n",
    "df2['robbery_signal'] = np.where((df2['robbery'] > 0),1,0)\n",
    "\n",
    "#Whether murder occurred in the city or not \n",
    "df2['murder_signal'] = np.where((df2['murder_nonegligent_manslaughter'] > 0),1,0)"
   ]
  },
  {
   "cell_type": "code",
   "execution_count": 130,
   "metadata": {
    "collapsed": true
   },
   "outputs": [],
   "source": [
    "#Subset target variable and engineered features \n",
    "model_df = df2[['population','population_squared','robbery_signal','murder_signal']]"
   ]
  },
  {
   "cell_type": "code",
   "execution_count": null,
   "metadata": {
    "collapsed": true
   },
   "outputs": [],
   "source": []
  }
 ],
 "metadata": {
  "kernelspec": {
   "display_name": "Python 3",
   "language": "python",
   "name": "python3"
  },
  "language_info": {
   "codemirror_mode": {
    "name": "ipython",
    "version": 3
   },
   "file_extension": ".py",
   "mimetype": "text/x-python",
   "name": "python",
   "nbconvert_exporter": "python",
   "pygments_lexer": "ipython3",
   "version": "3.6.0"
  }
 },
 "nbformat": 4,
 "nbformat_minor": 2
}
