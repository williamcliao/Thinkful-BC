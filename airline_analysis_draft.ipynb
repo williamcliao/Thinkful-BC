{
 "cells": [
  {
   "cell_type": "markdown",
   "metadata": {},
   "source": [
    "# Airline Delay Binary Classification Analysis\n",
    "\n",
    "Use this dataset of airline arrival information to predict how late flights will be. A flight only counts as late if it is more than 30 minutes late.\n",
    "\n",
    "http://stat-computing.org/dataexpo/2009/the-data.html\n",
    "\n",
    "Items to discuss:\n",
    "1. Creating dummy variables for categorical variables of interest \n",
    "2. Other adjustments to make analysis more computationally efficient/practical \n",
    "3. Feature selection best practices -- identifying optimal number of features"
   ]
  },
  {
   "cell_type": "raw",
   "metadata": {},
   "source": [
    "Features: \n",
    "\n",
    "\tName\tDescription\n",
    "1\tYear\t1987-2008\n",
    "2\tMonth\t1-12\n",
    "3\tDayofMonth\t1-31\n",
    "4\tDayOfWeek\t1 (Monday) - 7 (Sunday)\n",
    "5\tDepTime\tactual departure time (local, hhmm)\n",
    "6\tCRSDepTime\tscheduled departure time (local, hhmm)\n",
    "7\tArrTime\tactual arrival time (local, hhmm)\n",
    "8\tCRSArrTime\tscheduled arrival time (local, hhmm)\n",
    "9\tUniqueCarrier\tunique carrier code\n",
    "10\tFlightNum\tflight number\n",
    "11\tTailNum\tplane tail number\n",
    "12\tActualElapsedTime\tin minutes\n",
    "13\tCRSElapsedTime\tin minutes\n",
    "14\tAirTime\tin minutes\n",
    "15\tArrDelay\tarrival delay, in minutes\n",
    "16\tDepDelay\tdeparture delay, in minutes\n",
    "17\tOrigin\torigin IATA airport code\n",
    "18\tDest\tdestination IATA airport code\n",
    "19\tDistance\tin miles\n",
    "20\tTaxiIn\ttaxi in time, in minutes\n",
    "21\tTaxiOut\ttaxi out time in minutes\n",
    "22\tCancelled\twas the flight cancelled?\n",
    "23\tCancellationCode\treason for cancellation (A = carrier, B = weather, C = NAS, D = security)\n",
    "24\tDiverted\t1 = yes, 0 = no\n",
    "25\tCarrierDelay\tin minutes\n",
    "26\tWeatherDelay\tin minutes\n",
    "27\tNASDelay\tin minutes\n",
    "28\tSecurityDelay\tin minutes\n",
    "29\tLateAircraftDelay\tin minutes"
   ]
  },
  {
   "cell_type": "code",
   "execution_count": 2,
   "metadata": {
    "collapsed": false
   },
   "outputs": [],
   "source": [
    "import numpy as np\n",
    "import pandas as pd\n",
    "import matplotlib.pyplot as plt\n",
    "%matplotlib inline\n",
    "import time\n",
    "from sklearn.model_selection import cross_val_score\n",
    "from sklearn import grid_search\n",
    "import seaborn as sns\n",
    "from sklearn.preprocessing import normalize"
   ]
  },
  {
   "cell_type": "markdown",
   "metadata": {},
   "source": [
    "## Data preparation and exploration"
   ]
  },
  {
   "cell_type": "code",
   "execution_count": 3,
   "metadata": {
    "collapsed": true
   },
   "outputs": [],
   "source": [
    "# Read in data\n",
    "df = pd.read_csv('airline-2008.csv')"
   ]
  },
  {
   "cell_type": "code",
   "execution_count": 5,
   "metadata": {
    "collapsed": false
   },
   "outputs": [],
   "source": [
    "# Our research question is only interested in flights arriving late, so we'll remove cancelled flights\n",
    "df = df.loc[df['Cancelled'] == 0]\n",
    "\n",
    "# We'll delete redundant/intuitively irrelevant variables \n",
    "df = df.drop(['Year','CRSDepTime','ArrTime','CRSArrTime','CRSElapsedTime','CancellationCode',\n",
    "             'Origin','Dest','UniqueCarrier','TailNum','Cancelled','Diverted','ActualElapsedTime','AirTime'],1)"
   ]
  },
  {
   "cell_type": "code",
   "execution_count": 6,
   "metadata": {
    "collapsed": true
   },
   "outputs": [],
   "source": [
    "# Create target variable; turn into binary classification problem \n",
    "df['delayed'] = np.where(df['ArrDelay'] > 30,1,0)\n",
    "\n",
    "# Remove arrival delay variable from featureset \n",
    "df = df.drop('ArrDelay',1)"
   ]
  },
  {
   "cell_type": "code",
   "execution_count": 7,
   "metadata": {
    "collapsed": false,
    "scrolled": true
   },
   "outputs": [
    {
     "data": {
      "text/plain": [
       "Month                  int64\n",
       "DayofMonth             int64\n",
       "DayOfWeek              int64\n",
       "DepTime              float64\n",
       "FlightNum              int64\n",
       "DepDelay             float64\n",
       "Distance               int64\n",
       "TaxiIn               float64\n",
       "TaxiOut              float64\n",
       "CarrierDelay         float64\n",
       "WeatherDelay         float64\n",
       "NASDelay             float64\n",
       "SecurityDelay        float64\n",
       "LateAircraftDelay    float64\n",
       "delayed                int64\n",
       "dtype: object"
      ]
     },
     "execution_count": 7,
     "metadata": {},
     "output_type": "execute_result"
    }
   ],
   "source": [
    "# Evaluate data types of data set to make sure they're appropriate for our models\n",
    "df.dtypes"
   ]
  },
  {
   "cell_type": "code",
   "execution_count": 8,
   "metadata": {
    "collapsed": false,
    "scrolled": false
   },
   "outputs": [
    {
     "data": {
      "text/plain": [
       "Month                      0\n",
       "DayofMonth                 0\n",
       "DayOfWeek                  0\n",
       "DepTime                    0\n",
       "FlightNum                  0\n",
       "DepDelay                   0\n",
       "Distance                   0\n",
       "TaxiIn                 14215\n",
       "TaxiOut                    0\n",
       "CarrierDelay         5347559\n",
       "WeatherDelay         5347559\n",
       "NASDelay             5347559\n",
       "SecurityDelay        5347559\n",
       "LateAircraftDelay    5347559\n",
       "delayed                    0\n",
       "dtype: int64"
      ]
     },
     "execution_count": 8,
     "metadata": {},
     "output_type": "execute_result"
    }
   ],
   "source": [
    "# Evaluate for NULL values\n",
    "df.isnull().sum()"
   ]
  },
  {
   "cell_type": "code",
   "execution_count": 18,
   "metadata": {
    "collapsed": false
   },
   "outputs": [],
   "source": [
    "# We'll assume that data measuring time in minutes with NaN values are = 0\n",
    "cols = ['CarrierDelay','WeatherDelay','NASDelay','SecurityDelay',\n",
    "        'LateAircraftDelay']\n",
    "\n",
    "for i in cols:\n",
    "    df[i] = df[i].fillna(0)"
   ]
  },
  {
   "cell_type": "code",
   "execution_count": 21,
   "metadata": {
    "collapsed": false,
    "scrolled": true
   },
   "outputs": [],
   "source": [
    "# Drop remaining observations with missing values\n",
    "df = df.dropna()"
   ]
  },
  {
   "cell_type": "code",
   "execution_count": 22,
   "metadata": {
    "collapsed": false
   },
   "outputs": [],
   "source": [
    "# Down sample to balance class \n",
    "from sklearn.preprocessing import normalize\n",
    "from imblearn.under_sampling import RandomUnderSampler\n",
    "usampler = RandomUnderSampler()\n",
    "\n",
    "X_orig = df.drop('delayed',1)\n",
    "y_orig = df['delayed']\n",
    "\n",
    "X_sm, y_sm = usampler.fit_sample(X_orig,y_orig)\n",
    "\n",
    "sm_features = pd.DataFrame(data=X_sm,columns=X_orig.columns)\n",
    "sm_target = pd.DataFrame(data=y_sm,columns=['delayed'])\n",
    "\n",
    "# Put data set backtogether\n",
    "frames = [sm_features, sm_target]\n",
    "sm_data = pd.concat(frames,axis=1)\n",
    "\n",
    "# Assign undersampled data back into X and y; normalize parameters \n",
    "X = normalize(sm_features)\n",
    "y = sm_target.values.ravel()"
   ]
  },
  {
   "cell_type": "code",
   "execution_count": 23,
   "metadata": {
    "collapsed": false
   },
   "outputs": [
    {
     "data": {
      "text/plain": [
       "1    901398\n",
       "0    901398\n",
       "Name: delayed, dtype: int64"
      ]
     },
     "execution_count": 23,
     "metadata": {},
     "output_type": "execute_result"
    }
   ],
   "source": [
    "#Verify that classes are now balanced\n",
    "sm_data['delayed'].value_counts()"
   ]
  },
  {
   "cell_type": "code",
   "execution_count": 24,
   "metadata": {
    "collapsed": true
   },
   "outputs": [],
   "source": [
    "# Do a 70/30 test/train split\n",
    "from sklearn.model_selection import train_test_split\n",
    "\n",
    "X_train, X_test, y_train, y_test = train_test_split(X,y,test_size=0.3)"
   ]
  },
  {
   "cell_type": "code",
   "execution_count": 25,
   "metadata": {
    "collapsed": false,
    "scrolled": true
   },
   "outputs": [
    {
     "data": {
      "text/plain": [
       "<matplotlib.axes._subplots.AxesSubplot at 0x13e335f28>"
      ]
     },
     "execution_count": 25,
     "metadata": {},
     "output_type": "execute_result"
    },
    {
     "data": {
      "image/png": "[encoded data removed]",
      "text/plain": [
       "<matplotlib.figure.Figure at 0x1558be748>"
      ]
     },
     "metadata": {},
     "output_type": "display_data"
    }
   ],
   "source": [
    "# Create heatmap to check for any issues with collinearity\n",
    "sns.heatmap(df.corr())"
   ]
  },
  {
   "cell_type": "markdown",
   "metadata": {},
   "source": [
    "X_train = pd.DataFrame(data=X_train,columns=X_orig.columns)\n",
    "y_train = pd.DataFrame(data=y_train,columns=['delayed'])\n",
    "\n",
    "X_test = pd.DataFrame(data=X_train,columns=X_orig.columns)\n",
    "y_test = pd.DataFrame(data=y_train,columns=['delayed'])"
   ]
  },
  {
   "cell_type": "markdown",
   "metadata": {},
   "source": [
    "## Feature Selection"
   ]
  },
  {
   "cell_type": "markdown",
   "metadata": {},
   "source": [
    "### PCA"
   ]
  },
  {
   "cell_type": "code",
   "execution_count": 26,
   "metadata": {
    "collapsed": true
   },
   "outputs": [],
   "source": [
    "from sklearn import preprocessing\n",
    "from sklearn.decomposition import PCA\n",
    "\n",
    "pca = PCA(n_components=8)\n",
    "\n",
    "# Assign features and target variable to 'X' and 'Y' respectively\n",
    "X_scaled = preprocessing.scale(X_train)\n",
    "\n",
    "X_pca = pca.fit_transform(X_scaled)"
   ]
  },
  {
   "cell_type": "code",
   "execution_count": 27,
   "metadata": {
    "collapsed": false,
    "scrolled": false
   },
   "outputs": [
    {
     "name": "stdout",
     "output_type": "stream",
     "text": [
      "[ 0.2594771   0.12956879  0.09812108  0.07457266  0.07164421  0.07138682\n",
      "  0.06917753  0.05618894]\n"
     ]
    },
    {
     "data": {
      "text/plain": [
       "[<matplotlib.lines.Line2D at 0x12008a438>]"
      ]
     },
     "execution_count": 27,
     "metadata": {},
     "output_type": "execute_result"
    },
    {
     "data": {
      "image/png": "[encoded data removed]",
      "text/plain": [
       "<matplotlib.figure.Figure at 0x16395e9e8>"
      ]
     },
     "metadata": {},
     "output_type": "display_data"
    }
   ],
   "source": [
    "# Evaluate explained variance ratio -- it appears that the first component explains\n",
    "# most of the data set. \n",
    "print(pca.explained_variance_ratio_)\n",
    "plt.plot(pca.explained_variance_ratio_)"
   ]
  },
  {
   "cell_type": "code",
   "execution_count": 28,
   "metadata": {
    "collapsed": false
   },
   "outputs": [
    {
     "data": {
      "text/plain": [
       "array([ 3.63268223,  1.81396447,  1.37369624,  1.04401807,  1.00301977,\n",
       "        0.99941634,  0.96848624,  0.78664576])"
      ]
     },
     "execution_count": 28,
     "metadata": {},
     "output_type": "execute_result"
    }
   ],
   "source": [
    "\n",
    "# The first principal component explains the variance of a little over 9 of \n",
    "# our features\n",
    "pca.explained_variance_"
   ]
  },
  {
   "cell_type": "code",
   "execution_count": 29,
   "metadata": {
    "collapsed": false
   },
   "outputs": [
    {
     "data": {
      "text/plain": [
       "0.83013713678536005"
      ]
     },
     "execution_count": 29,
     "metadata": {},
     "output_type": "execute_result"
    }
   ],
   "source": [
    "np.sum(pca.explained_variance_ratio_)"
   ]
  },
  {
   "cell_type": "markdown",
   "metadata": {},
   "source": [
    "### F Class"
   ]
  },
  {
   "cell_type": "raw",
   "metadata": {},
   "source": [
    "# from sklearn.feature_selection import SelectKBest, f_classif\n",
    "\n",
    "# Use mutual information to select best features\n",
    "selector = SelectKBest(f_classif,k=10)\n",
    "\n",
    "# Fit selector to data\n",
    "selector.fit(X_train,y_train)\n",
    "\n",
    "# Assign selected features \n",
    "idxs_selected = selector.get_support(indices=True)\n",
    "f_class_features = X_train[X_train.columns[[idxs_selected]]]"
   ]
  },
  {
   "cell_type": "markdown",
   "metadata": {},
   "source": [
    "### Mutual Information"
   ]
  },
  {
   "cell_type": "raw",
   "metadata": {},
   "source": [
    "from sklearn.feature_selection import SelectKBest, mutual_info_classif\n",
    "\n",
    "# Use mutual information to select best features\n",
    "selector = SelectKBest(mutual_info_classif,k=10)\n",
    "\n",
    "# Fit selector to data\n",
    "selector.fit(X_train,y_train.values.ravel())\n",
    "\n",
    "# Assign selected features \n",
    "idxs_selected = selector.get_support(indices=True)\n",
    "mutual_info_features = X_train[X_train.columns[[idxs_selected]]]"
   ]
  },
  {
   "cell_type": "markdown",
   "metadata": {},
   "source": [
    "## Modeling "
   ]
  },
  {
   "cell_type": "code",
   "execution_count": 30,
   "metadata": {
    "collapsed": true
   },
   "outputs": [],
   "source": [
    "#Initialize lists to store model performance\n",
    "scores = []\n",
    "model = []\n",
    "run_time = []"
   ]
  },
  {
   "cell_type": "markdown",
   "metadata": {},
   "source": [
    "### Preliminary run: all data\n",
    "\n",
    "#### Naive Bayes"
   ]
  },
  {
   "cell_type": "code",
   "execution_count": 31,
   "metadata": {
    "collapsed": false
   },
   "outputs": [
    {
     "name": "stdout",
     "output_type": "stream",
     "text": [
      "--- 0.6408779621124268 seconds ---\n",
      "Mean score: 0.931214276928\n"
     ]
    },
    {
     "data": {
      "text/html": [
       "<div>\n",
       "<style>\n",
       "    .dataframe thead tr:only-child th {\n",
       "        text-align: right;\n",
       "    }\n",
       "\n",
       "    .dataframe thead th {\n",
       "        text-align: left;\n",
       "    }\n",
       "\n",
       "    .dataframe tbody tr th {\n",
       "        vertical-align: top;\n",
       "    }\n",
       "</style>\n",
       "<table border=\"1\" class=\"dataframe\">\n",
       "  <thead>\n",
       "    <tr style=\"text-align: right;\">\n",
       "      <th>Predicted</th>\n",
       "      <th>0</th>\n",
       "      <th>1</th>\n",
       "      <th>All</th>\n",
       "    </tr>\n",
       "    <tr>\n",
       "      <th>True</th>\n",
       "      <th></th>\n",
       "      <th></th>\n",
       "      <th></th>\n",
       "    </tr>\n",
       "  </thead>\n",
       "  <tbody>\n",
       "    <tr>\n",
       "      <th>0</th>\n",
       "      <td>249055</td>\n",
       "      <td>21526</td>\n",
       "      <td>270581</td>\n",
       "    </tr>\n",
       "    <tr>\n",
       "      <th>1</th>\n",
       "      <td>15676</td>\n",
       "      <td>254582</td>\n",
       "      <td>270258</td>\n",
       "    </tr>\n",
       "    <tr>\n",
       "      <th>All</th>\n",
       "      <td>264731</td>\n",
       "      <td>276108</td>\n",
       "      <td>540839</td>\n",
       "    </tr>\n",
       "  </tbody>\n",
       "</table>\n",
       "</div>"
      ],
      "text/plain": [
       "Predicted       0       1     All\n",
       "True                             \n",
       "0          249055   21526  270581\n",
       "1           15676  254582  270258\n",
       "All        264731  276108  540839"
      ]
     },
     "execution_count": 31,
     "metadata": {},
     "output_type": "execute_result"
    }
   ],
   "source": [
    "from sklearn.naive_bayes import BernoulliNB\n",
    "from sklearn import metrics\n",
    "\n",
    "# Initialize model\n",
    "bnb = BernoulliNB()\n",
    "\n",
    "# Initialize start time\n",
    "start_time = time.time()\n",
    "\n",
    "# Fit model\n",
    "bnb.fit(X_train,y_train)\n",
    "\n",
    "# Store training duration\n",
    "t = (time.time() - start_time)\n",
    "\n",
    "#Print training duration\n",
    "print(\"--- %s seconds ---\" % t)\n",
    "\n",
    "# Append training duration to list for later analysis\n",
    "run_time.append(t)\n",
    "\n",
    "\n",
    "nb_scores = cross_val_score(bnb,X_test,y_test,cv=5)\n",
    "\n",
    "nb_score = np.mean(nb_scores)\n",
    "scores.append(nb_score)\n",
    "model.append(\"Naive Bayes\")\n",
    "print(\"Mean score:\", nb_score)\n",
    "\n",
    "y_pred = bnb.predict(X_test)\n",
    "pd.crosstab(y_test,y_pred,rownames=['True'],colnames=['Predicted'],margins=True)"
   ]
  },
  {
   "cell_type": "markdown",
   "metadata": {},
   "source": [
    "#### Decision Tree"
   ]
  },
  {
   "cell_type": "code",
   "execution_count": null,
   "metadata": {
    "collapsed": false
   },
   "outputs": [],
   "source": [
    "from sklearn import tree\n",
    "\n",
    "decision_tree = tree.DecisionTreeClassifier()\n",
    "parameters = {'criterion':('gini','entropy'),'max_depth':list(range(1,11,1)),'max_features':list(range(1,5,1))}\n",
    "gs = grid_search.GridSearchCV(decision_tree, parameters,cv= 3,scoring=\"accuracy\")\n",
    "gs.fit(X_train,y_train)\n",
    "\n",
    "decision_tree = tree.DecisionTreeClassifier(**gs.best_params_)\n",
    "\n",
    "start_time = time.time()\n",
    "decision_tree.fit(X_train,y_train)\n",
    "t = (time.time() - start_time)\n",
    "print(\"--- %s seconds ---\" % t)\n",
    "run_time.append(t)\n",
    "\n",
    "\n",
    "decision_tree_scores = cross_val_score(decision_tree, X_test, y_test, cv=5)\n",
    "\n",
    "\n",
    "decision_tree_score = np.mean(decision_tree_scores)\n",
    "scores.append(decision_tree_score)\n",
    "model.append(\"Decision Tree\")\n",
    "print(\"Mean score:\", decision_tree_score)\n",
    "print(\"Optimal parameters:\", gs.best_params_)\n",
    "\n",
    "y_pred = decision_tree.predict(X_test)\n",
    "pd.crosstab(y_test,y_pred,rownames=['True'],colnames=['Predicted'],margins=True)"
   ]
  },
  {
   "cell_type": "markdown",
   "metadata": {},
   "source": [
    "#### Random Forest"
   ]
  },
  {
   "cell_type": "code",
   "execution_count": null,
   "metadata": {
    "collapsed": true
   },
   "outputs": [],
   "source": [
    "from sklearn import ensemble\n",
    "\n",
    "rfc = ensemble.RandomForestClassifier()\n",
    "\n",
    "parameters = {'n_estimators':list(range(1,100,10)),'max_depth':list(range(1,10,1)),'max_features':list(range(1,5,1))}\n",
    "gs = grid_search.GridSearchCV(rfc, parameters,cv= 3,scoring=\"accuracy\")\n",
    "gs.fit(X_train,y_train)\n",
    "\n",
    "rfc = ensemble.RandomForestClassifier(**gs.best_params_)\n",
    "\n",
    "start_time = time.time()\n",
    "rfc.fit(X_train,y_train)\n",
    "t = (time.time() - start_time)\n",
    "print(\"--- %s seconds ---\" % t)\n",
    "run_time.append(t)\n",
    "\n",
    "\n",
    "rfc_scores = cross_val_score(rfc,X_test,y_test,cv=5)\n",
    "\n",
    "\n",
    "rfc_score = np.mean(rfc_scores)\n",
    "scores.append(rfc_score)\n",
    "model.append(\"Random Forest\")\n",
    "print(\"Mean score:\", rfc_score)\n",
    "print(\"Optimal parameters:\", gs.best_params_)\n",
    "\n",
    "y_pred = rfc.predict(X_test)\n",
    "pd.crosstab(y_test,y_pred,rownames=['True'],colnames=['Predicted'],margins=True)"
   ]
  },
  {
   "cell_type": "markdown",
   "metadata": {},
   "source": [
    "#### KNN"
   ]
  },
  {
   "cell_type": "code",
   "execution_count": null,
   "metadata": {
    "collapsed": true
   },
   "outputs": [],
   "source": [
    "from sklearn.neighbors import KNeighborsClassifier\n",
    "\n",
    "knn = KNeighborsClassifier()\n",
    "\n",
    "parameters = {'n_neighbors':list(range(1,50,1)),'weights':('uniform','distance'),'algorithm':('auto','ball_tree','kd_tree','brute')}\n",
    "gs = grid_search.GridSearchCV(knn, parameters,cv= 3,scoring=\"accuracy\")\n",
    "gs.fit(normalize(X_train),y_train)\n",
    "\n",
    "knn = KNeighborsClassifier(**gs.best_params_)\n",
    "\n",
    "start_time = time.time()\n",
    "knn.fit(normalize(X_train), y_train)\n",
    "t = (time.time() - start_time)\n",
    "print(\"--- %s seconds ---\" % t)\n",
    "run_time.append(t)\n",
    "\n",
    "\n",
    "knn_scores = cross_val_score(knn, normalize(X_test), y_test, cv=5)\n",
    "\n",
    "knn_score = np.mean(knn_scores)\n",
    "scores.append(knn_score)\n",
    "model.append(\"KNN\")\n",
    "print(\"Mean score:\", knn_score)\n",
    "print(\"Optimal parameters:\", gs.best_params_)\n",
    "\n",
    "y_pred = knn.predict(X_test)\n",
    "pd.crosstab(y_test,y_pred,rownames=['True'],colnames=['Predicted'],margins=True)"
   ]
  },
  {
   "cell_type": "markdown",
   "metadata": {},
   "source": [
    "#### Logistic Regression"
   ]
  },
  {
   "cell_type": "code",
   "execution_count": null,
   "metadata": {
    "collapsed": true
   },
   "outputs": [],
   "source": [
    "from sklearn.linear_model import LogisticRegression\n",
    "\n",
    "lr = LogisticRegression()\n",
    "\n",
    "start_time=time.time()\n",
    "lr.fit(X_train,y_train)\n",
    "t = (time.time() - start_time)\n",
    "print(\"--- %s seconds ---\" % t)\n",
    "run_time.append(t)\n",
    "\n",
    "lr_scores = cross_val_score(lr,X_test,y_test,cv=5)\n",
    "\n",
    "lr_score = np.mean(lr_scores)\n",
    "scores.append(lr_score)\n",
    "model.append(\"Logistic Regression\")\n",
    "print(lr_score)\n",
    "\n",
    "y_pred = lr.predict(X_test)\n",
    "pd.crosstab(y_test,y_pred,rownames=['True'],colnames=['Predicted'],margins=True)"
   ]
  },
  {
   "cell_type": "markdown",
   "metadata": {},
   "source": [
    "#### SVM"
   ]
  },
  {
   "cell_type": "code",
   "execution_count": null,
   "metadata": {
    "collapsed": true
   },
   "outputs": [],
   "source": [
    "from sklearn.svm import SVC\n",
    "\n",
    "svc = SVC(C=1000000)\n",
    "\n",
    "start_time=time.time()\n",
    "svc.fit(X_train,y_train)\n",
    "t = (time.time() - start_time)\n",
    "print(\"--- %s seconds ---\" % t)\n",
    "run_time.append(t)\n",
    "\n",
    "\n",
    "svc_scores = cross_val_score(svc,X_test,y_test,cv=5)\n",
    "\n",
    "\n",
    "svc_score = np.mean(svc_scores)\n",
    "scores.append(svc_score)\n",
    "model.append(\"SVC\")\n",
    "print(svc_score)\n",
    "\n",
    "y_pred = svc.predict(X_test)\n",
    "pd.crosstab(y_test,y_pred,rownames=['True'],colnames=['Predicted'],margins=True)"
   ]
  },
  {
   "cell_type": "markdown",
   "metadata": {},
   "source": [
    "#### Boosting"
   ]
  },
  {
   "cell_type": "code",
   "execution_count": null,
   "metadata": {
    "collapsed": true
   },
   "outputs": [],
   "source": [
    "from sklearn import grid_search\n",
    "\n",
    "gradient_boost = ensemble.GradientBoostingClassifier()\n",
    "parameters = {'n_estimators':list(range(1,501,50)),'max_depth':list(range(1,11,2)),'loss':('exponential','deviance')}\n",
    "gs = grid_search.GridSearchCV(gradient_boost, parameters,cv= 3,scoring=\"accuracy\")\n",
    "gs.fit(X_train,y_train)\n",
    "\n",
    "clf = ensemble.GradientBoostingClassifier(**gs.best_params_)\n",
    "\n",
    "start_time = time.time()\n",
    "clf.fit(X_train, y_train)\n",
    "t = (time.time() - start_time)\n",
    "print(\"--- %s seconds ---\" % t)\n",
    "run_time.append(t)\n",
    "clf_scores = cross_val_score(clf,X_test,y_test,cv=5)\n",
    "\n",
    "clf_score = np.mean(clf_scores)\n",
    "scores.append(clf_score)\n",
    "model.append(\"Boosting\")\n",
    "print(clf_score)\n",
    "\n",
    "y_pred = clf.predict(X_test)\n",
    "pd.crosstab(y_test,y_pred,rownames=['True'],colnames=['Predicted'],margins=True)"
   ]
  },
  {
   "cell_type": "markdown",
   "metadata": {},
   "source": [
    "## Evaluation"
   ]
  },
  {
   "cell_type": "code",
   "execution_count": null,
   "metadata": {
    "collapsed": true
   },
   "outputs": [],
   "source": [
    "results = pd.DataFrame()\n",
    "results['scores'] = scores\n",
    "results['model'] = model\n",
    "results['run_time'] = run_time\n",
    "\n",
    "results = results.sort_values(by=['scores'])"
   ]
  },
  {
   "cell_type": "code",
   "execution_count": null,
   "metadata": {
    "collapsed": true
   },
   "outputs": [],
   "source": [
    "sns.barplot(x=results['scores'],y=results['model'])\n",
    "plt.xlabel(\"Accuracy\")\n",
    "plt.ylabel(\"Model\")\n",
    "plt.title(\"Model Accuracy vs. Performance\")"
   ]
  },
  {
   "cell_type": "code",
   "execution_count": null,
   "metadata": {
    "collapsed": true
   },
   "outputs": [],
   "source": [
    "sns.barplot(x=results['run_time'],y=results['model'])\n",
    "plt.xlabel(\"Run time\")\n",
    "plt.ylabel(\"Model\")\n",
    "plt.title(\"Model Accuracy vs. Run time\")"
   ]
  },
  {
   "cell_type": "code",
   "execution_count": null,
   "metadata": {
    "collapsed": true
   },
   "outputs": [],
   "source": []
  }
 ],
 "metadata": {
  "kernelspec": {
   "display_name": "Python 3",
   "language": "python",
   "name": "python3"
  },
  "language_info": {
   "codemirror_mode": {
    "name": "ipython",
    "version": 3
   },
   "file_extension": ".py",
   "mimetype": "text/x-python",
   "name": "python",
   "nbconvert_exporter": "python",
   "pygments_lexer": "ipython3",
   "version": "3.6.4"
  }
 },
 "nbformat": 4,
 "nbformat_minor": 2
}
