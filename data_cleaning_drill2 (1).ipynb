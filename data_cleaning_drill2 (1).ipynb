{
 "cells": [
  {
   "cell_type": "markdown",
   "metadata": {},
   "source": [
    "# Data Cleaning Drill\n",
    "\n",
    "Determine the five most common journals and the total articles for each. Next, calculate the mean, median, and standard deviation of the open-access cost per article for each journal "
   ]
  },
  {
   "cell_type": "code",
   "execution_count": 83,
   "metadata": {
    "collapsed": true
   },
   "outputs": [],
   "source": [
    "import pandas as pd\n",
    "import numpy as np\n",
    "from fuzzywuzzy import fuzz\n",
    "from fuzzywuzzy import process\n",
    "import difflib\n",
    "import itertools\n",
    "import Levenshtein\n",
    "import nltk\n",
    "from nltk.corpus import stopwords\n",
    "import string\n",
    "import scipy.stats\n",
    "import statistics"
   ]
  },
  {
   "cell_type": "code",
   "execution_count": 59,
   "metadata": {
    "collapsed": true
   },
   "outputs": [],
   "source": [
    "def sim_pairs(list):\n",
    "    for pair in itertools.combinations(set(list),2):\n",
    "        similarity = fuzz.partial_ratio(pair[0],pair[1])\n",
    "        if similarity >= 90:\n",
    "            print(pair, round(similarity,2))\n",
    "            \n",
    "def sim_pairs2(list):\n",
    "    for pair in itertools.combinations(set(list),2):\n",
    "        similarity = fuzz.token_sort_ratio(pair[0],pair[1])\n",
    "        if similarity >= 90:\n",
    "            print(pair, round(similarity,2))\n",
    "\n",
    "def text_consolidate(list,df,sensitivity):\n",
    "    for pair in itertools.combinations(set(list),2):\n",
    "        similarity = fuzz.partial_ratio(pair[0],pair[1])\n",
    "        if similarity >= sensitivity:\n",
    "            df.loc[df.str.contains(pair[1])] = pair[0]\n",
    "            \n",
    "def text_consolidate2(list,df,sensitivity):\n",
    "    for pair in itertools.combinations(set(list),2):\n",
    "        similarity = fuzz.token_sort_ratio(pair[0],pair[1])\n",
    "        if similarity >= sensitivity:\n",
    "            df.loc[df.str.contains(pair[1])] = pair[0]\n",
    "            \n",
    "            "
   ]
  },
  {
   "cell_type": "code",
   "execution_count": 60,
   "metadata": {
    "collapsed": true
   },
   "outputs": [],
   "source": [
    "df = pd.read_csv('WELLCOME2.csv',encoding='latin1')"
   ]
  },
  {
   "cell_type": "code",
   "execution_count": 61,
   "metadata": {
    "collapsed": true
   },
   "outputs": [],
   "source": [
    "df = df.replace(np.nan,'',regex=True)"
   ]
  },
  {
   "cell_type": "code",
   "execution_count": 62,
   "metadata": {
    "collapsed": true
   },
   "outputs": [],
   "source": [
    "df = df.rename(columns={'PMID/PMCID': 'pmid/pmcid', \n",
    "                        'Publisher': 'publisher',\n",
    "                        'Journal title': 'journal_title',\n",
    "                        'Article title': 'article_title',\n",
    "                        'COST (£) charged to Wellcome (inc VAT when charged)': 'wellcome_charge',\n",
    "                        })"
   ]
  },
  {
   "cell_type": "code",
   "execution_count": 63,
   "metadata": {
    "collapsed": false,
    "scrolled": true
   },
   "outputs": [
    {
     "name": "stderr",
     "output_type": "stream",
     "text": [
      "/Users/wliao/anaconda/lib/python3.6/site-packages/ipykernel/__main__.py:1: FutureWarning: currently extract(expand=None) means expand=False (return Index/Series/DataFrame) but in a future version of pandas this will be changed to expand=True (return DataFrame)\n",
      "  if __name__ == '__main__':\n"
     ]
    }
   ],
   "source": [
    "df['pmid/pmcid'] = df['pmid/pmcid'].str.extract('(\\d+)')"
   ]
  },
  {
   "cell_type": "code",
   "execution_count": 64,
   "metadata": {
    "collapsed": true
   },
   "outputs": [],
   "source": [
    "df['publisher'] = df['publisher'].str.strip()\n",
    "df['publisher'] = df['publisher'].str.lower()\n",
    "df['publisher'] = df['publisher'].str.replace('[^\\w\\s]','')\n",
    "df['journal_title'] = df['journal_title'].str.strip()\n",
    "df['journal_title'] = df['journal_title'].str.lower()\n",
    "df['journal_title'] = df['journal_title'].str.replace('[^\\w\\s]','')"
   ]
  },
  {
   "cell_type": "code",
   "execution_count": 65,
   "metadata": {
    "collapsed": true
   },
   "outputs": [],
   "source": [
    "df['wellcome_charge'] = df['wellcome_charge'].replace({'\\£':''}, regex = True)"
   ]
  },
  {
   "cell_type": "code",
   "execution_count": 66,
   "metadata": {
    "collapsed": true
   },
   "outputs": [],
   "source": [
    "df['wellcome_charge'] = pd.to_numeric(df['wellcome_charge'],errors='coerce')"
   ]
  },
  {
   "cell_type": "code",
   "execution_count": 67,
   "metadata": {
    "collapsed": false
   },
   "outputs": [],
   "source": [
    "df['wellcome_charge'] = scipy.stats.mstats.winsorize(df['wellcome_charge'],limits=[0.05,0.05])"
   ]
  },
  {
   "cell_type": "code",
   "execution_count": 68,
   "metadata": {
    "collapsed": true
   },
   "outputs": [],
   "source": [
    "df.loc[df['publisher'].str.contains('bmc')] = 'biomed central'\n",
    "#df.loc[df['publisher'].str.contains('oup')] = 'oxford university press'\n",
    "df.loc[df['publisher'].str.contains('plos')] = 'public library of science'\n",
    "#df.loc[df['publisher'].str.contains('wlieyblackwell')] = 'wiley'\n",
    "\n",
    "incorrect_to_correct = {'acs publications':'american chemical society publications','bmc':'biomed central', 'oup':'oxford university press', 'plos':'public library of science','acs':'american chemical society'}\n",
    "df.publisher = df.publisher.replace(incorrect_to_correct)"
   ]
  },
  {
   "cell_type": "code",
   "execution_count": 69,
   "metadata": {
    "collapsed": false
   },
   "outputs": [
    {
     "data": {
      "text/html": [
       "<div>\n",
       "<style>\n",
       "    .dataframe thead tr:only-child th {\n",
       "        text-align: right;\n",
       "    }\n",
       "\n",
       "    .dataframe thead th {\n",
       "        text-align: left;\n",
       "    }\n",
       "\n",
       "    .dataframe tbody tr th {\n",
       "        vertical-align: top;\n",
       "    }\n",
       "</style>\n",
       "<table border=\"1\" class=\"dataframe\">\n",
       "  <thead>\n",
       "    <tr style=\"text-align: right;\">\n",
       "      <th></th>\n",
       "      <th>pmid/pmcid</th>\n",
       "      <th>publisher</th>\n",
       "      <th>journal_title</th>\n",
       "      <th>article_title</th>\n",
       "      <th>wellcome_charge</th>\n",
       "    </tr>\n",
       "  </thead>\n",
       "  <tbody>\n",
       "    <tr>\n",
       "      <th>0</th>\n",
       "      <td>NaN</td>\n",
       "      <td>cup</td>\n",
       "      <td>psychological medicine</td>\n",
       "      <td>Reduced parahippocampal cortical thickness in ...</td>\n",
       "      <td>741.35</td>\n",
       "    </tr>\n",
       "    <tr>\n",
       "      <th>1</th>\n",
       "      <td>3679557</td>\n",
       "      <td>american chemical society</td>\n",
       "      <td>biomacromolecules</td>\n",
       "      <td>Structural characterization of a Model Gram-ne...</td>\n",
       "      <td>2381.04</td>\n",
       "    </tr>\n",
       "    <tr>\n",
       "      <th>2</th>\n",
       "      <td>23043264</td>\n",
       "      <td>american chemical society</td>\n",
       "      <td>j med chem</td>\n",
       "      <td>Fumaroylamino-4,5-epoxymorphinans and related ...</td>\n",
       "      <td>741.35</td>\n",
       "    </tr>\n",
       "    <tr>\n",
       "      <th>3</th>\n",
       "      <td>23438330</td>\n",
       "      <td>american chemical society</td>\n",
       "      <td>j med chem</td>\n",
       "      <td>Orvinols with mixed kappa/mu opioid receptor a...</td>\n",
       "      <td>741.35</td>\n",
       "    </tr>\n",
       "    <tr>\n",
       "      <th>4</th>\n",
       "      <td>23438216</td>\n",
       "      <td>american chemical society</td>\n",
       "      <td>j org chem</td>\n",
       "      <td>Regioselective opening of myo-inositol orthoes...</td>\n",
       "      <td>741.35</td>\n",
       "    </tr>\n",
       "    <tr>\n",
       "      <th>5</th>\n",
       "      <td>3579457</td>\n",
       "      <td>american chemical society</td>\n",
       "      <td>journal of medicinal chemistry</td>\n",
       "      <td>Comparative Structural and Functional Studies ...</td>\n",
       "      <td>2392.2</td>\n",
       "    </tr>\n",
       "    <tr>\n",
       "      <th>6</th>\n",
       "      <td>3709265</td>\n",
       "      <td>american chemical society</td>\n",
       "      <td>journal of proteome research</td>\n",
       "      <td>Mapping Proteolytic Processing in the Secretom...</td>\n",
       "      <td>2367.95</td>\n",
       "    </tr>\n",
       "    <tr>\n",
       "      <th>7</th>\n",
       "      <td>23057412</td>\n",
       "      <td>american chemical society</td>\n",
       "      <td>mol pharm</td>\n",
       "      <td>Quantitative silencing of EGFP reporter gene b...</td>\n",
       "      <td>741.35</td>\n",
       "    </tr>\n",
       "    <tr>\n",
       "      <th>8</th>\n",
       "      <td>3780468</td>\n",
       "      <td>acs amercian chemical society publications</td>\n",
       "      <td>acs chemical biology</td>\n",
       "      <td>A Novel Allosteric Inhibitor of the Uridine Di...</td>\n",
       "      <td>1294.59</td>\n",
       "    </tr>\n",
       "    <tr>\n",
       "      <th>9</th>\n",
       "      <td>3621575</td>\n",
       "      <td>acs amercian chemical society publications</td>\n",
       "      <td>acs chemical biology</td>\n",
       "      <td>Chemical proteomic analysis reveals the drugab...</td>\n",
       "      <td>1294.78</td>\n",
       "    </tr>\n",
       "    <tr>\n",
       "      <th>10</th>\n",
       "      <td>3739413</td>\n",
       "      <td>acs amercian chemical society publications</td>\n",
       "      <td>journal of chemical information and modeling</td>\n",
       "      <td>Locating Sweet Spots for Screening Hits and Ev...</td>\n",
       "      <td>1329.69</td>\n",
       "    </tr>\n",
       "    <tr>\n",
       "      <th>11</th>\n",
       "      <td>3530961</td>\n",
       "      <td>acs amercian chemical society publications</td>\n",
       "      <td>journal of medicinal chemistry</td>\n",
       "      <td>Synthesis and evaluation of ?-thymidine analog...</td>\n",
       "      <td>1287.2</td>\n",
       "    </tr>\n",
       "    <tr>\n",
       "      <th>12</th>\n",
       "      <td>3624797</td>\n",
       "      <td>acs amercian chemical society publications</td>\n",
       "      <td>journal of medicinal chemistry</td>\n",
       "      <td>Discovery and structure-activity relationships...</td>\n",
       "      <td>1324.66</td>\n",
       "    </tr>\n",
       "    <tr>\n",
       "      <th>13</th>\n",
       "      <td>3413243</td>\n",
       "      <td>american chemical society publications</td>\n",
       "      <td>biochemistry</td>\n",
       "      <td>Monomeric 14-3-3 has a chaperone-like activity...</td>\n",
       "      <td>741.35</td>\n",
       "    </tr>\n",
       "    <tr>\n",
       "      <th>14</th>\n",
       "      <td>3694353</td>\n",
       "      <td>american chemical society publications</td>\n",
       "      <td>journal of medicinal chemistry</td>\n",
       "      <td>Synthesis and in vitro and in vivo characteriz...</td>\n",
       "      <td>1006.72</td>\n",
       "    </tr>\n",
       "  </tbody>\n",
       "</table>\n",
       "</div>"
      ],
      "text/plain": [
       "   pmid/pmcid                                   publisher  \\\n",
       "0         NaN                                         cup   \n",
       "1     3679557                   american chemical society   \n",
       "2    23043264                   american chemical society   \n",
       "3    23438330                   american chemical society   \n",
       "4    23438216                   american chemical society   \n",
       "5     3579457                   american chemical society   \n",
       "6     3709265                   american chemical society   \n",
       "7    23057412                   american chemical society   \n",
       "8     3780468  acs amercian chemical society publications   \n",
       "9     3621575  acs amercian chemical society publications   \n",
       "10    3739413  acs amercian chemical society publications   \n",
       "11    3530961  acs amercian chemical society publications   \n",
       "12    3624797  acs amercian chemical society publications   \n",
       "13    3413243      american chemical society publications   \n",
       "14    3694353      american chemical society publications   \n",
       "\n",
       "                                   journal_title  \\\n",
       "0                         psychological medicine   \n",
       "1                              biomacromolecules   \n",
       "2                                     j med chem   \n",
       "3                                     j med chem   \n",
       "4                                     j org chem   \n",
       "5                 journal of medicinal chemistry   \n",
       "6                   journal of proteome research   \n",
       "7                                      mol pharm   \n",
       "8                           acs chemical biology   \n",
       "9                           acs chemical biology   \n",
       "10  journal of chemical information and modeling   \n",
       "11                journal of medicinal chemistry   \n",
       "12                journal of medicinal chemistry   \n",
       "13                                  biochemistry   \n",
       "14                journal of medicinal chemistry   \n",
       "\n",
       "                                        article_title wellcome_charge  \n",
       "0   Reduced parahippocampal cortical thickness in ...          741.35  \n",
       "1   Structural characterization of a Model Gram-ne...         2381.04  \n",
       "2   Fumaroylamino-4,5-epoxymorphinans and related ...          741.35  \n",
       "3   Orvinols with mixed kappa/mu opioid receptor a...          741.35  \n",
       "4   Regioselective opening of myo-inositol orthoes...          741.35  \n",
       "5   Comparative Structural and Functional Studies ...          2392.2  \n",
       "6   Mapping Proteolytic Processing in the Secretom...         2367.95  \n",
       "7   Quantitative silencing of EGFP reporter gene b...          741.35  \n",
       "8   A Novel Allosteric Inhibitor of the Uridine Di...         1294.59  \n",
       "9   Chemical proteomic analysis reveals the drugab...         1294.78  \n",
       "10  Locating Sweet Spots for Screening Hits and Ev...         1329.69  \n",
       "11  Synthesis and evaluation of ?-thymidine analog...          1287.2  \n",
       "12  Discovery and structure-activity relationships...         1324.66  \n",
       "13  Monomeric 14-3-3 has a chaperone-like activity...          741.35  \n",
       "14  Synthesis and in vitro and in vivo characteriz...         1006.72  "
      ]
     },
     "execution_count": 69,
     "metadata": {},
     "output_type": "execute_result"
    }
   ],
   "source": [
    "df.head(15)"
   ]
  },
  {
   "cell_type": "code",
   "execution_count": 70,
   "metadata": {
    "collapsed": false
   },
   "outputs": [],
   "source": [
    "text_consolidate(df['publisher'],df['publisher'],90)"
   ]
  },
  {
   "cell_type": "code",
   "execution_count": 71,
   "metadata": {
    "collapsed": false,
    "scrolled": true
   },
   "outputs": [],
   "source": [
    "text_consolidate2(df['journal_title'],df['journal_title'],90)"
   ]
  },
  {
   "cell_type": "code",
   "execution_count": 72,
   "metadata": {
    "collapsed": false,
    "scrolled": true
   },
   "outputs": [
    {
     "data": {
      "text/plain": [
       "plos  one                                                                170\n",
       "biologicial chemistry                                                     66\n",
       "neuroimage                                                                31\n",
       "public library of science                                                 31\n",
       "proceddings of the national academy of sciences of usa                    29\n",
       "nucleic acid research                                                     29\n",
       "biomed central                                                            28\n",
       "plos neglected tropical diseases                                          23\n",
       "plos pathogens                                                            22\n",
       "plos genetics                                                             20\n",
       "nature communications                                                     19\n",
       "human molecular genetics                                                  19\n",
       "biochemical journals                                                      15\n",
       "movement disorders                                                        15\n",
       "journal of neuroscience                                                   15\n",
       "brain                                                                     14\n",
       "developmental cell                                                        13\n",
       "the journal of immunology                                                 12\n",
       "journal of general virology                                               11\n",
       "current biology                                                           11\n",
       "virology journal                                                          10\n",
       "the americal journal of human genetics                                    10\n",
       "bmj                                                                       10\n",
       "neuron                                                                     9\n",
       "development                                                                9\n",
       "bmj open                                                                   9\n",
       "plos  computational biology                                                9\n",
       "journal of physiology                                                      9\n",
       "cell reports                                                               9\n",
       "biinformatics                                                              9\n",
       "                                                                        ... \n",
       "journal of molecular neuroscience                                          1\n",
       "osteoporosis international                                                 1\n",
       "current opinion microbiology                                               1\n",
       "acta dermato venereologica                                                 1\n",
       "neuroepidemiology                                                          1\n",
       "j org chem                                                                 1\n",
       "cytoskeleton                                                               1\n",
       "rapid communications in mass spectrometry                                  1\n",
       "nitric oxide                                                               1\n",
       "ecology letters                                                            1\n",
       "seminars in oncology                                                       1\n",
       "calcified tissue international                                             1\n",
       "journal of endocrinology                                                   1\n",
       "bba  molecular basis of disease                                            1\n",
       "molecular pain                                                             1\n",
       "british journal of ophthalmology                                           1\n",
       "protemics                                                                  1\n",
       "acta opthalmologica                                                        1\n",
       "biomacromolecules                                                          1\n",
       "international journal of applied earth observation and geoinformation      1\n",
       "aids journal                                                               1\n",
       "journal of internal medicine                                               1\n",
       "neurophysiologia                                                           1\n",
       "journal of alzheimer disease                                               1\n",
       "cell host and microbe                                                      1\n",
       "cell host  microbe                                                         1\n",
       "journal of mechanisms of ageing and development                            1\n",
       "arthritis research  therapy                                                1\n",
       "journal of biomedical graphics and computing                               1\n",
       "                                                                           1\n",
       "Name: journal_title, Length: 780, dtype: int64"
      ]
     },
     "execution_count": 72,
     "metadata": {},
     "output_type": "execute_result"
    }
   ],
   "source": [
    "df['journal_title'].value_counts() "
   ]
  },
  {
   "cell_type": "raw",
   "metadata": {},
   "source": [
    "5 most common journals and # of articles\n",
    "plos  one                                                                170\n",
    "biologicial chemistry                                                     66\n",
    "neuroimage                                                                31\n",
    "proceddings of the national academy of sciences of usa                    29\n",
    "nucleic acid research                                                     29"
   ]
  },
  {
   "cell_type": "code",
   "execution_count": 78,
   "metadata": {
    "collapsed": true
   },
   "outputs": [],
   "source": [
    "plos_one = df[df['journal_title'].str.contains(\"plos  one\")]\n",
    "neuroimage = df[df['journal_title'].str.contains(\"neuroimage\")]\n",
    "nar = df[df['journal_title'].str.contains(\"nucleic acid research\")]\n",
    "bc = df[df['journal_title'].str.contains(\"biologicial chemistry\")]\n",
    "nas = df[df['journal_title'].str.contains(\"proceddings of the national academy of sciences of usa\")]"
   ]
  },
  {
   "cell_type": "code",
   "execution_count": 79,
   "metadata": {
    "collapsed": false
   },
   "outputs": [
    {
     "name": "stdout",
     "output_type": "stream",
     "text": [
      "1087.09717647\n",
      "2057.31805556\n",
      "1164.50689655\n",
      "1465.31257576\n",
      "854.59137931\n"
     ]
    }
   ],
   "source": [
    "print(plos_one['wellcome_charge'].mean())\n",
    "print(neuroimage['wellcome_charge'].mean())\n",
    "print(nar['wellcome_charge'].mean())\n",
    "print(bc['wellcome_charge'].mean())\n",
    "print(nas['wellcome_charge'].mean())"
   ]
  },
  {
   "cell_type": "code",
   "execution_count": 81,
   "metadata": {
    "collapsed": false
   },
   "outputs": [
    {
     "name": "stdout",
     "output_type": "stream",
     "text": [
      "644.53595114\n",
      "466.871610414\n",
      "439.928346179\n",
      "567.752152633\n",
      "366.51309684\n"
     ]
    }
   ],
   "source": [
    "print(plos_one['wellcome_charge'].std())\n",
    "print(neuroimage['wellcome_charge'].std())\n",
    "print(nar['wellcome_charge'].std())\n",
    "print(bc['wellcome_charge'].std())\n",
    "print(nas['wellcome_charge'].std())"
   ]
  },
  {
   "cell_type": "code",
   "execution_count": 93,
   "metadata": {
    "collapsed": false
   },
   "outputs": [
    {
     "name": "stdout",
     "output_type": "stream",
     "text": [
      "896.6400000000001\n",
      "2289.245\n",
      "852.0\n",
      "1299.74\n",
      "751.84\n"
     ]
    }
   ],
   "source": [
    "print(statistics.median(plos_one['wellcome_charge']))\n",
    "print(statistics.median(neuroimage['wellcome_charge']))\n",
    "print(statistics.median(nar['wellcome_charge']))\n",
    "print(statistics.median(bc['wellcome_charge']))\n",
    "print(statistics.median(nas['wellcome_charge']))"
   ]
  },
  {
   "cell_type": "code",
   "execution_count": null,
   "metadata": {
    "collapsed": false
   },
   "outputs": [],
   "source": [
    "sim_pairs(df['publisher'])"
   ]
  },
  {
   "cell_type": "code",
   "execution_count": null,
   "metadata": {
    "collapsed": false,
    "scrolled": true
   },
   "outputs": [],
   "source": [
    "df['journal_title'].value_counts() "
   ]
  },
  {
   "cell_type": "code",
   "execution_count": null,
   "metadata": {
    "collapsed": true
   },
   "outputs": [],
   "source": [
    "sim_pairs2(df['journal_title'])"
   ]
  }
 ],
 "metadata": {
  "kernelspec": {
   "display_name": "Python 3",
   "language": "python",
   "name": "python3"
  },
  "language_info": {
   "codemirror_mode": {
    "name": "ipython",
    "version": 3
   },
   "file_extension": ".py",
   "mimetype": "text/x-python",
   "name": "python",
   "nbconvert_exporter": "python",
   "pygments_lexer": "ipython3",
   "version": "3.6.0"
  }
 },
 "nbformat": 4,
 "nbformat_minor": 2
}
