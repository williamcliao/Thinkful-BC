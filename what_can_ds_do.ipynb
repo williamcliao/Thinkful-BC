{
 "cells": [
  {
   "cell_type": "markdown",
   "metadata": {},
   "source": [
    "### You work at an e-commerce company that sells three goods: widgets, doodads, and fizzbangs. The head of advertising asks you which they should feature in their new advertising campaign. You have data on individual visitors' sessions (activity on a website, pageviews, and purchases, as well as if those users converted from an advertisement for that session. You also have the cost and price information for the goods.\n",
    "\n",
    "Business question: What should I advertise?\n",
    "\n",
    "Key parameters: Whatever I choose to advertise should represent the greatest business opportunity, which should be quantified in dollars. \n",
    "\n",
    "Use page views to determine what product pages people are organically visiting. \n",
    "\n",
    "Use advertisement conversion to determine what products people are being called to view and how effective they are at eliciting clicks. \n",
    "\n",
    "Use product cost and price to determine 1) activation rate (users purchase) for each of these contexts and 2) what the overall profit is. \n",
    "\n",
    "Once these data are tabulated, I would go through two processes of assessment. \n",
    "\n",
    "First, I would identify products that meet the following criteria: \n",
    "1)\tLow page views, high activation. \n",
    "2)\tHigh page views, low activation. \n",
    "3)\tHigh advertisement conversion, low activation. \n",
    "\n",
    "To validate truly low/high page views and truly low/high activation, I would conduct a t-test to validate the significance of the aforementioned metrics. \n",
    "\n",
    "The second phase is to use product cost and price to evaluate the value proposition afforded by advertising these products and from there I would recommend whichever product is most likely to yield the greatest financial gain for the company. \n",
    "\n",
    "\n",
    "### You work at a web design company that offers to build websites for clients. Signups have slowed, and you are tasked with finding out why. The onboarding funnel has three steps: email and password signup, plan choice, and payment. On a user level you have information on what steps they have completed as well as timestamps for all of those events for the past 3 years. You also have information on marketing spend on a weekly level.\n",
    "\n",
    "As a preliminary assessment, I would look at where drop off occurs the most within the funnel. Once I have a good sense of what this looks like, I would take a more granular approach and see if up-ticks in marketing spend coincide with fewer drop off rates/faster funnel conversion. \n",
    "\n",
    "With this information in mind, I would be able to make two types of recommendations: 1) I would know where in the funnel it may be of value to do some A/B testing to see if we can optimize funnel conversion and reduce drop off and 2) suggest where within the respective funnel phase increasing marketing spend might also be a mitigating factor. \n",
    "\n",
    "I would conduct a t-test to validate 1) significance of drop off at a given point in the funnel and 2) the perceived spike in drop off reduction after marketing spend is introduced. \n",
    "\n",
    "\n",
    "### You work at a hotel website and currently the website ranks search results by price. For simplicity's sake, let's say it's a website for one city with 100 hotels. You are tasked with proposing a better ranking system. You have session information, price information for the hotels, and whether each hotel is currently available.\n",
    "Assuming the website’s users value cheap, available rooms, I would use availability and price as the two deciding factors for what order hotels are listed. \n",
    "The following rules would apply: \n",
    "-\tAll hotels that are available should supersede hotels with no availability. \n",
    "-\tThe cheapest hotel should always supersede more expensive options. \n",
    "1.\tIf multiple options at the same price point are available, they’ll be listed in alphabetical order. \n",
    "\n",
    "To see whether this new ranking system is of greater value to the end-user, I would evaluate session information 3, 6 and 18 months after implementation. I would conduct a t-test to see if the spike in session occurrence and session duration is significant relative to historical session occurrence/duration. \n",
    "\n",
    "### You work at a social network, and the management is worried about churn (users stopping using the product). You are tasked with finding out if their churn is atypical. You have three years of data for users with an entry for every time they've logged in, including the timestamp and length of session.\n",
    "\n",
    "To establish whether the current churn rate is atypical, I would first establish what the social network’s typical churn rate looks like. \n",
    "\n",
    "To determine this, I would first need to define how I will calculate churn. In this case, I’ll determine churn by existing customers who drop off within a month divided by the total number of customers in a month. \n",
    "\n",
    "Existing customers are defined as users who login at least once each month. Customers dropping off the platform are defined as any customer who doesn’t meet this requirement. \n",
    "\n",
    "I would query the available data to get the churn rate by each month. I would then conduct a t-test to assess whether the churn rate is significantly different relative to churn over the last 33 months.  \n",
    "\n",
    "\n"
   ]
  },
  {
   "cell_type": "code",
   "execution_count": null,
   "metadata": {
    "collapsed": true
   },
   "outputs": [],
   "source": []
  }
 ],
 "metadata": {
  "kernelspec": {
   "display_name": "Python 3",
   "language": "python",
   "name": "python3"
  },
  "language_info": {
   "codemirror_mode": {
    "name": "ipython",
    "version": 3
   },
   "file_extension": ".py",
   "mimetype": "text/x-python",
   "name": "python",
   "nbconvert_exporter": "python",
   "pygments_lexer": "ipython3",
   "version": "3.6.0"
  }
 },
 "nbformat": 4,
 "nbformat_minor": 2
}
