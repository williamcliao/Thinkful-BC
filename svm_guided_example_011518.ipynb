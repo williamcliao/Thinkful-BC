{
 "cells": [
  {
   "cell_type": "markdown",
   "metadata": {},
   "source": [
    "# SVM Guided Example + Challenge\n",
    "\n",
    "https://www.svm-tutorial.com/"
   ]
  },
  {
   "cell_type": "code",
   "execution_count": 1,
   "metadata": {
    "collapsed": false
   },
   "outputs": [
    {
     "name": "stderr",
     "output_type": "stream",
     "text": [
      "/Users/wliao/anaconda/lib/python3.6/site-packages/statsmodels/compat/pandas.py:56: FutureWarning: The pandas.core.datetools module is deprecated and will be removed in a future version. Please use the pandas.tseries module instead.\n",
      "  from pandas.core import datetools\n"
     ]
    }
   ],
   "source": [
    "import numpy as np\n",
    "import pandas as pd\n",
    "import seaborn as sns\n",
    "import matplotlib.pyplot as plt\n",
    "%matplotlib inline\n",
    "from sklearn.model_selection import cross_val_score\n",
    "import statsmodels.api as sm\n",
    "from sklearn.linear_model import LogisticRegression\n",
    "from sklearn.linear_model import LogisticRegressionCV\n",
    "from sklearn import linear_model\n",
    "from sklearn import preprocessing\n",
    "np.set_printoptions(suppress=True)\n",
    "from IPython.display import display\n",
    "pd.options.display.float_format = '{:.3f}'.format"
   ]
  },
  {
   "cell_type": "code",
   "execution_count": 2,
   "metadata": {
    "collapsed": true
   },
   "outputs": [],
   "source": [
    "raw_data = pd.read_csv('epi_r.csv')"
   ]
  },
  {
   "cell_type": "code",
   "execution_count": 3,
   "metadata": {
    "collapsed": false
   },
   "outputs": [
    {
     "data": {
      "text/plain": [
       "['title',\n",
       " 'rating',\n",
       " 'calories',\n",
       " 'protein',\n",
       " 'fat',\n",
       " 'sodium',\n",
       " '#cakeweek',\n",
       " '#wasteless',\n",
       " '22-minute meals',\n",
       " '3-ingredient recipes',\n",
       " '30 days of groceries',\n",
       " 'advance prep required',\n",
       " 'alabama',\n",
       " 'alaska',\n",
       " 'alcoholic',\n",
       " 'almond',\n",
       " 'amaretto',\n",
       " 'anchovy',\n",
       " 'anise',\n",
       " 'anniversary',\n",
       " 'anthony bourdain',\n",
       " 'aperitif',\n",
       " 'appetizer',\n",
       " 'apple',\n",
       " 'apple juice',\n",
       " 'apricot',\n",
       " 'arizona',\n",
       " 'artichoke',\n",
       " 'arugula',\n",
       " 'asian pear',\n",
       " 'asparagus',\n",
       " 'aspen',\n",
       " 'atlanta',\n",
       " 'australia',\n",
       " 'avocado',\n",
       " 'back to school',\n",
       " 'backyard bbq',\n",
       " 'bacon',\n",
       " 'bake',\n",
       " 'banana',\n",
       " 'barley',\n",
       " 'basil',\n",
       " 'bass',\n",
       " 'bastille day',\n",
       " 'bean',\n",
       " 'beef',\n",
       " 'beef rib',\n",
       " 'beef shank',\n",
       " 'beef tenderloin',\n",
       " 'beer',\n",
       " 'beet',\n",
       " 'bell pepper',\n",
       " 'berry',\n",
       " 'beverly hills',\n",
       " 'birthday',\n",
       " 'biscuit',\n",
       " 'bitters',\n",
       " 'blackberry',\n",
       " 'blender',\n",
       " 'blue cheese',\n",
       " 'blueberry',\n",
       " 'boil',\n",
       " 'bok choy',\n",
       " 'bon appétit',\n",
       " 'bon app��tit',\n",
       " 'boston',\n",
       " 'bourbon',\n",
       " 'braise',\n",
       " 'bran',\n",
       " 'brandy',\n",
       " 'bread',\n",
       " 'breadcrumbs',\n",
       " 'breakfast',\n",
       " 'brie',\n",
       " 'brine',\n",
       " 'brisket',\n",
       " 'broccoli',\n",
       " 'broccoli rabe',\n",
       " 'broil',\n",
       " 'brooklyn',\n",
       " 'brown rice',\n",
       " 'brownie',\n",
       " 'brunch',\n",
       " 'brussel sprout',\n",
       " 'buffalo',\n",
       " 'buffet',\n",
       " 'bulgaria',\n",
       " 'bulgur',\n",
       " 'burrito',\n",
       " 'butter',\n",
       " 'buttermilk',\n",
       " 'butternut squash',\n",
       " 'butterscotch/caramel',\n",
       " 'cabbage',\n",
       " 'cake',\n",
       " 'california',\n",
       " 'calvados',\n",
       " 'cambridge',\n",
       " 'campari',\n",
       " 'camping',\n",
       " 'canada',\n",
       " 'candy',\n",
       " 'candy thermometer',\n",
       " 'cantaloupe',\n",
       " 'capers',\n",
       " 'caraway',\n",
       " 'cardamom',\n",
       " 'carrot',\n",
       " 'cashew',\n",
       " 'casserole/gratin',\n",
       " 'cauliflower',\n",
       " 'caviar',\n",
       " 'celery',\n",
       " 'chambord',\n",
       " 'champagne',\n",
       " 'chard',\n",
       " 'chartreuse',\n",
       " 'cheddar',\n",
       " 'cheese',\n",
       " 'cherry',\n",
       " 'chestnut',\n",
       " 'chicago',\n",
       " 'chicken',\n",
       " 'chickpea',\n",
       " 'chile',\n",
       " 'chile pepper',\n",
       " 'chili',\n",
       " 'chill',\n",
       " 'chive',\n",
       " 'chocolate',\n",
       " 'christmas',\n",
       " 'christmas eve',\n",
       " 'cilantro',\n",
       " 'cinco de mayo',\n",
       " 'cinnamon',\n",
       " 'citrus',\n",
       " 'clam',\n",
       " 'clove',\n",
       " 'cobbler/crumble',\n",
       " 'cocktail',\n",
       " 'cocktail party',\n",
       " 'coconut',\n",
       " 'cod',\n",
       " 'coffee',\n",
       " 'coffee grinder',\n",
       " 'cognac/armagnac',\n",
       " 'collard greens',\n",
       " 'colorado',\n",
       " 'columbus',\n",
       " 'condiment',\n",
       " 'condiment/spread',\n",
       " 'connecticut',\n",
       " 'cook like a diner',\n",
       " 'cookbook critic',\n",
       " 'cookie',\n",
       " 'cookies',\n",
       " 'coriander',\n",
       " 'corn',\n",
       " 'cornmeal',\n",
       " 'costa mesa',\n",
       " 'cottage cheese',\n",
       " 'couscous',\n",
       " 'crab',\n",
       " 'cranberry',\n",
       " 'cranberry sauce',\n",
       " 'cream cheese',\n",
       " 'créme de cacao',\n",
       " 'crêpe',\n",
       " 'cr��me de cacao',\n",
       " 'cuba',\n",
       " 'cucumber',\n",
       " 'cumin',\n",
       " 'cupcake',\n",
       " 'currant',\n",
       " 'curry',\n",
       " 'custard',\n",
       " 'dairy',\n",
       " 'dairy free',\n",
       " 'dallas',\n",
       " 'date',\n",
       " 'deep-fry',\n",
       " 'denver',\n",
       " 'dessert',\n",
       " 'digestif',\n",
       " 'dill',\n",
       " 'dinner',\n",
       " 'dip',\n",
       " 'diwali',\n",
       " 'dominican republic',\n",
       " 'dorie greenspan',\n",
       " 'double boiler',\n",
       " 'dried fruit',\n",
       " 'drink',\n",
       " 'drinks',\n",
       " 'duck',\n",
       " 'easter',\n",
       " 'eau de vie',\n",
       " 'edible gift',\n",
       " 'egg',\n",
       " 'egg nog',\n",
       " 'eggplant',\n",
       " 'egypt',\n",
       " 'emeril lagasse',\n",
       " 'endive',\n",
       " 'engagement party',\n",
       " 'england',\n",
       " 'entertaining',\n",
       " 'epi + ushg',\n",
       " 'epi loves the microwave',\n",
       " 'escarole',\n",
       " 'fall',\n",
       " 'family reunion',\n",
       " 'fat free',\n",
       " \"father's day\",\n",
       " 'fennel',\n",
       " 'feta',\n",
       " 'fig',\n",
       " 'fish',\n",
       " 'flaming hot summer',\n",
       " 'flat bread',\n",
       " 'florida',\n",
       " 'fontina',\n",
       " 'food processor',\n",
       " 'fortified wine',\n",
       " 'fourth of july',\n",
       " 'france',\n",
       " 'frangelico',\n",
       " 'frankenrecipe',\n",
       " 'freeze/chill',\n",
       " 'freezer food',\n",
       " 'friendsgiving',\n",
       " 'frittata',\n",
       " 'fritter',\n",
       " 'frozen dessert',\n",
       " 'fruit',\n",
       " 'fruit juice',\n",
       " 'fry',\n",
       " 'game',\n",
       " 'garlic',\n",
       " 'georgia',\n",
       " 'germany',\n",
       " 'gin',\n",
       " 'ginger',\n",
       " 'goat cheese',\n",
       " 'goose',\n",
       " 'gouda',\n",
       " 'gourmet',\n",
       " 'graduation',\n",
       " 'grains',\n",
       " 'grand marnier',\n",
       " 'granola',\n",
       " 'grape',\n",
       " 'grapefruit',\n",
       " 'grappa',\n",
       " 'green bean',\n",
       " 'green onion/scallion',\n",
       " 'grill',\n",
       " 'grill/barbecue',\n",
       " 'ground beef',\n",
       " 'ground lamb',\n",
       " 'guam',\n",
       " 'guava',\n",
       " 'haiti',\n",
       " 'halibut',\n",
       " 'halloween',\n",
       " 'ham',\n",
       " 'hamburger',\n",
       " 'hanukkah',\n",
       " 'harpercollins',\n",
       " 'hawaii',\n",
       " 'hazelnut',\n",
       " 'healdsburg',\n",
       " 'healthy',\n",
       " 'herb',\n",
       " 'high fiber',\n",
       " 'hollywood',\n",
       " 'hominy/cornmeal/masa',\n",
       " 'honey',\n",
       " 'honeydew',\n",
       " \"hors d'oeuvre\",\n",
       " 'horseradish',\n",
       " 'hot drink',\n",
       " 'hot pepper',\n",
       " 'house & garden',\n",
       " 'house cocktail',\n",
       " 'houston',\n",
       " 'hummus',\n",
       " 'ice cream',\n",
       " 'ice cream machine',\n",
       " 'iced coffee',\n",
       " 'iced tea',\n",
       " 'idaho',\n",
       " 'illinois',\n",
       " 'indiana',\n",
       " 'iowa',\n",
       " 'ireland',\n",
       " 'israel',\n",
       " 'italy',\n",
       " 'jalapeño',\n",
       " 'jam or jelly',\n",
       " 'jamaica',\n",
       " 'japan',\n",
       " 'jerusalem artichoke',\n",
       " 'juicer',\n",
       " 'jícama',\n",
       " 'kahlúa',\n",
       " 'kale',\n",
       " 'kansas',\n",
       " 'kansas city',\n",
       " 'kentucky',\n",
       " 'kentucky derby',\n",
       " 'kid-friendly',\n",
       " 'kidney friendly',\n",
       " 'kirsch',\n",
       " 'kitchen olympics',\n",
       " 'kiwi',\n",
       " 'kosher',\n",
       " 'kosher for passover',\n",
       " 'kumquat',\n",
       " 'kwanzaa',\n",
       " 'labor day',\n",
       " 'lamb',\n",
       " 'lamb chop',\n",
       " 'lamb shank',\n",
       " 'lancaster',\n",
       " 'las vegas',\n",
       " 'lasagna',\n",
       " 'leafy green',\n",
       " 'leek',\n",
       " 'legume',\n",
       " 'lemon',\n",
       " 'lemon juice',\n",
       " 'lemongrass',\n",
       " 'lentil',\n",
       " 'lettuce',\n",
       " 'lima bean',\n",
       " 'lime',\n",
       " 'lime juice',\n",
       " 'lingonberry',\n",
       " 'liqueur',\n",
       " 'lobster',\n",
       " 'london',\n",
       " 'long beach',\n",
       " 'los angeles',\n",
       " 'louisiana',\n",
       " 'louisville',\n",
       " 'low cal',\n",
       " 'low carb',\n",
       " 'low cholesterol',\n",
       " 'low fat',\n",
       " 'low sodium',\n",
       " 'low sugar',\n",
       " 'low/no sugar',\n",
       " 'lunar new year',\n",
       " 'lunch',\n",
       " 'lychee',\n",
       " 'macadamia nut',\n",
       " 'macaroni and cheese',\n",
       " 'maine',\n",
       " 'mandoline',\n",
       " 'mango',\n",
       " 'maple syrup',\n",
       " 'mardi gras',\n",
       " 'margarita',\n",
       " 'marinade',\n",
       " 'marinate',\n",
       " 'marsala',\n",
       " 'marscarpone',\n",
       " 'marshmallow',\n",
       " 'martini',\n",
       " 'maryland',\n",
       " 'massachusetts',\n",
       " 'mayonnaise',\n",
       " 'meat',\n",
       " 'meatball',\n",
       " 'meatloaf',\n",
       " 'melon',\n",
       " 'mexico',\n",
       " 'mezcal',\n",
       " 'miami',\n",
       " 'michigan',\n",
       " 'microwave',\n",
       " 'midori',\n",
       " 'milk/cream',\n",
       " 'minneapolis',\n",
       " 'minnesota',\n",
       " 'mint',\n",
       " 'mississippi',\n",
       " 'missouri',\n",
       " 'mixer',\n",
       " 'molasses',\n",
       " 'monterey jack',\n",
       " 'mortar and pestle',\n",
       " \"mother's day\",\n",
       " 'mozzarella',\n",
       " 'muffin',\n",
       " 'mushroom',\n",
       " 'mussel',\n",
       " 'mustard',\n",
       " 'mustard greens',\n",
       " 'nancy silverton',\n",
       " 'nebraska',\n",
       " 'nectarine',\n",
       " 'new hampshire',\n",
       " 'new jersey',\n",
       " 'new mexico',\n",
       " 'new orleans',\n",
       " \"new year's day\",\n",
       " \"new year's eve\",\n",
       " 'new york',\n",
       " 'no meat, no problem',\n",
       " 'no sugar added',\n",
       " 'no-cook',\n",
       " 'non-alcoholic',\n",
       " 'noodle',\n",
       " 'north carolina',\n",
       " 'nut',\n",
       " 'nutmeg',\n",
       " 'oat',\n",
       " 'oatmeal',\n",
       " 'octopus',\n",
       " 'ohio',\n",
       " 'oklahoma',\n",
       " 'okra',\n",
       " 'oktoberfest',\n",
       " 'olive',\n",
       " 'omelet',\n",
       " 'one-pot meal',\n",
       " 'onion',\n",
       " 'orange',\n",
       " 'orange juice',\n",
       " 'oregano',\n",
       " 'oregon',\n",
       " 'organic',\n",
       " 'orzo',\n",
       " 'oscars',\n",
       " 'oyster',\n",
       " 'pacific palisades',\n",
       " 'paleo',\n",
       " 'pan-fry',\n",
       " 'pancake',\n",
       " 'papaya',\n",
       " 'paprika',\n",
       " 'parade',\n",
       " 'paris',\n",
       " 'parmesan',\n",
       " 'parsley',\n",
       " 'parsnip',\n",
       " 'party',\n",
       " 'pasadena',\n",
       " 'passion fruit',\n",
       " 'passover',\n",
       " 'pasta',\n",
       " 'pasta maker',\n",
       " 'pastry',\n",
       " 'pea',\n",
       " 'peach',\n",
       " 'peanut',\n",
       " 'peanut butter',\n",
       " 'peanut free',\n",
       " 'pear',\n",
       " 'pecan',\n",
       " 'pennsylvania',\n",
       " 'pepper',\n",
       " 'pernod',\n",
       " 'persian new year',\n",
       " 'persimmon',\n",
       " 'peru',\n",
       " 'pescatarian',\n",
       " 'philippines',\n",
       " 'phyllo/puff pastry dough',\n",
       " 'pickles',\n",
       " 'picnic',\n",
       " 'pie',\n",
       " 'pine nut',\n",
       " 'pineapple',\n",
       " 'pistachio',\n",
       " 'pittsburgh',\n",
       " 'pizza',\n",
       " 'plantain',\n",
       " 'plum',\n",
       " 'poach',\n",
       " 'poblano',\n",
       " 'poker/game night',\n",
       " 'pomegranate',\n",
       " 'pomegranate juice',\n",
       " 'poppy',\n",
       " 'pork',\n",
       " 'pork chop',\n",
       " 'pork rib',\n",
       " 'pork tenderloin',\n",
       " 'port',\n",
       " 'portland',\n",
       " 'pot pie',\n",
       " 'potato',\n",
       " 'potato salad',\n",
       " 'potluck',\n",
       " 'poultry',\n",
       " 'poultry sausage',\n",
       " 'pressure cooker',\n",
       " 'prosciutto',\n",
       " 'providence',\n",
       " 'prune',\n",
       " 'pumpkin',\n",
       " 'punch',\n",
       " 'purim',\n",
       " 'quail',\n",
       " 'quiche',\n",
       " 'quick & easy',\n",
       " 'quick and healthy',\n",
       " 'quince',\n",
       " 'quinoa',\n",
       " 'rabbit',\n",
       " 'rack of lamb',\n",
       " 'radicchio',\n",
       " 'radish',\n",
       " 'raisin',\n",
       " 'ramadan',\n",
       " 'ramekin',\n",
       " 'raspberry',\n",
       " 'raw',\n",
       " 'red wine',\n",
       " 'rhode island',\n",
       " 'rhubarb',\n",
       " 'rice',\n",
       " 'ricotta',\n",
       " 'roast',\n",
       " 'root vegetable',\n",
       " 'rosemary',\n",
       " 'rosh hashanah/yom kippur',\n",
       " 'rosé',\n",
       " 'rub',\n",
       " 'rum',\n",
       " 'rutabaga',\n",
       " 'rye',\n",
       " 'saffron',\n",
       " 'sage',\n",
       " 'sake',\n",
       " 'salad',\n",
       " 'salad dressing',\n",
       " 'salmon',\n",
       " 'salsa',\n",
       " 'san francisco',\n",
       " 'sandwich',\n",
       " 'sandwich theory',\n",
       " 'sangria',\n",
       " 'santa monica',\n",
       " 'sardine',\n",
       " 'sauce',\n",
       " 'sausage',\n",
       " 'sauté',\n",
       " 'scallop',\n",
       " 'scotch',\n",
       " 'seafood',\n",
       " 'seattle',\n",
       " 'seed',\n",
       " 'self',\n",
       " 'semolina',\n",
       " 'sesame',\n",
       " 'sesame oil',\n",
       " 'shallot',\n",
       " 'shavuot',\n",
       " 'shellfish',\n",
       " 'sherry',\n",
       " 'shower',\n",
       " 'shrimp',\n",
       " 'side',\n",
       " 'simmer',\n",
       " 'skewer',\n",
       " 'slow cooker',\n",
       " 'smoker',\n",
       " 'smoothie',\n",
       " 'snapper',\n",
       " 'sorbet',\n",
       " 'soufflé/meringue',\n",
       " 'soup/stew',\n",
       " 'sour cream',\n",
       " 'sourdough',\n",
       " 'south carolina',\n",
       " 'soy',\n",
       " 'soy free',\n",
       " 'soy sauce',\n",
       " 'spain',\n",
       " 'sparkling wine',\n",
       " 'spice',\n",
       " 'spinach',\n",
       " 'spirit',\n",
       " 'spring',\n",
       " 'spritzer',\n",
       " 'squash',\n",
       " 'squid',\n",
       " 'st. louis',\n",
       " \"st. patrick's day\",\n",
       " 'steak',\n",
       " 'steam',\n",
       " 'stew',\n",
       " 'stir-fry',\n",
       " 'stock',\n",
       " 'strawberry',\n",
       " 'stuffing/dressing',\n",
       " 'sugar conscious',\n",
       " 'sugar snap pea',\n",
       " 'sukkot',\n",
       " 'summer',\n",
       " 'super bowl',\n",
       " 'suzanne goin',\n",
       " 'sweet potato/yam',\n",
       " 'swiss cheese',\n",
       " 'switzerland',\n",
       " 'swordfish',\n",
       " 'taco',\n",
       " 'tailgating',\n",
       " 'tamarind',\n",
       " 'tangerine',\n",
       " 'tapioca',\n",
       " 'tarragon',\n",
       " 'tart',\n",
       " 'tea',\n",
       " 'tennessee',\n",
       " 'tequila',\n",
       " 'tested & improved',\n",
       " 'texas',\n",
       " 'thanksgiving',\n",
       " 'thyme',\n",
       " 'tilapia',\n",
       " 'tofu',\n",
       " 'tomatillo',\n",
       " 'tomato',\n",
       " 'tortillas',\n",
       " 'tree nut',\n",
       " 'tree nut free',\n",
       " 'triple sec',\n",
       " 'tropical fruit',\n",
       " 'trout',\n",
       " 'tuna',\n",
       " 'turnip',\n",
       " 'utah',\n",
       " \"valentine's day\",\n",
       " 'vanilla',\n",
       " 'veal',\n",
       " 'vegan',\n",
       " 'vegetable',\n",
       " 'vegetarian',\n",
       " 'venison',\n",
       " 'vermont',\n",
       " 'vermouth',\n",
       " 'vinegar',\n",
       " 'virginia',\n",
       " 'vodka',\n",
       " 'waffle',\n",
       " 'walnut',\n",
       " 'wasabi',\n",
       " 'washington',\n",
       " 'washington, d.c.',\n",
       " 'watercress',\n",
       " 'watermelon',\n",
       " 'wedding',\n",
       " 'weelicious',\n",
       " 'west virginia',\n",
       " 'westwood',\n",
       " 'wheat/gluten-free',\n",
       " 'whiskey',\n",
       " 'white wine',\n",
       " 'whole wheat',\n",
       " 'wild rice',\n",
       " 'windsor',\n",
       " 'wine',\n",
       " 'winter',\n",
       " 'wisconsin',\n",
       " 'wok',\n",
       " 'yellow squash',\n",
       " 'yogurt',\n",
       " 'yonkers',\n",
       " 'yuca',\n",
       " 'zucchini',\n",
       " 'cookbooks',\n",
       " 'leftovers',\n",
       " 'snack',\n",
       " 'snack week',\n",
       " 'turkey']"
      ]
     },
     "execution_count": 3,
     "metadata": {},
     "output_type": "execute_result"
    }
   ],
   "source": [
    "list(raw_data.columns)"
   ]
  },
  {
   "cell_type": "code",
   "execution_count": 4,
   "metadata": {
    "collapsed": false
   },
   "outputs": [
    {
     "data": {
      "text/plain": [
       "count   20052.000\n",
       "mean        3.714\n",
       "std         1.341\n",
       "min         0.000\n",
       "25%         3.750\n",
       "50%         4.375\n",
       "75%         4.375\n",
       "max         5.000\n",
       "Name: rating, dtype: float64"
      ]
     },
     "execution_count": 4,
     "metadata": {},
     "output_type": "execute_result"
    }
   ],
   "source": [
    "raw_data.rating.describe()"
   ]
  },
  {
   "cell_type": "code",
   "execution_count": 5,
   "metadata": {
    "collapsed": false
   },
   "outputs": [
    {
     "data": {
      "image/png": "[encoded data removed]",
      "text/plain": [
       "<matplotlib.figure.Figure at 0x1221e7860>"
      ]
     },
     "metadata": {},
     "output_type": "display_data"
    }
   ],
   "source": [
    "raw_data.rating.hist(bins=20)\n",
    "plt.title('Histogram of Recipe Ratings')\n",
    "plt.show()"
   ]
  },
  {
   "cell_type": "code",
   "execution_count": 6,
   "metadata": {
    "collapsed": false
   },
   "outputs": [
    {
     "data": {
      "text/plain": [
       "calories    4117\n",
       "protein     4162\n",
       "fat         4183\n",
       "sodium      4119\n",
       "dtype: int64"
      ]
     },
     "execution_count": 6,
     "metadata": {},
     "output_type": "execute_result"
    }
   ],
   "source": [
    "# Count nulls \n",
    "null_count = raw_data.isnull().sum()\n",
    "null_count[null_count>0]"
   ]
  },
  {
   "cell_type": "code",
   "execution_count": 7,
   "metadata": {
    "collapsed": false
   },
   "outputs": [
    {
     "data": {
      "text/plain": [
       "SVR(C=1.0, cache_size=200, coef0=0.0, degree=3, epsilon=0.1, gamma='auto',\n",
       "  kernel='rbf', max_iter=-1, shrinking=True, tol=0.001, verbose=False)"
      ]
     },
     "execution_count": 7,
     "metadata": {},
     "output_type": "execute_result"
    }
   ],
   "source": [
    "from sklearn.svm import SVR\n",
    "svr = SVR()\n",
    "X = raw_data.drop(['rating', 'title', 'calories', 'protein', 'fat', 'sodium'], 1)\n",
    "Y = raw_data.rating\n",
    "svr.fit(X,Y)"
   ]
  },
  {
   "cell_type": "code",
   "execution_count": 8,
   "metadata": {
    "collapsed": false
   },
   "outputs": [
    {
     "data": {
      "text/plain": [
       "<matplotlib.collections.PathCollection at 0x122067208>"
      ]
     },
     "execution_count": 8,
     "metadata": {},
     "output_type": "execute_result"
    },
    {
     "data": {
      "image/png": "[encoded data removed]",
      "text/plain": [
       "<matplotlib.figure.Figure at 0x1222e2400>"
      ]
     },
     "metadata": {},
     "output_type": "display_data"
    }
   ],
   "source": [
    "plt.scatter(Y, svr.predict(X))"
   ]
  },
  {
   "cell_type": "code",
   "execution_count": 9,
   "metadata": {
    "collapsed": false
   },
   "outputs": [
    {
     "data": {
      "text/plain": [
       "0.038565706512988962"
      ]
     },
     "execution_count": 9,
     "metadata": {},
     "output_type": "execute_result"
    }
   ],
   "source": [
    "svr.score(X, Y)"
   ]
  },
  {
   "cell_type": "code",
   "execution_count": 10,
   "metadata": {
    "collapsed": false,
    "scrolled": true
   },
   "outputs": [
    {
     "data": {
      "text/plain": [
       "array([ 0.01818511,  0.026411  ,  0.03037705,  0.01957949,  0.02451197])"
      ]
     },
     "execution_count": 10,
     "metadata": {},
     "output_type": "execute_result"
    }
   ],
   "source": [
    "from sklearn.model_selection import cross_val_score\n",
    "cross_val_score(svr, X, Y, cv=5)"
   ]
  },
  {
   "cell_type": "markdown",
   "metadata": {},
   "source": [
    "## Challenge"
   ]
  },
  {
   "cell_type": "markdown",
   "metadata": {},
   "source": [
    "### Preparation"
   ]
  },
  {
   "cell_type": "code",
   "execution_count": 11,
   "metadata": {
    "collapsed": false
   },
   "outputs": [],
   "source": [
    "# Create variables for binary classifier\n",
    "raw_data['rating_class'] = np.where((raw_data['rating'] > 3),'1','0')"
   ]
  },
  {
   "cell_type": "code",
   "execution_count": 12,
   "metadata": {
    "collapsed": false
   },
   "outputs": [],
   "source": [
    "# Drop original 'rating' attribute\n",
    "raw_data = raw_data.drop('rating',axis=1)"
   ]
  },
  {
   "cell_type": "code",
   "execution_count": 13,
   "metadata": {
    "collapsed": false
   },
   "outputs": [],
   "source": [
    "# Drop rows with missing values\n",
    "df = raw_data\n",
    "df = df.dropna()"
   ]
  },
  {
   "cell_type": "code",
   "execution_count": 14,
   "metadata": {
    "collapsed": false
   },
   "outputs": [],
   "source": [
    "# Reduce data set to only numeric variables\n",
    "df = df.drop('title',axis=1)"
   ]
  },
  {
   "cell_type": "code",
   "execution_count": 15,
   "metadata": {
    "collapsed": false
   },
   "outputs": [],
   "source": [
    "# Assign features and target variable\n",
    "x = df.drop('rating_class',axis=1)\n",
    "y = df['rating_class']"
   ]
  },
  {
   "cell_type": "code",
   "execution_count": 16,
   "metadata": {
    "collapsed": false
   },
   "outputs": [],
   "source": [
    "from imblearn.over_sampling import SMOTE\n",
    "\n",
    "smote = SMOTE(kind = \"regular\")\n",
    "X_sm, Y_sm = smote.fit_sample(x,y)"
   ]
  },
  {
   "cell_type": "code",
   "execution_count": 17,
   "metadata": {
    "collapsed": false
   },
   "outputs": [],
   "source": [
    "cols = df.columns\n",
    "cols = cols.drop('rating_class')\n",
    "\n",
    "sm_features = pd.DataFrame(data=X_sm,columns=cols)\n",
    "\n",
    "sm_target = pd.DataFrame(data=Y_sm, columns = ['rating_class'])\n",
    "\n",
    "frames = [sm_features, sm_target]\n",
    "sm_data = pd.concat(frames)\n",
    "\n",
    "x = sm_features\n",
    "y = sm_target.values.ravel()"
   ]
  },
  {
   "cell_type": "markdown",
   "metadata": {},
   "source": [
    "### Feature Selection"
   ]
  },
  {
   "cell_type": "markdown",
   "metadata": {},
   "source": [
    "#### Extra Trees Classifier"
   ]
  },
  {
   "cell_type": "code",
   "execution_count": 18,
   "metadata": {
    "collapsed": false
   },
   "outputs": [
    {
     "name": "stdout",
     "output_type": "stream",
     "text": [
      "Feature ranking:\n",
      "1. feature 61 (0.051061)\n",
      "2. feature 244 (0.035623)\n",
      "3. feature 36 (0.022990)\n",
      "4. feature 457 (0.022166)\n",
      "5. feature 190 (0.021593)\n",
      "6. feature 578 (0.020919)\n",
      "7. feature 506 (0.020369)\n",
      "8. feature 628 (0.018122)\n",
      "9. feature 601 (0.016859)\n",
      "10. feature 665 (0.015829)\n",
      "11. feature 466 (0.015753)\n",
      "12. feature 314 (0.015249)\n",
      "13. feature 208 (0.014521)\n",
      "14. feature 640 (0.013707)\n",
      "15. feature 12 (0.013589)\n",
      "16. feature 548 (0.013205)\n",
      "17. feature 658 (0.011952)\n",
      "18. feature 0 (0.011952)\n",
      "19. feature 638 (0.011259)\n",
      "20. feature 3 (0.011165)\n",
      "21. feature 1 (0.010432)\n",
      "22. feature 2 (0.010317)\n",
      "23. feature 309 (0.010242)\n",
      "24. feature 175 (0.009505)\n",
      "25. feature 409 (0.009258)\n",
      "26. feature 625 (0.009193)\n",
      "27. feature 281 (0.009086)\n",
      "28. feature 426 (0.009014)\n",
      "29. feature 180 (0.008057)\n",
      "30. feature 564 (0.007870)\n",
      "31. feature 585 (0.007478)\n",
      "32. feature 546 (0.007336)\n",
      "33. feature 524 (0.006948)\n",
      "34. feature 310 (0.006896)\n",
      "35. feature 138 (0.006665)\n",
      "36. feature 381 (0.006408)\n",
      "37. feature 183 (0.006368)\n",
      "38. feature 639 (0.006336)\n",
      "39. feature 232 (0.006236)\n",
      "40. feature 271 (0.006222)\n",
      "41. feature 196 (0.006158)\n",
      "42. feature 236 (0.006121)\n",
      "43. feature 239 (0.005832)\n",
      "44. feature 598 (0.005793)\n",
      "45. feature 620 (0.005543)\n",
      "46. feature 120 (0.005208)\n",
      "47. feature 137 (0.005157)\n",
      "48. feature 174 (0.005130)\n",
      "49. feature 255 (0.005098)\n",
      "50. feature 266 (0.005001)\n",
      "51. feature 565 (0.004994)\n",
      "52. feature 410 (0.004903)\n",
      "53. feature 125 (0.004839)\n",
      "54. feature 270 (0.004708)\n",
      "55. feature 148 (0.004554)\n",
      "56. feature 536 (0.004384)\n",
      "57. feature 240 (0.004254)\n",
      "58. feature 328 (0.004061)\n",
      "59. feature 116 (0.004048)\n",
      "60. feature 450 (0.004034)\n",
      "61. feature 20 (0.003854)\n",
      "62. feature 573 (0.003804)\n",
      "63. feature 446 (0.003785)\n",
      "64. feature 492 (0.003738)\n",
      "65. feature 220 (0.003671)\n",
      "66. feature 43 (0.003611)\n",
      "67. feature 215 (0.003426)\n",
      "68. feature 530 (0.003398)\n",
      "69. feature 147 (0.003357)\n",
      "70. feature 127 (0.003342)\n",
      "71. feature 128 (0.003304)\n",
      "72. feature 411 (0.003256)\n",
      "73. feature 123 (0.003233)\n",
      "74. feature 485 (0.003174)\n",
      "75. feature 133 (0.003130)\n",
      "76. feature 352 (0.003068)\n",
      "77. feature 387 (0.003025)\n",
      "78. feature 396 (0.002976)\n",
      "79. feature 394 (0.002762)\n",
      "80. feature 233 (0.002721)\n",
      "81. feature 344 (0.002697)\n",
      "82. feature 325 (0.002670)\n",
      "83. feature 414 (0.002662)\n",
      "84. feature 68 (0.002598)\n",
      "85. feature 105 (0.002587)\n",
      "86. feature 34 (0.002541)\n",
      "87. feature 584 (0.002535)\n",
      "88. feature 427 (0.002525)\n",
      "89. feature 582 (0.002507)\n",
      "90. feature 87 (0.002491)\n",
      "91. feature 363 (0.002474)\n",
      "92. feature 56 (0.002450)\n",
      "93. feature 110 (0.002410)\n",
      "94. feature 49 (0.002306)\n",
      "95. feature 80 (0.002226)\n",
      "96. feature 436 (0.002214)\n",
      "97. feature 644 (0.002177)\n",
      "98. feature 70 (0.002129)\n",
      "99. feature 443 (0.002113)\n",
      "100. feature 13 (0.002107)\n",
      "101. feature 335 (0.002054)\n",
      "102. feature 92 (0.002051)\n",
      "103. feature 648 (0.002043)\n",
      "104. feature 384 (0.002034)\n",
      "105. feature 59 (0.001993)\n",
      "106. feature 461 (0.001988)\n",
      "107. feature 334 (0.001982)\n",
      "108. feature 669 (0.001977)\n",
      "109. feature 337 (0.001972)\n",
      "110. feature 226 (0.001954)\n",
      "111. feature 347 (0.001944)\n",
      "112. feature 21 (0.001904)\n",
      "113. feature 39 (0.001899)\n",
      "114. feature 280 (0.001885)\n",
      "115. feature 563 (0.001873)\n",
      "116. feature 130 (0.001857)\n",
      "117. feature 444 (0.001849)\n",
      "118. feature 210 (0.001845)\n",
      "119. feature 495 (0.001837)\n",
      "120. feature 234 (0.001810)\n",
      "121. feature 272 (0.001799)\n",
      "122. feature 50 (0.001799)\n",
      "123. feature 677 (0.001744)\n",
      "124. feature 551 (0.001740)\n",
      "125. feature 660 (0.001735)\n",
      "126. feature 513 (0.001723)\n",
      "127. feature 423 (0.001669)\n",
      "128. feature 132 (0.001652)\n",
      "129. feature 231 (0.001646)\n",
      "130. feature 254 (0.001598)\n",
      "131. feature 615 (0.001590)\n",
      "132. feature 522 (0.001580)\n",
      "133. feature 54 (0.001577)\n",
      "134. feature 42 (0.001574)\n",
      "135. feature 348 (0.001571)\n",
      "136. feature 627 (0.001533)\n",
      "137. feature 76 (0.001530)\n",
      "138. feature 275 (0.001523)\n",
      "139. feature 370 (0.001515)\n",
      "140. feature 65 (0.001498)\n",
      "141. feature 212 (0.001494)\n",
      "142. feature 574 (0.001470)\n",
      "143. feature 345 (0.001435)\n",
      "144. feature 560 (0.001430)\n",
      "145. feature 67 (0.001424)\n",
      "146. feature 35 (0.001421)\n",
      "147. feature 517 (0.001353)\n",
      "148. feature 562 (0.001336)\n",
      "149. feature 579 (0.001273)\n",
      "150. feature 346 (0.001271)\n",
      "151. feature 596 (0.001266)\n",
      "152. feature 537 (0.001249)\n",
      "153. feature 168 (0.001224)\n",
      "154. feature 139 (0.001209)\n",
      "155. feature 558 (0.001199)\n",
      "156. feature 153 (0.001195)\n",
      "157. feature 141 (0.001177)\n",
      "158. feature 655 (0.001166)\n",
      "159. feature 161 (0.001165)\n",
      "160. feature 163 (0.001162)\n",
      "161. feature 514 (0.001155)\n",
      "162. feature 473 (0.001153)\n",
      "163. feature 350 (0.001140)\n",
      "164. feature 458 (0.001133)\n",
      "165. feature 437 (0.001119)\n",
      "166. feature 91 (0.001114)\n",
      "167. feature 541 (0.001110)\n",
      "168. feature 538 (0.001109)\n",
      "169. feature 416 (0.001098)\n",
      "170. feature 621 (0.001097)\n",
      "171. feature 470 (0.001096)\n",
      "172. feature 156 (0.001093)\n",
      "173. feature 88 (0.001092)\n",
      "174. feature 494 (0.001087)\n",
      "175. feature 326 (0.001079)\n",
      "176. feature 454 (0.001076)\n",
      "177. feature 547 (0.001053)\n",
      "178. feature 296 (0.001053)\n",
      "179. feature 329 (0.001035)\n",
      "180. feature 131 (0.001034)\n",
      "181. feature 636 (0.001030)\n",
      "182. feature 594 (0.001013)\n",
      "183. feature 553 (0.001013)\n",
      "184. feature 646 (0.000982)\n",
      "185. feature 286 (0.000974)\n",
      "186. feature 459 (0.000968)\n",
      "187. feature 319 (0.000967)\n",
      "188. feature 129 (0.000946)\n",
      "189. feature 117 (0.000945)\n",
      "190. feature 182 (0.000937)\n",
      "191. feature 253 (0.000921)\n",
      "192. feature 135 (0.000908)\n",
      "193. feature 526 (0.000904)\n",
      "194. feature 37 (0.000904)\n",
      "195. feature 222 (0.000885)\n",
      "196. feature 155 (0.000865)\n",
      "197. feature 23 (0.000859)\n",
      "198. feature 48 (0.000850)\n",
      "199. feature 115 (0.000842)\n",
      "200. feature 583 (0.000838)\n",
      "201. feature 209 (0.000834)\n",
      "202. feature 265 (0.000834)\n",
      "203. feature 472 (0.000830)\n",
      "204. feature 32 (0.000830)\n",
      "205. feature 602 (0.000820)\n",
      "206. feature 126 (0.000813)\n",
      "207. feature 471 (0.000810)\n",
      "208. feature 672 (0.000809)\n",
      "209. feature 664 (0.000797)\n",
      "210. feature 16 (0.000795)\n",
      "211. feature 241 (0.000795)\n",
      "212. feature 617 (0.000792)\n",
      "213. feature 154 (0.000792)\n",
      "214. feature 675 (0.000776)\n",
      "215. feature 9 (0.000776)\n",
      "216. feature 178 (0.000773)\n",
      "217. feature 25 (0.000766)\n",
      "218. feature 202 (0.000766)\n",
      "219. feature 193 (0.000766)\n",
      "220. feature 604 (0.000760)\n",
      "221. feature 169 (0.000756)\n",
      "222. feature 55 (0.000755)\n",
      "223. feature 453 (0.000743)\n",
      "224. feature 455 (0.000740)\n",
      "225. feature 358 (0.000738)\n",
      "226. feature 172 (0.000731)\n",
      "227. feature 519 (0.000724)\n",
      "228. feature 613 (0.000716)\n",
      "229. feature 449 (0.000714)\n",
      "230. feature 395 (0.000713)\n",
      "231. feature 57 (0.000708)\n",
      "232. feature 278 (0.000699)\n",
      "233. feature 198 (0.000696)\n",
      "234. feature 629 (0.000692)\n",
      "235. feature 652 (0.000690)\n",
      "236. feature 249 (0.000680)\n",
      "237. feature 371 (0.000673)\n",
      "238. feature 195 (0.000672)\n",
      "239. feature 26 (0.000670)\n",
      "240. feature 392 (0.000669)\n",
      "241. feature 422 (0.000668)\n",
      "242. feature 221 (0.000663)\n",
      "243. feature 263 (0.000663)\n",
      "244. feature 211 (0.000662)\n",
      "245. feature 360 (0.000648)\n",
      "246. feature 452 (0.000647)\n",
      "247. feature 250 (0.000641)\n",
      "248. feature 189 (0.000631)\n",
      "249. feature 201 (0.000626)\n",
      "250. feature 112 (0.000614)\n",
      "251. feature 268 (0.000610)\n",
      "252. feature 469 (0.000606)\n",
      "253. feature 104 (0.000603)\n",
      "254. feature 152 (0.000603)\n",
      "255. feature 635 (0.000599)\n",
      "256. feature 592 (0.000596)\n",
      "257. feature 58 (0.000594)\n",
      "258. feature 52 (0.000590)\n",
      "259. feature 33 (0.000586)\n",
      "260. feature 349 (0.000585)\n",
      "261. feature 556 (0.000584)\n",
      "262. feature 577 (0.000579)\n",
      "263. feature 502 (0.000575)\n",
      "264. feature 15 (0.000570)\n",
      "265. feature 332 (0.000569)\n",
      "266. feature 474 (0.000568)\n",
      "267. feature 428 (0.000564)\n",
      "268. feature 252 (0.000563)\n",
      "269. feature 121 (0.000562)\n",
      "270. feature 591 (0.000559)\n",
      "271. feature 7 (0.000555)\n",
      "272. feature 99 (0.000555)\n",
      "273. feature 108 (0.000555)\n",
      "274. feature 134 (0.000552)\n",
      "275. feature 525 (0.000547)\n",
      "276. feature 478 (0.000545)\n",
      "277. feature 354 (0.000541)\n",
      "278. feature 590 (0.000539)\n",
      "279. feature 561 (0.000536)\n",
      "280. feature 534 (0.000534)\n",
      "281. feature 406 (0.000527)\n",
      "282. feature 415 (0.000523)\n",
      "283. feature 28 (0.000517)\n",
      "284. feature 674 (0.000516)\n",
      "285. feature 593 (0.000516)\n",
      "286. feature 297 (0.000512)\n",
      "287. feature 626 (0.000504)\n",
      "288. feature 374 (0.000496)\n",
      "289. feature 433 (0.000487)\n",
      "290. feature 523 (0.000484)\n",
      "291. feature 479 (0.000481)\n",
      "292. feature 171 (0.000470)\n",
      "293. feature 588 (0.000469)\n",
      "294. feature 434 (0.000464)\n",
      "295. feature 160 (0.000460)\n",
      "296. feature 89 (0.000458)\n",
      "297. feature 143 (0.000448)\n",
      "298. feature 106 (0.000448)\n",
      "299. feature 481 (0.000448)\n",
      "300. feature 192 (0.000446)\n",
      "301. feature 623 (0.000446)\n",
      "302. feature 599 (0.000442)\n",
      "303. feature 667 (0.000441)\n",
      "304. feature 279 (0.000438)\n",
      "305. feature 633 (0.000437)\n",
      "306. feature 630 (0.000434)\n",
      "307. feature 609 (0.000434)\n",
      "308. feature 177 (0.000432)\n",
      "309. feature 285 (0.000429)\n",
      "310. feature 107 (0.000419)\n",
      "311. feature 654 (0.000417)\n",
      "312. feature 518 (0.000416)\n",
      "313. feature 102 (0.000413)\n",
      "314. feature 338 (0.000411)\n",
      "315. feature 304 (0.000409)\n",
      "316. feature 391 (0.000408)\n",
      "317. feature 438 (0.000407)\n",
      "318. feature 440 (0.000406)\n",
      "319. feature 412 (0.000406)\n",
      "320. feature 214 (0.000400)\n",
      "321. feature 448 (0.000397)\n",
      "322. feature 118 (0.000394)\n",
      "323. feature 276 (0.000393)\n",
      "324. feature 515 (0.000390)\n",
      "325. feature 327 (0.000376)\n",
      "326. feature 624 (0.000375)\n",
      "327. feature 69 (0.000373)\n",
      "328. feature 445 (0.000373)\n",
      "329. feature 521 (0.000373)\n",
      "330. feature 64 (0.000371)\n",
      "331. feature 100 (0.000370)\n",
      "332. feature 274 (0.000370)\n",
      "333. feature 482 (0.000369)\n",
      "334. feature 533 (0.000368)\n",
      "335. feature 213 (0.000366)\n",
      "336. feature 17 (0.000356)\n",
      "337. feature 429 (0.000354)\n",
      "338. feature 507 (0.000349)\n",
      "339. feature 637 (0.000342)\n",
      "340. feature 567 (0.000338)\n",
      "341. feature 581 (0.000338)\n",
      "342. feature 557 (0.000334)\n",
      "343. feature 74 (0.000333)\n",
      "344. feature 159 (0.000325)\n",
      "345. feature 256 (0.000325)\n",
      "346. feature 501 (0.000325)\n",
      "347. feature 228 (0.000323)\n",
      "348. feature 468 (0.000322)\n",
      "349. feature 359 (0.000320)\n",
      "350. feature 262 (0.000318)\n",
      "351. feature 333 (0.000315)\n",
      "352. feature 500 (0.000314)\n",
      "353. feature 549 (0.000306)\n",
      "354. feature 93 (0.000305)\n",
      "355. feature 47 (0.000304)\n",
      "356. feature 405 (0.000304)\n",
      "357. feature 361 (0.000302)\n",
      "358. feature 113 (0.000290)\n",
      "359. feature 245 (0.000288)\n",
      "360. feature 653 (0.000285)\n",
      "361. feature 498 (0.000284)\n",
      "362. feature 477 (0.000283)\n",
      "363. feature 331 (0.000282)\n",
      "364. feature 587 (0.000275)\n",
      "365. feature 188 (0.000274)\n",
      "366. feature 388 (0.000272)\n",
      "367. feature 659 (0.000272)\n",
      "368. feature 400 (0.000270)\n",
      "369. feature 164 (0.000269)\n",
      "370. feature 103 (0.000267)\n",
      "371. feature 330 (0.000266)\n",
      "372. feature 140 (0.000264)\n",
      "373. feature 101 (0.000262)\n",
      "374. feature 489 (0.000261)\n",
      "375. feature 144 (0.000254)\n",
      "376. feature 62 (0.000253)\n",
      "377. feature 532 (0.000247)\n",
      "378. feature 389 (0.000245)\n",
      "379. feature 632 (0.000242)\n",
      "380. feature 40 (0.000241)\n",
      "381. feature 83 (0.000238)\n",
      "382. feature 303 (0.000236)\n",
      "383. feature 90 (0.000235)\n",
      "384. feature 315 (0.000235)\n",
      "385. feature 569 (0.000234)\n",
      "386. feature 96 (0.000231)\n",
      "387. feature 417 (0.000229)\n",
      "388. feature 38 (0.000227)\n",
      "389. feature 527 (0.000223)\n",
      "390. feature 357 (0.000219)\n",
      "391. feature 605 (0.000216)\n",
      "392. feature 439 (0.000213)\n",
      "393. feature 597 (0.000212)\n",
      "394. feature 490 (0.000212)\n",
      "395. feature 676 (0.000211)\n",
      "396. feature 158 (0.000206)\n",
      "397. feature 554 (0.000202)\n",
      "398. feature 288 (0.000200)\n",
      "399. feature 378 (0.000198)\n",
      "400. feature 308 (0.000195)\n",
      "401. feature 462 (0.000192)\n",
      "402. feature 184 (0.000190)\n",
      "403. feature 261 (0.000188)\n",
      "404. feature 197 (0.000187)\n",
      "405. feature 142 (0.000186)\n",
      "406. feature 94 (0.000185)\n",
      "407. feature 430 (0.000184)\n",
      "408. feature 85 (0.000181)\n",
      "409. feature 486 (0.000179)\n",
      "410. feature 543 (0.000177)\n",
      "411. feature 456 (0.000176)\n",
      "412. feature 238 (0.000175)\n",
      "413. feature 488 (0.000175)\n",
      "414. feature 302 (0.000174)\n",
      "415. feature 351 (0.000173)\n",
      "416. feature 136 (0.000173)\n",
      "417. feature 631 (0.000170)\n",
      "418. feature 509 (0.000167)\n",
      "419. feature 487 (0.000167)\n",
      "420. feature 645 (0.000167)\n",
      "421. feature 277 (0.000166)\n",
      "422. feature 476 (0.000165)\n",
      "423. feature 511 (0.000164)\n",
      "424. feature 413 (0.000163)\n",
      "425. feature 191 (0.000162)\n",
      "426. feature 397 (0.000161)\n",
      "427. feature 531 (0.000161)\n",
      "428. feature 484 (0.000160)\n",
      "429. feature 14 (0.000160)\n",
      "430. feature 372 (0.000146)\n",
      "431. feature 72 (0.000139)\n",
      "432. feature 508 (0.000139)\n",
      "433. feature 550 (0.000139)\n",
      "434. feature 114 (0.000137)\n",
      "435. feature 368 (0.000136)\n",
      "436. feature 643 (0.000131)\n",
      "437. feature 366 (0.000130)\n",
      "438. feature 216 (0.000127)\n",
      "439. feature 316 (0.000124)\n",
      "440. feature 300 (0.000124)\n",
      "441. feature 165 (0.000115)\n",
      "442. feature 612 (0.000114)\n",
      "443. feature 223 (0.000112)\n",
      "444. feature 111 (0.000112)\n",
      "445. feature 421 (0.000111)\n",
      "446. feature 512 (0.000111)\n",
      "447. feature 364 (0.000110)\n",
      "448. feature 149 (0.000110)\n",
      "449. feature 661 (0.000109)\n",
      "450. feature 207 (0.000108)\n",
      "451. feature 218 (0.000103)\n",
      "452. feature 19 (0.000103)\n",
      "453. feature 282 (0.000103)\n",
      "454. feature 340 (0.000100)\n",
      "455. feature 614 (0.000096)\n",
      "456. feature 6 (0.000095)\n",
      "457. feature 570 (0.000095)\n",
      "458. feature 60 (0.000095)\n",
      "459. feature 246 (0.000095)\n",
      "460. feature 122 (0.000094)\n",
      "461. feature 312 (0.000093)\n",
      "462. feature 393 (0.000093)\n",
      "463. feature 402 (0.000092)\n",
      "464. feature 257 (0.000088)\n",
      "465. feature 73 (0.000087)\n",
      "466. feature 318 (0.000086)\n",
      "467. feature 289 (0.000086)\n",
      "468. feature 404 (0.000086)\n",
      "469. feature 81 (0.000086)\n",
      "470. feature 650 (0.000084)\n",
      "471. feature 607 (0.000082)\n",
      "472. feature 367 (0.000082)\n",
      "473. feature 22 (0.000082)\n",
      "474. feature 41 (0.000081)\n",
      "475. feature 342 (0.000080)\n",
      "476. feature 185 (0.000080)\n",
      "477. feature 187 (0.000079)\n",
      "478. feature 369 (0.000079)\n",
      "479. feature 542 (0.000079)\n",
      "480. feature 379 (0.000078)\n",
      "481. feature 219 (0.000076)\n",
      "482. feature 75 (0.000076)\n",
      "483. feature 162 (0.000075)\n",
      "484. feature 151 (0.000075)\n",
      "485. feature 407 (0.000073)\n",
      "486. feature 306 (0.000073)\n",
      "487. feature 259 (0.000073)\n",
      "488. feature 46 (0.000073)\n",
      "489. feature 242 (0.000070)\n",
      "490. feature 431 (0.000069)\n",
      "491. feature 668 (0.000069)\n",
      "492. feature 237 (0.000068)\n",
      "493. feature 586 (0.000067)\n",
      "494. feature 496 (0.000067)\n",
      "495. feature 150 (0.000065)\n",
      "496. feature 483 (0.000065)\n",
      "497. feature 493 (0.000065)\n",
      "498. feature 545 (0.000064)\n",
      "499. feature 311 (0.000063)\n",
      "500. feature 353 (0.000063)\n",
      "501. feature 170 (0.000061)\n",
      "502. feature 555 (0.000061)\n",
      "503. feature 373 (0.000060)\n",
      "504. feature 109 (0.000060)\n",
      "505. feature 78 (0.000060)\n",
      "506. feature 611 (0.000059)\n",
      "507. feature 355 (0.000058)\n",
      "508. feature 53 (0.000057)\n",
      "509. feature 145 (0.000057)\n",
      "510. feature 451 (0.000057)\n",
      "511. feature 516 (0.000056)\n",
      "512. feature 44 (0.000055)\n",
      "513. feature 465 (0.000054)\n",
      "514. feature 18 (0.000052)\n",
      "515. feature 610 (0.000052)\n",
      "516. feature 386 (0.000051)\n",
      "517. feature 248 (0.000049)\n",
      "518. feature 79 (0.000049)\n",
      "519. feature 408 (0.000047)\n",
      "520. feature 571 (0.000047)\n",
      "521. feature 576 (0.000047)\n",
      "522. feature 321 (0.000044)\n",
      "523. feature 649 (0.000044)\n",
      "524. feature 618 (0.000043)\n",
      "525. feature 572 (0.000042)\n",
      "526. feature 173 (0.000040)\n",
      "527. feature 600 (0.000039)\n",
      "528. feature 460 (0.000039)\n",
      "529. feature 441 (0.000037)\n",
      "530. feature 301 (0.000036)\n",
      "531. feature 566 (0.000034)\n",
      "532. feature 425 (0.000034)\n",
      "533. feature 167 (0.000033)\n",
      "534. feature 313 (0.000033)\n",
      "535. feature 27 (0.000033)\n",
      "536. feature 619 (0.000033)\n",
      "537. feature 362 (0.000033)\n",
      "538. feature 77 (0.000031)\n",
      "539. feature 608 (0.000031)\n",
      "540. feature 45 (0.000029)\n",
      "541. feature 63 (0.000029)\n",
      "542. feature 230 (0.000027)\n",
      "543. feature 535 (0.000027)\n",
      "544. feature 503 (0.000027)\n",
      "545. feature 539 (0.000027)\n",
      "546. feature 467 (0.000026)\n",
      "547. feature 559 (0.000025)\n",
      "548. feature 264 (0.000025)\n",
      "549. feature 376 (0.000025)\n",
      "550. feature 320 (0.000025)\n",
      "551. feature 324 (0.000023)\n",
      "552. feature 181 (0.000023)\n",
      "553. feature 269 (0.000021)\n",
      "554. feature 235 (0.000021)\n",
      "555. feature 224 (0.000021)\n",
      "556. feature 8 (0.000020)\n",
      "557. feature 287 (0.000019)\n",
      "558. feature 294 (0.000019)\n",
      "559. feature 568 (0.000018)\n",
      "560. feature 552 (0.000018)\n",
      "561. feature 227 (0.000018)\n",
      "562. feature 464 (0.000017)\n",
      "563. feature 124 (0.000017)\n",
      "564. feature 341 (0.000016)\n",
      "565. feature 217 (0.000016)\n",
      "566. feature 284 (0.000015)\n",
      "567. feature 4 (0.000015)\n",
      "568. feature 205 (0.000014)\n",
      "569. feature 403 (0.000014)\n",
      "570. feature 194 (0.000014)\n",
      "571. feature 673 (0.000013)\n",
      "572. feature 497 (0.000013)\n",
      "573. feature 317 (0.000013)\n",
      "574. feature 293 (0.000012)\n",
      "575. feature 166 (0.000012)\n",
      "576. feature 399 (0.000012)\n",
      "577. feature 662 (0.000011)\n",
      "578. feature 447 (0.000011)\n",
      "579. feature 204 (0.000011)\n",
      "580. feature 10 (0.000010)\n",
      "581. feature 95 (0.000009)\n",
      "582. feature 505 (0.000009)\n",
      "583. feature 642 (0.000008)\n",
      "584. feature 603 (0.000008)\n",
      "585. feature 176 (0.000008)\n",
      "586. feature 595 (0.000008)\n",
      "587. feature 504 (0.000007)\n",
      "588. feature 24 (0.000007)\n",
      "589. feature 475 (0.000007)\n",
      "590. feature 418 (0.000006)\n",
      "591. feature 398 (0.000006)\n",
      "592. feature 98 (0.000006)\n",
      "593. feature 295 (0.000006)\n",
      "594. feature 380 (0.000006)\n",
      "595. feature 622 (0.000006)\n",
      "596. feature 424 (0.000006)\n",
      "597. feature 251 (0.000006)\n",
      "598. feature 86 (0.000005)\n",
      "599. feature 544 (0.000005)\n",
      "600. feature 365 (0.000005)\n",
      "601. feature 71 (0.000005)\n",
      "602. feature 420 (0.000005)\n",
      "603. feature 480 (0.000004)\n",
      "604. feature 200 (0.000004)\n",
      "605. feature 290 (0.000004)\n",
      "606. feature 375 (0.000004)\n",
      "607. feature 291 (0.000004)\n",
      "608. feature 243 (0.000004)\n",
      "609. feature 66 (0.000004)\n",
      "610. feature 31 (0.000004)\n",
      "611. feature 419 (0.000004)\n",
      "612. feature 336 (0.000004)\n",
      "613. feature 491 (0.000003)\n",
      "614. feature 529 (0.000003)\n",
      "615. feature 5 (0.000003)\n",
      "616. feature 179 (0.000003)\n",
      "617. feature 307 (0.000003)\n",
      "618. feature 383 (0.000003)\n",
      "619. feature 589 (0.000003)\n",
      "620. feature 463 (0.000003)\n",
      "621. feature 671 (0.000003)\n",
      "622. feature 322 (0.000002)\n",
      "623. feature 575 (0.000002)\n",
      "624. feature 651 (0.000002)\n",
      "625. feature 343 (0.000002)\n",
      "626. feature 119 (0.000002)\n",
      "627. feature 305 (0.000002)\n",
      "628. feature 432 (0.000002)\n",
      "629. feature 260 (0.000002)\n",
      "630. feature 510 (0.000002)\n",
      "631. feature 641 (0.000002)\n",
      "632. feature 520 (0.000002)\n",
      "633. feature 30 (0.000002)\n",
      "634. feature 540 (0.000002)\n",
      "635. feature 356 (0.000002)\n",
      "636. feature 666 (0.000002)\n",
      "637. feature 606 (0.000001)\n",
      "638. feature 499 (0.000001)\n",
      "639. feature 82 (0.000001)\n",
      "640. feature 84 (0.000001)\n",
      "641. feature 273 (0.000001)\n",
      "642. feature 377 (0.000001)\n",
      "643. feature 435 (0.000001)\n",
      "644. feature 186 (0.000001)\n",
      "645. feature 656 (0.000001)\n",
      "646. feature 657 (0.000001)\n",
      "647. feature 663 (0.000001)\n",
      "648. feature 299 (0.000001)\n",
      "649. feature 442 (0.000001)\n",
      "650. feature 146 (0.000001)\n",
      "651. feature 634 (0.000001)\n",
      "652. feature 670 (0.000001)\n",
      "653. feature 206 (0.000000)\n",
      "654. feature 51 (0.000000)\n",
      "655. feature 283 (0.000000)\n",
      "656. feature 390 (0.000000)\n",
      "657. feature 267 (0.000000)\n",
      "658. feature 616 (0.000000)\n",
      "659. feature 339 (0.000000)\n",
      "660. feature 580 (0.000000)\n",
      "661. feature 29 (0.000000)\n",
      "662. feature 203 (0.000000)\n",
      "663. feature 11 (0.000000)\n",
      "664. feature 382 (0.000000)\n",
      "665. feature 258 (0.000000)\n",
      "666. feature 97 (0.000000)\n",
      "667. feature 323 (0.000000)\n",
      "668. feature 292 (0.000000)\n",
      "669. feature 225 (0.000000)\n",
      "670. feature 647 (0.000000)\n",
      "671. feature 528 (0.000000)\n",
      "672. feature 229 (0.000000)\n",
      "673. feature 157 (0.000000)\n",
      "674. feature 298 (0.000000)\n"
     ]
    }
   ],
   "source": [
    "# Select top 30 attributes from data \n",
    "from sklearn.ensemble import ExtraTreesClassifier\n",
    "\n",
    "# Instantiate model\n",
    "forest = ExtraTreesClassifier(n_estimators=250)\n",
    "\n",
    "# Fit model to data\n",
    "forest.fit(x,y)\n",
    "importances = forest.feature_importances_\n",
    "\n",
    "std = np.std([tree.feature_importances_ for tree in forest.estimators_],\n",
    "             axis=0)\n",
    "indices = np.argsort(importances)[::-1]\n",
    "\n",
    "# Print the feature ranking\n",
    "print(\"Feature ranking:\")\n",
    "\n",
    "for f in range(X.shape[1]):\n",
    "    print(\"%d. feature %d (%f)\" % (f + 1, indices[f], importances[indices[f]]))"
   ]
  },
  {
   "cell_type": "code",
   "execution_count": 19,
   "metadata": {
    "collapsed": true
   },
   "outputs": [],
   "source": [
    "rf_features = x[x.columns[[indices[0:30]]]]"
   ]
  },
  {
   "cell_type": "markdown",
   "metadata": {},
   "source": [
    "#### Mutual Information"
   ]
  },
  {
   "cell_type": "code",
   "execution_count": 20,
   "metadata": {
    "collapsed": true
   },
   "outputs": [],
   "source": [
    "from sklearn.feature_selection import SelectKBest, mutual_info_classif\n",
    "\n",
    "# Instantiate selector\n",
    "selector = SelectKBest(mutual_info_classif,k=30)\n",
    "\n",
    "# Fit selector\n",
    "selector.fit(x,y)\n",
    "\n",
    "# Assign indices of selected features to idxs_selected\n",
    "idxs_selected = selector.get_support(indices=True)\n",
    "\n",
    "# Assign selected features to mi_features\n",
    "mi_features = x[x.columns[[idxs_selected]]]"
   ]
  },
  {
   "cell_type": "markdown",
   "metadata": {},
   "source": [
    "#### PCA "
   ]
  },
  {
   "cell_type": "code",
   "execution_count": 21,
   "metadata": {
    "collapsed": true
   },
   "outputs": [],
   "source": [
    "from sklearn import preprocessing\n",
    "from sklearn.decomposition import PCA\n",
    "\n",
    "pca = PCA(n_components=17)\n",
    "\n",
    "# Assign features and target variable to 'X' and 'Y' respectively\n",
    "X = x\n",
    "X_scaled = preprocessing.scale(x)\n",
    "\n",
    "X_pca = pca.fit_transform(X_scaled)\n",
    "\n",
    "Y = y"
   ]
  },
  {
   "cell_type": "code",
   "execution_count": 22,
   "metadata": {
    "collapsed": false,
    "scrolled": true
   },
   "outputs": [
    {
     "name": "stdout",
     "output_type": "stream",
     "text": [
      "[ 0.01272248  0.00969273  0.00778764  0.0055321   0.00539016  0.00484519\n",
      "  0.00444441  0.00437651  0.00423611  0.00397065  0.00388991  0.00382843\n",
      "  0.00370609  0.00358495  0.00347987  0.00343162  0.00338005]\n"
     ]
    },
    {
     "data": {
      "text/plain": [
       "[<matplotlib.lines.Line2D at 0x126190780>]"
      ]
     },
     "execution_count": 22,
     "metadata": {},
     "output_type": "execute_result"
    },
    {
     "data": {
      "image/png": "[encoded data removed]",
      "text/plain": [
       "<matplotlib.figure.Figure at 0x122080d30>"
      ]
     },
     "metadata": {},
     "output_type": "display_data"
    }
   ],
   "source": [
    "# Evaluate explained variance ratio -- it appears that the first component explains\n",
    "# most of the data set. \n",
    "print(pca.explained_variance_ratio_)\n",
    "plt.plot(pca.explained_variance_ratio_)"
   ]
  },
  {
   "cell_type": "code",
   "execution_count": 23,
   "metadata": {
    "collapsed": false
   },
   "outputs": [
    {
     "data": {
      "text/plain": [
       "0.088298899044324183"
      ]
     },
     "execution_count": 23,
     "metadata": {},
     "output_type": "execute_result"
    }
   ],
   "source": [
    "sum(pca.explained_variance_ratio_)"
   ]
  },
  {
   "cell_type": "markdown",
   "metadata": {},
   "source": [
    "### Modeling\n",
    "\n",
    "The model performs significantly better after feature selection/reduction."
   ]
  },
  {
   "cell_type": "markdown",
   "metadata": {},
   "source": [
    "#### SVM using features from Extra Trees"
   ]
  },
  {
   "cell_type": "code",
   "execution_count": 24,
   "metadata": {
    "collapsed": false
   },
   "outputs": [
    {
     "data": {
      "text/plain": [
       "SVC(C=1.0, cache_size=200, class_weight=None, coef0=0.0,\n",
       "  decision_function_shape='ovr', degree=3, gamma='auto', kernel='rbf',\n",
       "  max_iter=-1, probability=False, random_state=None, shrinking=True,\n",
       "  tol=0.001, verbose=False)"
      ]
     },
     "execution_count": 24,
     "metadata": {},
     "output_type": "execute_result"
    }
   ],
   "source": [
    "from sklearn.svm import SVC\n",
    "\n",
    "# Instantiate SVR\n",
    "svc = SVC()\n",
    "\n",
    "# Fit SVR\n",
    "svc.fit(rf_features,y)"
   ]
  },
  {
   "cell_type": "code",
   "execution_count": 25,
   "metadata": {
    "collapsed": false
   },
   "outputs": [
    {
     "data": {
      "text/plain": [
       "0.98176803495952436"
      ]
     },
     "execution_count": 25,
     "metadata": {},
     "output_type": "execute_result"
    }
   ],
   "source": [
    "# Evaluate performance\n",
    "svc.score(rf_features,y)"
   ]
  },
  {
   "cell_type": "code",
   "execution_count": 26,
   "metadata": {
    "collapsed": true
   },
   "outputs": [],
   "source": [
    "from sklearn.model_selection import cross_val_score\n",
    "\n",
    "# Cross validate\n",
    "scores = cross_val_score(svc, rf_features, y, cv=5)"
   ]
  },
  {
   "cell_type": "code",
   "execution_count": 27,
   "metadata": {
    "collapsed": false
   },
   "outputs": [
    {
     "data": {
      "text/plain": [
       "array([ 0.88073066,  0.85207736,  0.85351003,  0.84992837,  0.85560731])"
      ]
     },
     "execution_count": 27,
     "metadata": {},
     "output_type": "execute_result"
    }
   ],
   "source": [
    "# Evaluate performance\n",
    "scores"
   ]
  },
  {
   "cell_type": "code",
   "execution_count": 38,
   "metadata": {
    "collapsed": false
   },
   "outputs": [
    {
     "data": {
      "text/plain": [
       "0.85837074599999996"
      ]
     },
     "execution_count": 38,
     "metadata": {},
     "output_type": "execute_result"
    }
   ],
   "source": [
    "np.mean([ 0.88073066,  0.85207736,  0.85351003,  0.84992837,  0.85560731])"
   ]
  },
  {
   "cell_type": "markdown",
   "metadata": {},
   "source": [
    "#### SVM using features from Mutual Information "
   ]
  },
  {
   "cell_type": "code",
   "execution_count": 28,
   "metadata": {
    "collapsed": false
   },
   "outputs": [
    {
     "data": {
      "text/plain": [
       "SVC(C=1.0, cache_size=200, class_weight=None, coef0=0.0,\n",
       "  decision_function_shape='ovr', degree=3, gamma='auto', kernel='rbf',\n",
       "  max_iter=-1, probability=False, random_state=None, shrinking=True,\n",
       "  tol=0.001, verbose=False)"
      ]
     },
     "execution_count": 28,
     "metadata": {},
     "output_type": "execute_result"
    }
   ],
   "source": [
    "from sklearn.svm import SVC\n",
    "\n",
    "# Instantiate SVR\n",
    "svc = SVC()\n",
    "\n",
    "#\n",
    "svc.fit(mi_features,y)"
   ]
  },
  {
   "cell_type": "code",
   "execution_count": 29,
   "metadata": {
    "collapsed": false
   },
   "outputs": [
    {
     "data": {
      "text/plain": [
       "0.98219786517658858"
      ]
     },
     "execution_count": 29,
     "metadata": {},
     "output_type": "execute_result"
    }
   ],
   "source": [
    "# Evaluate performance\n",
    "svc.score(mi_features,y)"
   ]
  },
  {
   "cell_type": "code",
   "execution_count": 30,
   "metadata": {
    "collapsed": true
   },
   "outputs": [],
   "source": [
    "from sklearn.model_selection import cross_val_score\n",
    "\n",
    "# Cross validate\n",
    "scores = cross_val_score(svc, mi_features, y, cv=5)"
   ]
  },
  {
   "cell_type": "code",
   "execution_count": 31,
   "metadata": {
    "collapsed": false,
    "scrolled": false
   },
   "outputs": [
    {
     "data": {
      "text/plain": [
       "array([ 0.88144699,  0.8527937 ,  0.85351003,  0.85082378,  0.85578646])"
      ]
     },
     "execution_count": 31,
     "metadata": {},
     "output_type": "execute_result"
    }
   ],
   "source": [
    "# Evaluate scores \n",
    "scores"
   ]
  },
  {
   "cell_type": "code",
   "execution_count": 37,
   "metadata": {
    "collapsed": false
   },
   "outputs": [
    {
     "data": {
      "text/plain": [
       "0.85887219199999998"
      ]
     },
     "execution_count": 37,
     "metadata": {},
     "output_type": "execute_result"
    }
   ],
   "source": [
    "np.mean([ 0.88144699,  0.8527937 ,  0.85351003,  0.85082378,  0.85578646])"
   ]
  },
  {
   "cell_type": "markdown",
   "metadata": {},
   "source": [
    "#### SVM using principal component analysis"
   ]
  },
  {
   "cell_type": "code",
   "execution_count": 32,
   "metadata": {
    "collapsed": false
   },
   "outputs": [
    {
     "data": {
      "text/plain": [
       "SVC(C=1.0, cache_size=200, class_weight=None, coef0=0.0,\n",
       "  decision_function_shape='ovr', degree=3, gamma='auto', kernel='rbf',\n",
       "  max_iter=-1, probability=False, random_state=None, shrinking=True,\n",
       "  tol=0.001, verbose=False)"
      ]
     },
     "execution_count": 32,
     "metadata": {},
     "output_type": "execute_result"
    }
   ],
   "source": [
    "from sklearn.svm import SVC\n",
    "\n",
    "# Instantiate SVR\n",
    "svc = SVC()\n",
    "\n",
    "#\n",
    "svc.fit(X_pca,y)"
   ]
  },
  {
   "cell_type": "code",
   "execution_count": 33,
   "metadata": {
    "collapsed": false
   },
   "outputs": [
    {
     "data": {
      "text/plain": [
       "0.89067984812665668"
      ]
     },
     "execution_count": 33,
     "metadata": {},
     "output_type": "execute_result"
    }
   ],
   "source": [
    "# Evaluate performance\n",
    "svc.score(X_pca,y)"
   ]
  },
  {
   "cell_type": "code",
   "execution_count": 34,
   "metadata": {
    "collapsed": true
   },
   "outputs": [],
   "source": [
    "from sklearn.model_selection import cross_val_score\n",
    "\n",
    "# Cross validate\n",
    "scores = cross_val_score(svc, X_pca, y, cv=5)"
   ]
  },
  {
   "cell_type": "code",
   "execution_count": 35,
   "metadata": {
    "collapsed": false
   },
   "outputs": [
    {
     "data": {
      "text/plain": [
       "array([ 0.82037966,  0.85494269,  0.84670487,  0.85333095,  0.85542816])"
      ]
     },
     "execution_count": 35,
     "metadata": {},
     "output_type": "execute_result"
    }
   ],
   "source": [
    "# Evaluate scores \n",
    "scores"
   ]
  },
  {
   "cell_type": "code",
   "execution_count": 36,
   "metadata": {
    "collapsed": false
   },
   "outputs": [
    {
     "data": {
      "text/plain": [
       "0.84615726562764682"
      ]
     },
     "execution_count": 36,
     "metadata": {},
     "output_type": "execute_result"
    }
   ],
   "source": [
    "np.mean(scores)"
   ]
  },
  {
   "cell_type": "markdown",
   "metadata": {},
   "source": [
    "## Conclusion"
   ]
  },
  {
   "cell_type": "markdown",
   "metadata": {},
   "source": [
    "With significant feature reduction (30 parameters kept from original data), we're able to achieve significantly better performance wit SVC. Features selected from random forests and mutual information performed slightly better than princple components where ~90% of the explained variance was retained for the SVC. "
   ]
  }
 ],
 "metadata": {
  "kernelspec": {
   "display_name": "Python 3",
   "language": "python",
   "name": "python3"
  },
  "language_info": {
   "codemirror_mode": {
    "name": "ipython",
    "version": 3
   },
   "file_extension": ".py",
   "mimetype": "text/x-python",
   "name": "python",
   "nbconvert_exporter": "python",
   "pygments_lexer": "ipython3",
   "version": "3.6.4"
  }
 },
 "nbformat": 4,
 "nbformat_minor": 2
}
