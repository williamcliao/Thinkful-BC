{
 "cells": [
  {
   "cell_type": "markdown",
   "metadata": {},
   "source": [
    "# Regression Challenge\n",
    "\n",
    "Useful SMOTE explanation + tutorial: https://blog.dominodatalab.com/imbalanced-datasets/\n",
    "\n",
    "\n",
    "## Preparation / Exploration"
   ]
  },
  {
   "cell_type": "code",
   "execution_count": 171,
   "metadata": {
    "collapsed": false
   },
   "outputs": [],
   "source": [
    "import numpy as np\n",
    "import pandas as pd\n",
    "import seaborn as sns\n",
    "import matplotlib.pyplot as plt\n",
    "%matplotlib inline\n",
    "from sklearn.model_selection import cross_val_score\n",
    "import statsmodels.api as sm\n",
    "from sklearn.linear_model import LogisticRegression\n",
    "from sklearn.linear_model import LogisticRegressionCV\n",
    "from sklearn import linear_model\n",
    "from sklearn import preprocessing\n",
    "np.set_printoptions(suppress=True)\n",
    "from IPython.display import display\n",
    "pd.options.display.float_format = '{:.3f}'.format\n",
    "import time"
   ]
  },
  {
   "cell_type": "code",
   "execution_count": 172,
   "metadata": {
    "collapsed": true
   },
   "outputs": [],
   "source": [
    "# Read in data\n",
    "df = pd.read_csv('cali_crime.csv')"
   ]
  },
  {
   "cell_type": "code",
   "execution_count": 173,
   "metadata": {
    "collapsed": false
   },
   "outputs": [
    {
     "data": {
      "text/html": [
       "<div>\n",
       "<style>\n",
       "    .dataframe thead tr:only-child th {\n",
       "        text-align: right;\n",
       "    }\n",
       "\n",
       "    .dataframe thead th {\n",
       "        text-align: left;\n",
       "    }\n",
       "\n",
       "    .dataframe tbody tr th {\n",
       "        vertical-align: top;\n",
       "    }\n",
       "</style>\n",
       "<table border=\"1\" class=\"dataframe\">\n",
       "  <thead>\n",
       "    <tr style=\"text-align: right;\">\n",
       "      <th></th>\n",
       "      <th>city of Angels</th>\n",
       "      <th>population</th>\n",
       "      <th>violent_crime</th>\n",
       "      <th>murder_nonnegligent_murder</th>\n",
       "      <th>rape_revised</th>\n",
       "      <th>rape_legacy</th>\n",
       "      <th>robbery</th>\n",
       "      <th>aggravated_assault</th>\n",
       "      <th>property_crime</th>\n",
       "      <th>burglary</th>\n",
       "      <th>larceny_theft</th>\n",
       "      <th>motorvehicle_theft</th>\n",
       "      <th>arson</th>\n",
       "      <th>Unnamed: 13</th>\n",
       "    </tr>\n",
       "  </thead>\n",
       "  <tbody>\n",
       "    <tr>\n",
       "      <th>0</th>\n",
       "      <td>Adelanto</td>\n",
       "      <td>31,165</td>\n",
       "      <td>198</td>\n",
       "      <td>2.000</td>\n",
       "      <td>nan</td>\n",
       "      <td>15.000</td>\n",
       "      <td>52</td>\n",
       "      <td>129</td>\n",
       "      <td>886</td>\n",
       "      <td>381</td>\n",
       "      <td>372</td>\n",
       "      <td>133</td>\n",
       "      <td>17</td>\n",
       "      <td>nan</td>\n",
       "    </tr>\n",
       "    <tr>\n",
       "      <th>1</th>\n",
       "      <td>Agoura Hills</td>\n",
       "      <td>20,762</td>\n",
       "      <td>19</td>\n",
       "      <td>0.000</td>\n",
       "      <td>nan</td>\n",
       "      <td>2.000</td>\n",
       "      <td>10</td>\n",
       "      <td>7</td>\n",
       "      <td>306</td>\n",
       "      <td>109</td>\n",
       "      <td>185</td>\n",
       "      <td>12</td>\n",
       "      <td>7</td>\n",
       "      <td>nan</td>\n",
       "    </tr>\n",
       "    <tr>\n",
       "      <th>2</th>\n",
       "      <td>Alameda</td>\n",
       "      <td>76,206</td>\n",
       "      <td>158</td>\n",
       "      <td>0.000</td>\n",
       "      <td>nan</td>\n",
       "      <td>10.000</td>\n",
       "      <td>85</td>\n",
       "      <td>63</td>\n",
       "      <td>1,902</td>\n",
       "      <td>287</td>\n",
       "      <td>1,285</td>\n",
       "      <td>330</td>\n",
       "      <td>17</td>\n",
       "      <td>nan</td>\n",
       "    </tr>\n",
       "    <tr>\n",
       "      <th>3</th>\n",
       "      <td>Albany</td>\n",
       "      <td>19,104</td>\n",
       "      <td>29</td>\n",
       "      <td>0.000</td>\n",
       "      <td>nan</td>\n",
       "      <td>1.000</td>\n",
       "      <td>24</td>\n",
       "      <td>4</td>\n",
       "      <td>557</td>\n",
       "      <td>94</td>\n",
       "      <td>388</td>\n",
       "      <td>75</td>\n",
       "      <td>7</td>\n",
       "      <td>nan</td>\n",
       "    </tr>\n",
       "    <tr>\n",
       "      <th>4</th>\n",
       "      <td>Alhambra</td>\n",
       "      <td>84,710</td>\n",
       "      <td>163</td>\n",
       "      <td>1.000</td>\n",
       "      <td>nan</td>\n",
       "      <td>9.000</td>\n",
       "      <td>81</td>\n",
       "      <td>72</td>\n",
       "      <td>1,774</td>\n",
       "      <td>344</td>\n",
       "      <td>1,196</td>\n",
       "      <td>234</td>\n",
       "      <td>7</td>\n",
       "      <td>nan</td>\n",
       "    </tr>\n",
       "  </tbody>\n",
       "</table>\n",
       "</div>"
      ],
      "text/plain": [
       "  city of Angels population violent_crime  murder_nonnegligent_murder  \\\n",
       "0       Adelanto     31,165           198                       2.000   \n",
       "1   Agoura Hills     20,762            19                       0.000   \n",
       "2        Alameda     76,206           158                       0.000   \n",
       "3         Albany     19,104            29                       0.000   \n",
       "4       Alhambra     84,710           163                       1.000   \n",
       "\n",
       "   rape_revised  rape_legacy robbery aggravated_assault property_crime  \\\n",
       "0           nan       15.000      52                129            886   \n",
       "1           nan        2.000      10                  7            306   \n",
       "2           nan       10.000      85                 63          1,902   \n",
       "3           nan        1.000      24                  4            557   \n",
       "4           nan        9.000      81                 72          1,774   \n",
       "\n",
       "  burglary larceny_theft motorvehicle_theft arson  Unnamed: 13  \n",
       "0      381           372                133    17          nan  \n",
       "1      109           185                 12     7          nan  \n",
       "2      287         1,285                330    17          nan  \n",
       "3       94           388                 75     7          nan  \n",
       "4      344         1,196                234     7          nan  "
      ]
     },
     "execution_count": 173,
     "metadata": {},
     "output_type": "execute_result"
    }
   ],
   "source": [
    "# Preview Data\n",
    "df.head()"
   ]
  },
  {
   "cell_type": "code",
   "execution_count": 174,
   "metadata": {
    "collapsed": false
   },
   "outputs": [
    {
     "data": {
      "text/plain": [
       "city of Angels                  0\n",
       "population                      2\n",
       "violent_crime                   2\n",
       "murder_nonnegligent_murder      2\n",
       "rape_revised                  464\n",
       "rape_legacy                     2\n",
       "robbery                         2\n",
       "aggravated_assault              2\n",
       "property_crime                  2\n",
       "burglary                        2\n",
       "larceny_theft                   2\n",
       "motorvehicle_theft              2\n",
       "arson                           2\n",
       "Unnamed: 13                   464\n",
       "dtype: int64"
      ]
     },
     "execution_count": 174,
     "metadata": {},
     "output_type": "execute_result"
    }
   ],
   "source": [
    "# Check for missing values\n",
    "df.isnull().sum()"
   ]
  },
  {
   "cell_type": "code",
   "execution_count": 175,
   "metadata": {
    "collapsed": true
   },
   "outputs": [],
   "source": [
    "# Drop attributes that appear to not contain any values\n",
    "df = df.drop('rape_revised',axis=1)\n",
    "df = df.drop('Unnamed: 13',axis=1)\n",
    "\n",
    "# Drop city attribute as we'll only be using numeric data for the regression omdel\n",
    "df = df.drop('city of Angels',axis=1)\n",
    "\n",
    "# Because there are so few remaining NaN values, we'll rows that have NaN\n",
    "# values instead of imputing\n",
    "df = df.dropna()"
   ]
  },
  {
   "cell_type": "code",
   "execution_count": 176,
   "metadata": {
    "collapsed": false
   },
   "outputs": [
    {
     "data": {
      "text/plain": [
       "population                    0\n",
       "violent_crime                 0\n",
       "murder_nonnegligent_murder    0\n",
       "rape_legacy                   0\n",
       "robbery                       0\n",
       "aggravated_assault            0\n",
       "property_crime                0\n",
       "burglary                      0\n",
       "larceny_theft                 0\n",
       "motorvehicle_theft            0\n",
       "arson                         0\n",
       "dtype: int64"
      ]
     },
     "execution_count": 176,
     "metadata": {},
     "output_type": "execute_result"
    }
   ],
   "source": [
    "# Double check to make sure there are no missing values \n",
    "df.isnull().sum()"
   ]
  },
  {
   "cell_type": "code",
   "execution_count": 177,
   "metadata": {
    "collapsed": false
   },
   "outputs": [
    {
     "data": {
      "text/plain": [
       "population                     object\n",
       "violent_crime                  object\n",
       "murder_nonnegligent_murder    float64\n",
       "rape_legacy                   float64\n",
       "robbery                        object\n",
       "aggravated_assault             object\n",
       "property_crime                 object\n",
       "burglary                       object\n",
       "larceny_theft                  object\n",
       "motorvehicle_theft             object\n",
       "arson                          object\n",
       "dtype: object"
      ]
     },
     "execution_count": 177,
     "metadata": {},
     "output_type": "execute_result"
    }
   ],
   "source": [
    "# Preview data types for remaining attributes\n",
    "df.dtypes"
   ]
  },
  {
   "cell_type": "code",
   "execution_count": 178,
   "metadata": {
    "collapsed": true
   },
   "outputs": [],
   "source": [
    "# Remove commas from objects\n",
    "for column in df.columns:\n",
    "    if df[column].dtype == 'O':\n",
    "        df[column] = df[column].str.replace(',','')"
   ]
  },
  {
   "cell_type": "code",
   "execution_count": 179,
   "metadata": {
    "collapsed": true
   },
   "outputs": [],
   "source": [
    "# Convert all attributes to numeric for model\n",
    "for column in df.columns:\n",
    "    df[column] = pd.to_numeric(df[column],errors='coerce')"
   ]
  },
  {
   "cell_type": "code",
   "execution_count": 180,
   "metadata": {
    "collapsed": true
   },
   "outputs": [],
   "source": [
    "# Create binary target variable for regression model \n",
    "# 0 = robbery did not occur, 1 = robbery did occur\n",
    "df['robbery_target'] = np.where((df['robbery'] > 0),1,0)"
   ]
  },
  {
   "cell_type": "code",
   "execution_count": 181,
   "metadata": {
    "collapsed": true
   },
   "outputs": [],
   "source": [
    "# Drop original 'robbery' attribute\n",
    "df = df.drop('robbery',axis=1)"
   ]
  },
  {
   "cell_type": "code",
   "execution_count": 182,
   "metadata": {
    "collapsed": false
   },
   "outputs": [
    {
     "data": {
      "text/plain": [
       "1    427\n",
       "0     35\n",
       "Name: robbery_target, dtype: int64"
      ]
     },
     "execution_count": 182,
     "metadata": {},
     "output_type": "execute_result"
    }
   ],
   "source": [
    "# Evaluate new target variable\n",
    "df['robbery_target'].value_counts()"
   ]
  },
  {
   "cell_type": "code",
   "execution_count": 75,
   "metadata": {
    "collapsed": false,
    "scrolled": false
   },
   "outputs": [
    {
     "data": {
      "image/png": "[encoded data removed]",
      "text/plain": [
       "<matplotlib.figure.Figure at 0x1191f6588>"
      ]
     },
     "metadata": {},
     "output_type": "display_data"
    },
    {
     "data": {
      "image/png": "[encoded data removed]",
      "text/plain": [
       "<matplotlib.figure.Figure at 0x11c52d160>"
      ]
     },
     "metadata": {},
     "output_type": "display_data"
    },
    {
     "data": {
      "image/png": "[encoded data removed]",
      "text/plain": [
       "<matplotlib.figure.Figure at 0x11c8afe10>"
      ]
     },
     "metadata": {},
     "output_type": "display_data"
    },
    {
     "data": {
      "image/png": "[encoded data removed]",
      "text/plain": [
       "<matplotlib.figure.Figure at 0x11cbc0f60>"
      ]
     },
     "metadata": {},
     "output_type": "display_data"
    },
    {
     "data": {
      "image/png": "[encoded data removed]",
      "text/plain": [
       "<matplotlib.figure.Figure at 0x11da1b400>"
      ]
     },
     "metadata": {},
     "output_type": "display_data"
    },
    {
     "data": {
      "image/png": "[encoded data removed]",
      "text/plain": [
       "<matplotlib.figure.Figure at 0x11c9b3a90>"
      ]
     },
     "metadata": {},
     "output_type": "display_data"
    },
    {
     "data": {
      "image/png": "[encoded data removed]",
      "text/plain": [
       "<matplotlib.figure.Figure at 0x11dd8fba8>"
      ]
     },
     "metadata": {},
     "output_type": "display_data"
    },
    {
     "data": {
      "image/png": "[encoded data removed]",
      "text/plain": [
       "<matplotlib.figure.Figure at 0x11cadf8d0>"
      ]
     },
     "metadata": {},
     "output_type": "display_data"
    },
    {
     "data": {
      "image/png": "[encoded data removed]",
      "text/plain": [
       "<matplotlib.figure.Figure at 0x11cb4eef0>"
      ]
     },
     "metadata": {},
     "output_type": "display_data"
    },
    {
     "data": {
      "image/png": "[encoded data removed]",
      "text/plain": [
       "<matplotlib.figure.Figure at 0x11dcf2eb8>"
      ]
     },
     "metadata": {},
     "output_type": "display_data"
    },
    {
     "data": {
      "image/png": "[encoded data removed]",
      "text/plain": [
       "<matplotlib.figure.Figure at 0x11c477978>"
      ]
     },
     "metadata": {},
     "output_type": "display_data"
    }
   ],
   "source": [
    "# Examine data; areas where no robbery occurred also have significantly lower\n",
    "# crime rates in general \n",
    "for column in df.columns:\n",
    "    sns.boxplot(x='robbery_target',y=column,data=df)\n",
    "    plt.show()"
   ]
  },
  {
   "cell_type": "markdown",
   "metadata": {},
   "source": [
    "### Addressing class imbalance"
   ]
  },
  {
   "cell_type": "code",
   "execution_count": 76,
   "metadata": {
    "collapsed": false,
    "scrolled": true
   },
   "outputs": [],
   "source": [
    "import imblearn.over_sampling.smote"
   ]
  },
  {
   "cell_type": "code",
   "execution_count": 183,
   "metadata": {
    "collapsed": false
   },
   "outputs": [],
   "source": [
    "from imblearn.over_sampling import SMOTE\n",
    "\n",
    "# Assign features and target variable to 'X' and 'Y' respectively\n",
    "X = df.drop('robbery_target',axis=1)\n",
    "Y = df['robbery_target']\n",
    "\n",
    "smote = SMOTE(kind = \"regular\")\n",
    "X_sm, Y_sm = smote.fit_sample(X,Y)"
   ]
  },
  {
   "cell_type": "code",
   "execution_count": 185,
   "metadata": {
    "collapsed": false,
    "scrolled": true
   },
   "outputs": [
    {
     "data": {
      "text/plain": [
       "1    427\n",
       "0    427\n",
       "dtype: int64"
      ]
     },
     "execution_count": 185,
     "metadata": {},
     "output_type": "execute_result"
    }
   ],
   "source": [
    "pd.value_counts(pd.Series(Y_sm))"
   ]
  },
  {
   "cell_type": "code",
   "execution_count": 186,
   "metadata": {
    "collapsed": false
   },
   "outputs": [],
   "source": [
    "cols = df.columns\n",
    "cols = cols.drop('robbery_target')\n",
    "\n",
    "sm_features = pd.DataFrame(data=X_sm,columns=cols)\n",
    "\n",
    "sm_target = pd.DataFrame(data=Y_sm, columns = ['robbery_target'])\n",
    "\n",
    "frames = [sm_features, sm_target]\n",
    "sm_data = pd.concat(frames,axis=1)\n",
    "\n",
    "X = sm_features\n",
    "Y = sm_target.values.ravel()"
   ]
  },
  {
   "cell_type": "raw",
   "metadata": {
    "collapsed": true
   },
   "source": [
    "# Assign features and target variable to 'X' and 'Y' respectively\n",
    "X = df.drop('robbery_target',axis=1)\n",
    "Y = df['robbery_target']"
   ]
  },
  {
   "cell_type": "code",
   "execution_count": 188,
   "metadata": {
    "collapsed": false
   },
   "outputs": [
    {
     "data": {
      "text/html": [
       "<div>\n",
       "<style>\n",
       "    .dataframe thead tr:only-child th {\n",
       "        text-align: right;\n",
       "    }\n",
       "\n",
       "    .dataframe thead th {\n",
       "        text-align: left;\n",
       "    }\n",
       "\n",
       "    .dataframe tbody tr th {\n",
       "        vertical-align: top;\n",
       "    }\n",
       "</style>\n",
       "<table border=\"1\" class=\"dataframe\">\n",
       "  <thead>\n",
       "    <tr style=\"text-align: right;\">\n",
       "      <th></th>\n",
       "      <th>population</th>\n",
       "      <th>violent_crime</th>\n",
       "      <th>murder_nonnegligent_murder</th>\n",
       "      <th>rape_legacy</th>\n",
       "      <th>aggravated_assault</th>\n",
       "      <th>property_crime</th>\n",
       "      <th>burglary</th>\n",
       "      <th>larceny_theft</th>\n",
       "      <th>motorvehicle_theft</th>\n",
       "      <th>arson</th>\n",
       "      <th>robbery_target</th>\n",
       "    </tr>\n",
       "  </thead>\n",
       "  <tbody>\n",
       "    <tr>\n",
       "      <th>0</th>\n",
       "      <td>31165.000</td>\n",
       "      <td>198.000</td>\n",
       "      <td>2.000</td>\n",
       "      <td>15.000</td>\n",
       "      <td>129.000</td>\n",
       "      <td>886.000</td>\n",
       "      <td>381.000</td>\n",
       "      <td>372.000</td>\n",
       "      <td>133.000</td>\n",
       "      <td>17.000</td>\n",
       "      <td>1</td>\n",
       "    </tr>\n",
       "  </tbody>\n",
       "</table>\n",
       "</div>"
      ],
      "text/plain": [
       "   population  violent_crime  murder_nonnegligent_murder  rape_legacy  \\\n",
       "0   31165.000        198.000                       2.000       15.000   \n",
       "\n",
       "   aggravated_assault  property_crime  burglary  larceny_theft  \\\n",
       "0             129.000         886.000   381.000        372.000   \n",
       "\n",
       "   motorvehicle_theft  arson  robbery_target  \n",
       "0             133.000 17.000               1  "
      ]
     },
     "execution_count": 188,
     "metadata": {},
     "output_type": "execute_result"
    }
   ],
   "source": [
    "sm_data.head(1)"
   ]
  },
  {
   "cell_type": "markdown",
   "metadata": {},
   "source": [
    "### Random Forest (RF)"
   ]
  },
  {
   "cell_type": "code",
   "execution_count": 114,
   "metadata": {
    "collapsed": false
   },
   "outputs": [
    {
     "name": "stderr",
     "output_type": "stream",
     "text": [
      "/Users/wliao/anaconda/lib/python3.6/site-packages/ipykernel/__main__.py:7: DataConversionWarning: A column-vector y was passed when a 1d array was expected. Please change the shape of y to (n_samples,), for example using ravel().\n"
     ]
    },
    {
     "name": "stdout",
     "output_type": "stream",
     "text": [
      "Feature ranking:\n",
      "1. feature 7 (0.142313)\n",
      "2. feature 1 (0.141245)\n",
      "3. feature 5 (0.138948)\n",
      "4. feature 0 (0.107324)\n",
      "5. feature 8 (0.100476)\n",
      "6. feature 6 (0.098910)\n",
      "7. feature 4 (0.098309)\n",
      "8. feature 3 (0.088537)\n",
      "9. feature 9 (0.050846)\n",
      "10. feature 2 (0.033093)\n"
     ]
    },
    {
     "data": {
      "image/png": "[encoded data removed]",
      "text/plain": [
       "<matplotlib.figure.Figure at 0x11c3ad470>"
      ]
     },
     "metadata": {},
     "output_type": "display_data"
    }
   ],
   "source": [
    "from sklearn.ensemble import ExtraTreesClassifier\n",
    "\n",
    "# Instantiate model\n",
    "forest = ExtraTreesClassifier(n_estimators=250)\n",
    "\n",
    "#Fit model\n",
    "forest.fit(X,Y)\n",
    "importances = forest.feature_importances_\n",
    "\n",
    "std = np.std([tree.feature_importances_ for tree in forest.estimators_],\n",
    "             axis=0)\n",
    "indices = np.argsort(importances)[::-1]\n",
    "\n",
    "# Print the feature ranking\n",
    "print(\"Feature ranking:\")\n",
    "\n",
    "for f in range(X.shape[1]):\n",
    "    print(\"%d. feature %d (%f)\" % (f + 1, indices[f], importances[indices[f]]))\n",
    "\n",
    "# Plot the feature importances of the forest\n",
    "plt.figure()\n",
    "plt.title(\"Feature importances\")\n",
    "plt.bar(range(X.shape[1]), importances[indices],\n",
    "       color=\"r\", yerr=std[indices], align=\"center\")\n",
    "plt.xticks(range(X.shape[1]), indices)\n",
    "plt.xlim([-1, X.shape[1]])\n",
    "plt.show()"
   ]
  },
  {
   "cell_type": "code",
   "execution_count": 115,
   "metadata": {
    "collapsed": false,
    "scrolled": true
   },
   "outputs": [],
   "source": [
    "# Assign features\n",
    "rf_features = X[X.columns[[indices[0:7]]]]"
   ]
  },
  {
   "cell_type": "code",
   "execution_count": 116,
   "metadata": {
    "collapsed": false
   },
   "outputs": [
    {
     "data": {
      "text/plain": [
       "<matplotlib.axes._subplots.AxesSubplot at 0x11e0d9d68>"
      ]
     },
     "execution_count": 116,
     "metadata": {},
     "output_type": "execute_result"
    },
    {
     "data": {
      "image/png": "[encoded data removed]",
      "text/plain": [
       "<matplotlib.figure.Figure at 0x10cbf1e10>"
      ]
     },
     "metadata": {},
     "output_type": "display_data"
    }
   ],
   "source": [
    "sns.heatmap(rf_features.corr())"
   ]
  },
  {
   "cell_type": "markdown",
   "metadata": {},
   "source": [
    "### Principal Component Analysis (PCA)"
   ]
  },
  {
   "cell_type": "code",
   "execution_count": 120,
   "metadata": {
    "collapsed": true
   },
   "outputs": [],
   "source": [
    "from sklearn import preprocessing\n",
    "from sklearn.decomposition import PCA\n",
    "\n",
    "pca = PCA(n_components=10)\n",
    "\n",
    "# Assign features and target variable to 'X' and 'Y' respectively\n",
    "X = sm_features\n",
    "X_scaled = preprocessing.scale(X)\n",
    "\n",
    "X_pca = pca.fit_transform(X_scaled)\n",
    "\n",
    "Y = sm_target"
   ]
  },
  {
   "cell_type": "code",
   "execution_count": 121,
   "metadata": {
    "collapsed": false,
    "scrolled": false
   },
   "outputs": [
    {
     "name": "stdout",
     "output_type": "stream",
     "text": [
      "[ 0.94084836  0.02317353  0.01251547  0.01001562  0.00537353  0.00435973\n",
      "  0.0019072   0.00122601  0.00058057  0.        ]\n"
     ]
    },
    {
     "data": {
      "text/plain": [
       "[<matplotlib.lines.Line2D at 0x11dcdb048>]"
      ]
     },
     "execution_count": 121,
     "metadata": {},
     "output_type": "execute_result"
    },
    {
     "data": {
      "image/png": "[encoded data removed]",
      "text/plain": [
       "<matplotlib.figure.Figure at 0x10b612b00>"
      ]
     },
     "metadata": {},
     "output_type": "display_data"
    }
   ],
   "source": [
    "# Evaluate explained variance ratio -- it appears that the first component explains\n",
    "# most of the data set. \n",
    "print(pca.explained_variance_ratio_)\n",
    "plt.plot(pca.explained_variance_ratio_)"
   ]
  },
  {
   "cell_type": "code",
   "execution_count": 122,
   "metadata": {
    "collapsed": false
   },
   "outputs": [
    {
     "data": {
      "text/plain": [
       "array([ 9.41951344,  0.23200693,  0.12530139,  0.10027357,  0.05379829,\n",
       "        0.04364839,  0.01909433,  0.01227446,  0.00581254,  0.        ])"
      ]
     },
     "execution_count": 122,
     "metadata": {},
     "output_type": "execute_result"
    }
   ],
   "source": [
    "# The first principal component explains the variance of a little over 9 of \n",
    "# our features\n",
    "pca.explained_variance_"
   ]
  },
  {
   "cell_type": "code",
   "execution_count": 123,
   "metadata": {
    "collapsed": true
   },
   "outputs": [],
   "source": [
    "# Assign the first principal component to X_pca\n",
    "pca = PCA(n_components=1)\n",
    "X_pca = pca.fit_transform(X_scaled)"
   ]
  },
  {
   "cell_type": "markdown",
   "metadata": {},
   "source": [
    "# Logistic Regression"
   ]
  },
  {
   "cell_type": "markdown",
   "metadata": {},
   "source": [
    "### Using all features"
   ]
  },
  {
   "cell_type": "code",
   "execution_count": 135,
   "metadata": {
    "collapsed": false
   },
   "outputs": [
    {
     "name": "stdout",
     "output_type": "stream",
     "text": [
      "0.700234192037\n"
     ]
    }
   ],
   "source": [
    "# Fit logistic regression model\n",
    "lr = LogisticRegression()\n",
    "fit = lr.fit(X,Y)\n",
    "print(lr.score(X,Y))"
   ]
  },
  {
   "cell_type": "code",
   "execution_count": 136,
   "metadata": {
    "collapsed": false,
    "scrolled": false
   },
   "outputs": [
    {
     "name": "stdout",
     "output_type": "stream",
     "text": [
      "0.747757475083\n"
     ]
    }
   ],
   "source": [
    "# Evaluate performnace during cross validation\n",
    "lr_score = cross_val_score(lr,X,Y,cv=10)\n",
    "print(np.mean(lr_score))"
   ]
  },
  {
   "cell_type": "code",
   "execution_count": 137,
   "metadata": {
    "collapsed": false
   },
   "outputs": [
    {
     "name": "stdout",
     "output_type": "stream",
     "text": [
      "[[-0.00005948  0.01375885  0.00040655  0.00137521  0.00110429  0.00453883\n",
      "  -0.01064232  0.00332636  0.0118548   0.00023975]]\n",
      "[-0.00381805]\n"
     ]
    }
   ],
   "source": [
    "# Evaluate coefficients\n",
    "print(lr.coef_)\n",
    "print(lr.intercept_)"
   ]
  },
  {
   "cell_type": "markdown",
   "metadata": {},
   "source": [
    "### Using top features  from random forests"
   ]
  },
  {
   "cell_type": "code",
   "execution_count": 138,
   "metadata": {
    "collapsed": false
   },
   "outputs": [],
   "source": [
    "fit = lr.fit(rf_features,Y)"
   ]
  },
  {
   "cell_type": "code",
   "execution_count": 139,
   "metadata": {
    "collapsed": false
   },
   "outputs": [
    {
     "name": "stdout",
     "output_type": "stream",
     "text": [
      "0.753571428571\n"
     ]
    }
   ],
   "source": [
    "# Evaluate performnace during cross validation\n",
    "lr_rf_score = cross_val_score(lr,rf_features,Y,cv=10)\n",
    "print(np.mean(lr_rf_score))"
   ]
  },
  {
   "cell_type": "code",
   "execution_count": 129,
   "metadata": {
    "collapsed": false
   },
   "outputs": [
    {
     "name": "stdout",
     "output_type": "stream",
     "text": [
      "[[ 0.00331632  0.0138161   0.00454977 -0.00005943  0.01189227 -0.01065882\n",
      "   0.00110833]]\n",
      "[-0.00383377]\n"
     ]
    }
   ],
   "source": [
    "# Evaluate coefficients\n",
    "print(lr.coef_)\n",
    "print(lr.intercept_)"
   ]
  },
  {
   "cell_type": "markdown",
   "metadata": {},
   "source": [
    "### Using one principal components"
   ]
  },
  {
   "cell_type": "code",
   "execution_count": 140,
   "metadata": {
    "collapsed": false
   },
   "outputs": [],
   "source": [
    "# Evaluate coefficients\n",
    "fit = lr.fit(X_pca,Y)"
   ]
  },
  {
   "cell_type": "code",
   "execution_count": 141,
   "metadata": {
    "collapsed": false
   },
   "outputs": [
    {
     "name": "stdout",
     "output_type": "stream",
     "text": [
      "--- 0.024099111557006836 seconds ---\n",
      "0.890033222591\n"
     ]
    }
   ],
   "source": [
    "# Evaluate performnace during cross validation\n",
    "start_time = time.time()\n",
    "lr_score = cross_val_score(lr,X_pca,Y,cv=10)\n",
    "print(\"--- %s seconds ---\" % (time.time() - start_time))\n",
    "\n",
    "print(np.mean(lr_score))"
   ]
  },
  {
   "cell_type": "markdown",
   "metadata": {},
   "source": [
    "# Ridge Regression"
   ]
  },
  {
   "cell_type": "markdown",
   "metadata": {},
   "source": [
    "### Using all features"
   ]
  },
  {
   "cell_type": "code",
   "execution_count": 142,
   "metadata": {
    "collapsed": true
   },
   "outputs": [],
   "source": [
    "# Identify optimal lambda value \n",
    "ridge_cv = LogisticRegressionCV(penalty='l2')\n",
    "model_cv = ridge_cv.fit(X,Y)\n",
    "ridge_lambda = float(model_cv.C_)"
   ]
  },
  {
   "cell_type": "code",
   "execution_count": 143,
   "metadata": {
    "collapsed": false
   },
   "outputs": [
    {
     "name": "stdout",
     "output_type": "stream",
     "text": [
      "0.700234192037\n"
     ]
    }
   ],
   "source": [
    "# Fit Ridge regression model to data with optimal lambda value \n",
    "ridger = LogisticRegression(penalty='l2',C=ridge_lambda)\n",
    "fit = ridger.fit(X,Y)\n",
    "print(ridger.score(X,Y))"
   ]
  },
  {
   "cell_type": "code",
   "execution_count": 144,
   "metadata": {
    "collapsed": false,
    "scrolled": true
   },
   "outputs": [
    {
     "name": "stdout",
     "output_type": "stream",
     "text": [
      "0.747757475083\n"
     ]
    }
   ],
   "source": [
    "# Evaluate performance during cross validation\n",
    "ridge_score = cross_val_score(ridger,X,Y,cv=10)\n",
    "print(np.mean(ridge_score))"
   ]
  },
  {
   "cell_type": "code",
   "execution_count": 145,
   "metadata": {
    "collapsed": false
   },
   "outputs": [
    {
     "name": "stdout",
     "output_type": "stream",
     "text": [
      "[[-0.00005948  0.01375901  0.00040656  0.00137523  0.0011043   0.00453885\n",
      "  -0.01064246  0.00332638  0.01185494  0.00023975]]\n",
      "[-0.0038181]\n"
     ]
    }
   ],
   "source": [
    "# Evaluate coefficients\n",
    "print(ridger.coef_)\n",
    "print(ridger.intercept_)"
   ]
  },
  {
   "cell_type": "markdown",
   "metadata": {},
   "source": [
    "### Using top features  from random forests"
   ]
  },
  {
   "cell_type": "code",
   "execution_count": 146,
   "metadata": {
    "collapsed": true
   },
   "outputs": [],
   "source": [
    "# Identify optimal lambda value \n",
    "ridge_cv = LogisticRegressionCV(penalty='l2')\n",
    "model_cv = ridge_cv.fit(rf_features,Y)\n",
    "ridge_lambda = float(model_cv.C_)"
   ]
  },
  {
   "cell_type": "code",
   "execution_count": 147,
   "metadata": {
    "collapsed": false
   },
   "outputs": [
    {
     "name": "stdout",
     "output_type": "stream",
     "text": [
      "0.700234192037\n"
     ]
    }
   ],
   "source": [
    "# Fit Ridge regression model to data with optimal lambda value \n",
    "ridger = LogisticRegression(penalty='l2',C=ridge_lambda)\n",
    "fit = ridger.fit(rf_features,Y)\n",
    "print(ridger.score(rf_features,Y))"
   ]
  },
  {
   "cell_type": "code",
   "execution_count": 148,
   "metadata": {
    "collapsed": false
   },
   "outputs": [
    {
     "name": "stdout",
     "output_type": "stream",
     "text": [
      "--- 0.04677581787109375 seconds ---\n",
      "0.750083056478\n"
     ]
    }
   ],
   "source": [
    "# Evaluate performance during cross validation\n",
    "start_time = time.time()\n",
    "ridge_score = cross_val_score(ridger,rf_features,Y,cv=10)\n",
    "print(\"--- %s seconds ---\" % (time.time() - start_time))\n",
    "\n",
    "print(np.mean(ridge_score))"
   ]
  },
  {
   "cell_type": "code",
   "execution_count": 149,
   "metadata": {
    "collapsed": false,
    "scrolled": true
   },
   "outputs": [
    {
     "name": "stdout",
     "output_type": "stream",
     "text": [
      "[[ 0.00331629  0.01381581  0.00454974 -0.00005943  0.01189201 -0.01065856\n",
      "   0.00110831]]\n",
      "[-0.00383369]\n"
     ]
    }
   ],
   "source": [
    "# Evaluate coefficients\n",
    "print(ridger.coef_)\n",
    "print(ridger.intercept_)"
   ]
  },
  {
   "cell_type": "markdown",
   "metadata": {},
   "source": [
    "# Lasso Regression"
   ]
  },
  {
   "cell_type": "markdown",
   "metadata": {},
   "source": [
    "### Using all features"
   ]
  },
  {
   "cell_type": "code",
   "execution_count": 150,
   "metadata": {
    "collapsed": true
   },
   "outputs": [],
   "source": [
    "# Identify optimal lambda for lasso regression model \n",
    "lasso_cv = LogisticRegressionCV(penalty='l1',solver='liblinear')\n",
    "model_cv = lasso_cv.fit(X,Y)\n",
    "lasso_lambda = float(model_cv.C_)"
   ]
  },
  {
   "cell_type": "code",
   "execution_count": 151,
   "metadata": {
    "collapsed": false,
    "scrolled": true
   },
   "outputs": [
    {
     "name": "stdout",
     "output_type": "stream",
     "text": [
      "0.894613583138\n"
     ]
    }
   ],
   "source": [
    "# Fit lesson regression model to data with optimal lambda\n",
    "lassor = LogisticRegression(penalty='l1',C=lasso_lambda)\n",
    "fit = lassor.fit(X,Y)\n",
    "print(lassor.score(X,Y))"
   ]
  },
  {
   "cell_type": "code",
   "execution_count": 152,
   "metadata": {
    "collapsed": false,
    "scrolled": true
   },
   "outputs": [
    {
     "name": "stdout",
     "output_type": "stream",
     "text": [
      "0.904069767442\n"
     ]
    }
   ],
   "source": [
    "# Evaluate performance during cross validation\n",
    "lassor_score = cross_val_score(lassor,X,Y,cv=10)\n",
    "print(np.mean(lassor_score))"
   ]
  },
  {
   "cell_type": "code",
   "execution_count": 153,
   "metadata": {
    "collapsed": false,
    "scrolled": true
   },
   "outputs": [
    {
     "name": "stdout",
     "output_type": "stream",
     "text": [
      "[[ 0.00001274  0.00528961  0.34750341  0.10044977  0.00700682  0.00161949\n",
      "   0.00268597  0.00166576 -0.00029172  0.06105123]]\n",
      "[-1.97941459]\n"
     ]
    }
   ],
   "source": [
    "# Evaluate coefficients \n",
    "print(lassor.coef_)\n",
    "print(lassor.intercept_)"
   ]
  },
  {
   "cell_type": "markdown",
   "metadata": {},
   "source": [
    "### Using top features  from random forests"
   ]
  },
  {
   "cell_type": "code",
   "execution_count": 154,
   "metadata": {
    "collapsed": true
   },
   "outputs": [],
   "source": [
    "# Identify optimal lambda for lasso regression model \n",
    "lasso_cv = LogisticRegressionCV(penalty='l1',solver='liblinear')\n",
    "model_cv = lasso_cv.fit(rf_features,Y)\n",
    "lasso_lambda = float(model_cv.C_)"
   ]
  },
  {
   "cell_type": "code",
   "execution_count": 155,
   "metadata": {
    "collapsed": false
   },
   "outputs": [
    {
     "name": "stdout",
     "output_type": "stream",
     "text": [
      "0.900468384075\n"
     ]
    }
   ],
   "source": [
    "# Fit lesson regression model to data with optimal lambda\n",
    "lassor = LogisticRegression(penalty='l1',C=lasso_lambda)\n",
    "fit = lassor.fit(rf_features,Y)\n",
    "print(lassor.score(rf_features,Y))"
   ]
  },
  {
   "cell_type": "code",
   "execution_count": 156,
   "metadata": {
    "collapsed": false,
    "scrolled": true
   },
   "outputs": [
    {
     "name": "stdout",
     "output_type": "stream",
     "text": [
      "[[ 0.00322132  0.00671463  0.00101552  0.00000466  0.0114936   0.00188164\n",
      "   0.01585737]]\n",
      "[-1.76184523]\n"
     ]
    }
   ],
   "source": [
    "# Evaluate coefficients \n",
    "print(lassor.coef_)\n",
    "print(lassor.intercept_)"
   ]
  },
  {
   "cell_type": "markdown",
   "metadata": {},
   "source": [
    "## Conclusion\n",
    "\n"
   ]
  },
  {
   "cell_type": "markdown",
   "metadata": {},
   "source": [
    "PCA with Logistic Regression or Lasso regression both seem to be appropriate methodologies. \n",
    "\n",
    "Both are comparable in performance and address the high multicollinearity within the data set. \n",
    "\n",
    "Picking an ideal model of the two would depend on the business case - if your model doesn't have to be interpretable, then PCA would be optimal as its performance is similar and it's computationally less expensive. \n",
    "\n",
    "If your interpretability is a requirement, then ridge regression with a subset of decidedly 'important features' (via Random Forests in our case) is more appropriate. "
   ]
  },
  {
   "cell_type": "code",
   "execution_count": null,
   "metadata": {
    "collapsed": true
   },
   "outputs": [],
   "source": []
  }
 ],
 "metadata": {
  "kernelspec": {
   "display_name": "Python 3",
   "language": "python",
   "name": "python3"
  },
  "language_info": {
   "codemirror_mode": {
    "name": "ipython",
    "version": 3
   },
   "file_extension": ".py",
   "mimetype": "text/x-python",
   "name": "python",
   "nbconvert_exporter": "python",
   "pygments_lexer": "ipython3",
   "version": "3.6.4"
  }
 },
 "nbformat": 4,
 "nbformat_minor": 2
}
