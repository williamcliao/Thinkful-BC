{
 "cells": [
  {
   "cell_type": "markdown",
   "metadata": {},
   "source": [
    "# Regression Challenge\n",
    "\n",
    "## Preparation / Exploration"
   ]
  },
  {
   "cell_type": "code",
   "execution_count": 2,
   "metadata": {
    "collapsed": false
   },
   "outputs": [
    {
     "name": "stderr",
     "output_type": "stream",
     "text": [
      "/Users/wliao/anaconda/lib/python3.6/site-packages/statsmodels/compat/pandas.py:56: FutureWarning: The pandas.core.datetools module is deprecated and will be removed in a future version. Please use the pandas.tseries module instead.\n",
      "  from pandas.core import datetools\n"
     ]
    }
   ],
   "source": [
    "import numpy as np\n",
    "import pandas as pd\n",
    "import seaborn as sns\n",
    "import matplotlib.pyplot as plt\n",
    "%matplotlib inline\n",
    "from sklearn.model_selection import cross_val_score\n",
    "import statsmodels.api as sm\n",
    "from sklearn.linear_model import LogisticRegression\n",
    "from sklearn.linear_model import LogisticRegressionCV\n",
    "from sklearn import linear_model\n",
    "from sklearn import preprocessing"
   ]
  },
  {
   "cell_type": "code",
   "execution_count": 3,
   "metadata": {
    "collapsed": true
   },
   "outputs": [],
   "source": [
    "# Read in data\n",
    "df = pd.read_csv('cali_crime.csv')"
   ]
  },
  {
   "cell_type": "code",
   "execution_count": 4,
   "metadata": {
    "collapsed": false
   },
   "outputs": [
    {
     "data": {
      "text/html": [
       "<div>\n",
       "<style>\n",
       "    .dataframe thead tr:only-child th {\n",
       "        text-align: right;\n",
       "    }\n",
       "\n",
       "    .dataframe thead th {\n",
       "        text-align: left;\n",
       "    }\n",
       "\n",
       "    .dataframe tbody tr th {\n",
       "        vertical-align: top;\n",
       "    }\n",
       "</style>\n",
       "<table border=\"1\" class=\"dataframe\">\n",
       "  <thead>\n",
       "    <tr style=\"text-align: right;\">\n",
       "      <th></th>\n",
       "      <th>city of Angels</th>\n",
       "      <th>population</th>\n",
       "      <th>violent_crime</th>\n",
       "      <th>murder_nonnegligent_murder</th>\n",
       "      <th>rape_revised</th>\n",
       "      <th>rape_legacy</th>\n",
       "      <th>robbery</th>\n",
       "      <th>aggravated_assault</th>\n",
       "      <th>property_crime</th>\n",
       "      <th>burglary</th>\n",
       "      <th>larceny_theft</th>\n",
       "      <th>motorvehicle_theft</th>\n",
       "      <th>arson</th>\n",
       "      <th>Unnamed: 13</th>\n",
       "    </tr>\n",
       "  </thead>\n",
       "  <tbody>\n",
       "    <tr>\n",
       "      <th>0</th>\n",
       "      <td>Adelanto</td>\n",
       "      <td>31,165</td>\n",
       "      <td>198</td>\n",
       "      <td>2.0</td>\n",
       "      <td>NaN</td>\n",
       "      <td>15.0</td>\n",
       "      <td>52</td>\n",
       "      <td>129</td>\n",
       "      <td>886</td>\n",
       "      <td>381</td>\n",
       "      <td>372</td>\n",
       "      <td>133</td>\n",
       "      <td>17</td>\n",
       "      <td>NaN</td>\n",
       "    </tr>\n",
       "    <tr>\n",
       "      <th>1</th>\n",
       "      <td>Agoura Hills</td>\n",
       "      <td>20,762</td>\n",
       "      <td>19</td>\n",
       "      <td>0.0</td>\n",
       "      <td>NaN</td>\n",
       "      <td>2.0</td>\n",
       "      <td>10</td>\n",
       "      <td>7</td>\n",
       "      <td>306</td>\n",
       "      <td>109</td>\n",
       "      <td>185</td>\n",
       "      <td>12</td>\n",
       "      <td>7</td>\n",
       "      <td>NaN</td>\n",
       "    </tr>\n",
       "    <tr>\n",
       "      <th>2</th>\n",
       "      <td>Alameda</td>\n",
       "      <td>76,206</td>\n",
       "      <td>158</td>\n",
       "      <td>0.0</td>\n",
       "      <td>NaN</td>\n",
       "      <td>10.0</td>\n",
       "      <td>85</td>\n",
       "      <td>63</td>\n",
       "      <td>1,902</td>\n",
       "      <td>287</td>\n",
       "      <td>1,285</td>\n",
       "      <td>330</td>\n",
       "      <td>17</td>\n",
       "      <td>NaN</td>\n",
       "    </tr>\n",
       "    <tr>\n",
       "      <th>3</th>\n",
       "      <td>Albany</td>\n",
       "      <td>19,104</td>\n",
       "      <td>29</td>\n",
       "      <td>0.0</td>\n",
       "      <td>NaN</td>\n",
       "      <td>1.0</td>\n",
       "      <td>24</td>\n",
       "      <td>4</td>\n",
       "      <td>557</td>\n",
       "      <td>94</td>\n",
       "      <td>388</td>\n",
       "      <td>75</td>\n",
       "      <td>7</td>\n",
       "      <td>NaN</td>\n",
       "    </tr>\n",
       "    <tr>\n",
       "      <th>4</th>\n",
       "      <td>Alhambra</td>\n",
       "      <td>84,710</td>\n",
       "      <td>163</td>\n",
       "      <td>1.0</td>\n",
       "      <td>NaN</td>\n",
       "      <td>9.0</td>\n",
       "      <td>81</td>\n",
       "      <td>72</td>\n",
       "      <td>1,774</td>\n",
       "      <td>344</td>\n",
       "      <td>1,196</td>\n",
       "      <td>234</td>\n",
       "      <td>7</td>\n",
       "      <td>NaN</td>\n",
       "    </tr>\n",
       "  </tbody>\n",
       "</table>\n",
       "</div>"
      ],
      "text/plain": [
       "  city of Angels population violent_crime  murder_nonnegligent_murder  \\\n",
       "0       Adelanto     31,165           198                         2.0   \n",
       "1   Agoura Hills     20,762            19                         0.0   \n",
       "2        Alameda     76,206           158                         0.0   \n",
       "3         Albany     19,104            29                         0.0   \n",
       "4       Alhambra     84,710           163                         1.0   \n",
       "\n",
       "   rape_revised  rape_legacy robbery aggravated_assault property_crime  \\\n",
       "0           NaN         15.0      52                129            886   \n",
       "1           NaN          2.0      10                  7            306   \n",
       "2           NaN         10.0      85                 63          1,902   \n",
       "3           NaN          1.0      24                  4            557   \n",
       "4           NaN          9.0      81                 72          1,774   \n",
       "\n",
       "  burglary larceny_theft motorvehicle_theft arson  Unnamed: 13  \n",
       "0      381           372                133    17          NaN  \n",
       "1      109           185                 12     7          NaN  \n",
       "2      287         1,285                330    17          NaN  \n",
       "3       94           388                 75     7          NaN  \n",
       "4      344         1,196                234     7          NaN  "
      ]
     },
     "execution_count": 4,
     "metadata": {},
     "output_type": "execute_result"
    }
   ],
   "source": [
    "# Preview Data\n",
    "df.head()"
   ]
  },
  {
   "cell_type": "code",
   "execution_count": 5,
   "metadata": {
    "collapsed": false
   },
   "outputs": [
    {
     "data": {
      "text/plain": [
       "city of Angels                  0\n",
       "population                      2\n",
       "violent_crime                   2\n",
       "murder_nonnegligent_murder      2\n",
       "rape_revised                  464\n",
       "rape_legacy                     2\n",
       "robbery                         2\n",
       "aggravated_assault              2\n",
       "property_crime                  2\n",
       "burglary                        2\n",
       "larceny_theft                   2\n",
       "motorvehicle_theft              2\n",
       "arson                           2\n",
       "Unnamed: 13                   464\n",
       "dtype: int64"
      ]
     },
     "execution_count": 5,
     "metadata": {},
     "output_type": "execute_result"
    }
   ],
   "source": [
    "# Check for missing values\n",
    "df.isnull().sum()"
   ]
  },
  {
   "cell_type": "code",
   "execution_count": 6,
   "metadata": {
    "collapsed": false
   },
   "outputs": [],
   "source": [
    "# Drop attributes that appear to not contain any values\n",
    "df = df.drop('rape_revised',axis=1)\n",
    "df = df.drop('Unnamed: 13',axis=1)\n",
    "\n",
    "# Drop city attribute as we'll only be using numeric data for the regression omdel\n",
    "df = df.drop('city of Angels',axis=1)\n",
    "\n",
    "# Because there are so few remaining NaN values, we'll rows that have NaN\n",
    "# values instead of imputing\n",
    "df = df.dropna()"
   ]
  },
  {
   "cell_type": "code",
   "execution_count": 7,
   "metadata": {
    "collapsed": false
   },
   "outputs": [
    {
     "data": {
      "text/plain": [
       "population                    0\n",
       "violent_crime                 0\n",
       "murder_nonnegligent_murder    0\n",
       "rape_legacy                   0\n",
       "robbery                       0\n",
       "aggravated_assault            0\n",
       "property_crime                0\n",
       "burglary                      0\n",
       "larceny_theft                 0\n",
       "motorvehicle_theft            0\n",
       "arson                         0\n",
       "dtype: int64"
      ]
     },
     "execution_count": 7,
     "metadata": {},
     "output_type": "execute_result"
    }
   ],
   "source": [
    "# Double check to make sure there are no missing values \n",
    "df.isnull().sum()"
   ]
  },
  {
   "cell_type": "code",
   "execution_count": 8,
   "metadata": {
    "collapsed": false
   },
   "outputs": [
    {
     "data": {
      "text/plain": [
       "population                     object\n",
       "violent_crime                  object\n",
       "murder_nonnegligent_murder    float64\n",
       "rape_legacy                   float64\n",
       "robbery                        object\n",
       "aggravated_assault             object\n",
       "property_crime                 object\n",
       "burglary                       object\n",
       "larceny_theft                  object\n",
       "motorvehicle_theft             object\n",
       "arson                          object\n",
       "dtype: object"
      ]
     },
     "execution_count": 8,
     "metadata": {},
     "output_type": "execute_result"
    }
   ],
   "source": [
    "# Preview data types for remaining attributes\n",
    "df.dtypes"
   ]
  },
  {
   "cell_type": "code",
   "execution_count": 9,
   "metadata": {
    "collapsed": false
   },
   "outputs": [],
   "source": [
    "# Remove commas from objects\n",
    "for column in df.columns:\n",
    "    if df[column].dtype == 'O':\n",
    "        df[column] = df[column].str.replace(',','')"
   ]
  },
  {
   "cell_type": "code",
   "execution_count": 10,
   "metadata": {
    "collapsed": false
   },
   "outputs": [],
   "source": [
    "# Convert all attributes to numeric for model\n",
    "for column in df.columns:\n",
    "    df[column] = pd.to_numeric(df[column],errors='coerce')"
   ]
  },
  {
   "cell_type": "code",
   "execution_count": 11,
   "metadata": {
    "collapsed": false
   },
   "outputs": [],
   "source": [
    "# Create binary target variable for regression model \n",
    "# 0 = robbery did not occur, 1 = robbery did occur\n",
    "df['robbery_target'] = np.where((df['robbery'] > 0),1,0)"
   ]
  },
  {
   "cell_type": "code",
   "execution_count": 12,
   "metadata": {
    "collapsed": false
   },
   "outputs": [],
   "source": [
    "# Drop original 'robbery' attribute\n",
    "df = df.drop('robbery',axis=1)"
   ]
  },
  {
   "cell_type": "code",
   "execution_count": 13,
   "metadata": {
    "collapsed": false
   },
   "outputs": [
    {
     "data": {
      "text/plain": [
       "1    427\n",
       "0     35\n",
       "Name: robbery_target, dtype: int64"
      ]
     },
     "execution_count": 13,
     "metadata": {},
     "output_type": "execute_result"
    }
   ],
   "source": [
    "# Evaluate new target variable\n",
    "df['robbery_target'].value_counts()"
   ]
  },
  {
   "cell_type": "code",
   "execution_count": 14,
   "metadata": {
    "collapsed": false
   },
   "outputs": [
    {
     "data": {
      "image/png": "[encoded data removed]",
      "text/plain": [
       "<matplotlib.figure.Figure at 0x10b43a588>"
      ]
     },
     "metadata": {},
     "output_type": "display_data"
    },
    {
     "data": {
      "image/png": "[encoded data removed]",
      "text/plain": [
       "<matplotlib.figure.Figure at 0x11700b898>"
      ]
     },
     "metadata": {},
     "output_type": "display_data"
    },
    {
     "data": {
      "image/png": "[encoded data removed]",
      "text/plain": [
       "<matplotlib.figure.Figure at 0x11a4c2668>"
      ]
     },
     "metadata": {},
     "output_type": "display_data"
    },
    {
     "data": {
      "image/png": "[encoded data removed]",
      "text/plain": [
       "<matplotlib.figure.Figure at 0x11a5c1400>"
      ]
     },
     "metadata": {},
     "output_type": "display_data"
    },
    {
     "data": {
      "image/png": "[encoded data removed]",
      "text/plain": [
       "<matplotlib.figure.Figure at 0x11a6d7978>"
      ]
     },
     "metadata": {},
     "output_type": "display_data"
    },
    {
     "data": {
      "image/png": "[encoded data removed]",
      "text/plain": [
       "<matplotlib.figure.Figure at 0x11a839d68>"
      ]
     },
     "metadata": {},
     "output_type": "display_data"
    },
    {
     "data": {
      "image/png": "[encoded data removed]",
      "text/plain": [
       "<matplotlib.figure.Figure at 0x11a4055f8>"
      ]
     },
     "metadata": {},
     "output_type": "display_data"
    },
    {
     "data": {
      "image/png": "[encoded data removed]",
      "text/plain": [
       "<matplotlib.figure.Figure at 0x11ab034e0>"
      ]
     },
     "metadata": {},
     "output_type": "display_data"
    },
    {
     "data": {
      "image/png": "[encoded data removed]",
      "text/plain": [
       "<matplotlib.figure.Figure at 0x11ab32d30>"
      ]
     },
     "metadata": {},
     "output_type": "display_data"
    },
    {
     "data": {
      "image/png": "[encoded data removed]",
      "text/plain": [
       "<matplotlib.figure.Figure at 0x11acc94a8>"
      ]
     },
     "metadata": {},
     "output_type": "display_data"
    },
    {
     "data": {
      "image/png": "[encoded data removed]",
      "text/plain": [
       "<matplotlib.figure.Figure at 0x11aefb6a0>"
      ]
     },
     "metadata": {},
     "output_type": "display_data"
    }
   ],
   "source": [
    "# Examine data; areas where no robbery occurred also have significantly lower\n",
    "# crime rates in general \n",
    "for column in df.columns:\n",
    "    sns.boxplot(x='robbery_target',y=column,data=df)\n",
    "    plt.show()"
   ]
  },
  {
   "cell_type": "markdown",
   "metadata": {},
   "source": [
    "## Feature Selection"
   ]
  },
  {
   "cell_type": "code",
   "execution_count": 17,
   "metadata": {
    "collapsed": false
   },
   "outputs": [
    {
     "name": "stdout",
     "output_type": "stream",
     "text": [
      "The optimal number of features is 1 \n"
     ]
    }
   ],
   "source": [
    "from sklearn.feature_selection import SelectKBest, mutual_info_classif\n",
    "\n",
    "# Assign features and target variable to 'X' and 'Y' respectively\n",
    "X = df.drop('robbery_target',axis=1)\n",
    "Y = df['robbery_target']\n",
    "\n",
    "# Instantiate Logistic Regression model\n",
    "lr = LogisticRegression()\n",
    "\n",
    "attributes = [1,2,3,4,5,6,7,8,9,10]\n",
    "scores = []\n",
    "\n",
    "# Iterate through number of features and store their performance during cross validation\n",
    "for i in range(11):\n",
    "    if i > 0:\n",
    "        selector = SelectKBest(mutual_info_classif,k=i)\n",
    "        selector.fit(X,Y)\n",
    "        idxs_selected = selector.get_support(indices=True)\n",
    "        result = X[X.columns[[idxs_selected]]]\n",
    "        lr_score = cross_val_score(lr,result,Y,cv=10)\n",
    "        scores.append(np.mean(lr_score))\n",
    "\n",
    "# Assign best performing score to 'best'\n",
    "best = max(scores)\n",
    "\n",
    "best_num = scores.index(best)+1\n",
    "\n",
    "# Return number of features that yielded the best performance\n",
    "print('The optimal number of features is',best_num,'')\n"
   ]
  },
  {
   "cell_type": "code",
   "execution_count": 18,
   "metadata": {
    "collapsed": false,
    "scrolled": true
   },
   "outputs": [
    {
     "data": {
      "text/plain": [
       "[<matplotlib.lines.Line2D at 0x11acf83c8>]"
      ]
     },
     "execution_count": 18,
     "metadata": {},
     "output_type": "execute_result"
    },
    {
     "data": {
      "image/png": "[encoded data removed]",
      "text/plain": [
       "<matplotlib.figure.Figure at 0x11ad9e208>"
      ]
     },
     "metadata": {},
     "output_type": "display_data"
    }
   ],
   "source": [
    "# It appears that a lot of the features in the data set are not \n",
    "# strongly related to the target variable. \n",
    "plt.plot(attributes,scores)"
   ]
  },
  {
   "cell_type": "code",
   "execution_count": 19,
   "metadata": {
    "collapsed": true
   },
   "outputs": [],
   "source": [
    "from sklearn.feature_selection import SelectKBest, mutual_info_classif\n",
    "\n",
    "\n",
    "\n",
    "\n",
    "# Use mutual information to select best features\n",
    "selector = SelectKBest(mutual_info_classif,k=best_num)\n",
    "\n",
    "# Fit selector to data\n",
    "selector.fit(X,Y)\n",
    "\n",
    "# Assign selected features \n",
    "idxs_selected = selector.get_support(indices=True)\n",
    "result = X[X.columns[[idxs_selected]]]"
   ]
  },
  {
   "cell_type": "code",
   "execution_count": 20,
   "metadata": {
    "collapsed": false,
    "scrolled": true
   },
   "outputs": [
    {
     "data": {
      "text/html": [
       "<div>\n",
       "<style>\n",
       "    .dataframe thead tr:only-child th {\n",
       "        text-align: right;\n",
       "    }\n",
       "\n",
       "    .dataframe thead th {\n",
       "        text-align: left;\n",
       "    }\n",
       "\n",
       "    .dataframe tbody tr th {\n",
       "        vertical-align: top;\n",
       "    }\n",
       "</style>\n",
       "<table border=\"1\" class=\"dataframe\">\n",
       "  <thead>\n",
       "    <tr style=\"text-align: right;\">\n",
       "      <th></th>\n",
       "      <th>violent_crime</th>\n",
       "    </tr>\n",
       "  </thead>\n",
       "  <tbody>\n",
       "    <tr>\n",
       "      <th>0</th>\n",
       "      <td>198</td>\n",
       "    </tr>\n",
       "    <tr>\n",
       "      <th>1</th>\n",
       "      <td>19</td>\n",
       "    </tr>\n",
       "    <tr>\n",
       "      <th>2</th>\n",
       "      <td>158</td>\n",
       "    </tr>\n",
       "    <tr>\n",
       "      <th>3</th>\n",
       "      <td>29</td>\n",
       "    </tr>\n",
       "    <tr>\n",
       "      <th>4</th>\n",
       "      <td>163</td>\n",
       "    </tr>\n",
       "  </tbody>\n",
       "</table>\n",
       "</div>"
      ],
      "text/plain": [
       "   violent_crime\n",
       "0            198\n",
       "1             19\n",
       "2            158\n",
       "3             29\n",
       "4            163"
      ]
     },
     "execution_count": 20,
     "metadata": {},
     "output_type": "execute_result"
    }
   ],
   "source": [
    "# Preview selected features\n",
    "result.head(5)"
   ]
  },
  {
   "cell_type": "markdown",
   "metadata": {},
   "source": [
    "# Logistic Regression"
   ]
  },
  {
   "cell_type": "code",
   "execution_count": 21,
   "metadata": {
    "collapsed": false
   },
   "outputs": [
    {
     "name": "stdout",
     "output_type": "stream",
     "text": [
      "0.95670995671\n"
     ]
    }
   ],
   "source": [
    "# Fit logistic regression model\n",
    "lr = LogisticRegression()\n",
    "fit = lr.fit(result,Y)\n",
    "print(lr.score(result,Y))"
   ]
  },
  {
   "cell_type": "code",
   "execution_count": 22,
   "metadata": {
    "collapsed": false,
    "scrolled": true
   },
   "outputs": [
    {
     "name": "stdout",
     "output_type": "stream",
     "text": [
      "0.956740672217\n"
     ]
    }
   ],
   "source": [
    "# Evaluate performnace during cross validation\n",
    "lr_score = cross_val_score(lr,result,Y,cv=10)\n",
    "print(np.mean(lr_score))"
   ]
  },
  {
   "cell_type": "code",
   "execution_count": 23,
   "metadata": {
    "collapsed": false
   },
   "outputs": [
    {
     "name": "stdout",
     "output_type": "stream",
     "text": [
      "[[ 0.17232352]]\n",
      "[-0.74635958]\n"
     ]
    }
   ],
   "source": [
    "# Evaluate coefficients\n",
    "print(lr.coef_)\n",
    "print(lr.intercept_)"
   ]
  },
  {
   "cell_type": "markdown",
   "metadata": {},
   "source": [
    "# Ridge Regression"
   ]
  },
  {
   "cell_type": "code",
   "execution_count": 24,
   "metadata": {
    "collapsed": false
   },
   "outputs": [],
   "source": [
    "# Identify optimal lambda value \n",
    "ridge_cv = LogisticRegressionCV(penalty='l2')\n",
    "model_cv = ridge_cv.fit(result,Y)\n",
    "ridge_lambda = float(model_cv.C_)"
   ]
  },
  {
   "cell_type": "code",
   "execution_count": 25,
   "metadata": {
    "collapsed": false
   },
   "outputs": [
    {
     "name": "stdout",
     "output_type": "stream",
     "text": [
      "0.9329004329\n"
     ]
    }
   ],
   "source": [
    "# Fit Ridge regression model to data with optimal lambda value \n",
    "ridger = LogisticRegression(penalty='l2',C=ridge_lambda)\n",
    "fit = ridger.fit(result,Y)\n",
    "print(ridger.score(result,Y))"
   ]
  },
  {
   "cell_type": "code",
   "execution_count": 26,
   "metadata": {
    "collapsed": false,
    "scrolled": true
   },
   "outputs": [
    {
     "name": "stdout",
     "output_type": "stream",
     "text": [
      "0.933054784664\n"
     ]
    }
   ],
   "source": [
    "# Evaluate performance during cross validation\n",
    "ridge_score = cross_val_score(ridger,result,Y,cv=10)\n",
    "print(np.mean(ridge_score))"
   ]
  },
  {
   "cell_type": "code",
   "execution_count": 27,
   "metadata": {
    "collapsed": false
   },
   "outputs": [
    {
     "name": "stdout",
     "output_type": "stream",
     "text": [
      "[[ 0.11772636]]\n",
      "[-0.03223094]\n"
     ]
    }
   ],
   "source": [
    "# Evaluate coefficients\n",
    "print(ridger.coef_)\n",
    "print(ridger.intercept_)"
   ]
  },
  {
   "cell_type": "code",
   "execution_count": 28,
   "metadata": {
    "collapsed": false
   },
   "outputs": [
    {
     "data": {
      "text/plain": [
       "0.005994842503189409"
      ]
     },
     "execution_count": 28,
     "metadata": {},
     "output_type": "execute_result"
    }
   ],
   "source": [
    "ridge_lambda"
   ]
  },
  {
   "cell_type": "markdown",
   "metadata": {},
   "source": [
    "# Lasso Regression"
   ]
  },
  {
   "cell_type": "code",
   "execution_count": 29,
   "metadata": {
    "collapsed": false
   },
   "outputs": [],
   "source": [
    "# Identify optimal lambda for lasso regression model \n",
    "lasso_cv = LogisticRegressionCV(penalty='l1',solver='liblinear')\n",
    "model_cv = lasso_cv.fit(result,Y)\n",
    "lasso_lambda = float(model_cv.C_)"
   ]
  },
  {
   "cell_type": "code",
   "execution_count": 30,
   "metadata": {
    "collapsed": false,
    "scrolled": true
   },
   "outputs": [
    {
     "name": "stdout",
     "output_type": "stream",
     "text": [
      "0.9329004329\n"
     ]
    }
   ],
   "source": [
    "# Fit lesson regression model to data with optimal lambda\n",
    "lassor = LogisticRegression(penalty='l1',C=lasso_lambda)\n",
    "fit = lassor.fit(result,Y)\n",
    "print(lassor.score(result,Y))"
   ]
  },
  {
   "cell_type": "code",
   "execution_count": 31,
   "metadata": {
    "collapsed": false,
    "scrolled": true
   },
   "outputs": [
    {
     "name": "stdout",
     "output_type": "stream",
     "text": [
      "0.933054784664\n"
     ]
    }
   ],
   "source": [
    "# Evaluate performance during cross validation\n",
    "lassor_score = cross_val_score(lassor,result,Y,cv=10)\n",
    "print(np.mean(lassor_score))"
   ]
  },
  {
   "cell_type": "code",
   "execution_count": 32,
   "metadata": {
    "collapsed": false,
    "scrolled": true
   },
   "outputs": [
    {
     "name": "stdout",
     "output_type": "stream",
     "text": [
      "[[ 0.00664004]]\n",
      "[ 0.]\n"
     ]
    }
   ],
   "source": [
    "# Evaluate coefficients \n",
    "print(lassor.coef_)\n",
    "print(lassor.intercept_)"
   ]
  },
  {
   "cell_type": "markdown",
   "metadata": {},
   "source": [
    "## Conclusion\n",
    "\n"
   ]
  },
  {
   "cell_type": "markdown",
   "metadata": {},
   "source": [
    "The best model appears to be the vanilla logistic regression model. \n",
    "\n",
    "A lot of the complexity (e.g., multicollinearity + large coefficients) that ridge and lasso are meant to deal with were addressed during the feature selection process. \n",
    "\n",
    "The optimal number of features were chosen by performing cross validation and seeing what number of features allow the model to perform the best. \n",
    "\n",
    "Optimal lambda values for Ridge and Lasso were chosen using cross validation. "
   ]
  }
 ],
 "metadata": {
  "kernelspec": {
   "display_name": "Python 3",
   "language": "python",
   "name": "python3"
  }
 },
 "nbformat": 4,
 "nbformat_minor": 2
}
