{
 "cells": [
  {
   "cell_type": "markdown",
   "metadata": {},
   "source": [
    "# Gradient Boosting"
   ]
  },
  {
   "cell_type": "markdown",
   "metadata": {},
   "source": [
    "## Read in Data"
   ]
  },
  {
   "cell_type": "code",
   "execution_count": 1,
   "metadata": {
    "collapsed": true
   },
   "outputs": [],
   "source": [
    "import pandas as pd\n",
    "import numpy as np\n",
    "import scipy\n",
    "import matplotlib.pyplot as plt\n",
    "%matplotlib inline\n",
    "\n",
    "from sklearn import ensemble\n",
    "from sklearn import datasets\n",
    "from sklearn.utils import shuffle\n",
    "from sklearn.metrics import mean_squared_error"
   ]
  },
  {
   "cell_type": "code",
   "execution_count": 2,
   "metadata": {
    "collapsed": false
   },
   "outputs": [],
   "source": [
    "df = pd.read_csv((\n",
    "    \"https://raw.githubusercontent.com/Thinkful-Ed/data-201-resources/\"\n",
    "    \"master/ESS_practice_data/ESSdata_Thinkful.csv\")).dropna()\n",
    "\n",
    "# Definine outcome and predictors.\n",
    "# Set our outcome to 0 and 1.\n",
    "y = df['partner'] - 1\n",
    "X = df.loc[:, ~df.columns.isin(['partner', 'cntry', 'idno'])]\n",
    "\n",
    "# Make the categorical variable 'country' into dummies.\n",
    "X = pd.concat([X, pd.get_dummies(df['cntry'])], axis=1)\n",
    "\n",
    "from imblearn.over_sampling import SMOTE\n",
    "\n",
    "# Instantiate oversampling tool, SMOTE\n",
    "smote = SMOTE(kind = \"regular\")\n",
    "\n",
    "#Oversaple data set \n",
    "X_sm, Y_sm = smote.fit_sample(X,y)\n",
    "\n",
    "# Assign features from oversampled dataset to 'sm_features'\n",
    "sm_features = pd.DataFrame(data=X_sm,columns=X.columns)\n",
    "\n",
    "# Assign target variable from oversample dataset to 'sm_target'\n",
    "sm_target = pd.DataFrame(data=Y_sm, columns = ['partner'])\n",
    "\n",
    "frames = [sm_features, sm_target]\n",
    "sm_data = pd.concat(frames,axis=1)\n",
    "\n",
    "X = sm_features\n",
    "y = sm_target.values.ravel()\n",
    "\n",
    "# Create training and test sets.\n",
    "offset = int(X.shape[0] * 0.7)\n",
    "\n",
    "# Put 90% of the data in the training set.\n",
    "X_train, y_train = X[:offset], y[:offset]\n",
    "\n",
    "# And put 10% in the test set.\n",
    "X_test, y_test = X[offset:], y[offset:]"
   ]
  },
  {
   "cell_type": "markdown",
   "metadata": {},
   "source": [
    "## Model"
   ]
  },
  {
   "cell_type": "code",
   "execution_count": 6,
   "metadata": {
    "collapsed": true
   },
   "outputs": [],
   "source": [
    "# Initialize list to store t1 errors\n",
    "t1_errors = []\n",
    "\n",
    "# Initialize list to store t2 errors\n",
    "t2_errors = []"
   ]
  },
  {
   "cell_type": "code",
   "execution_count": 3,
   "metadata": {
    "collapsed": false
   },
   "outputs": [
    {
     "name": "stderr",
     "output_type": "stream",
     "text": [
      "/Users/wliao/anaconda/lib/python3.6/site-packages/sklearn/cross_validation.py:41: DeprecationWarning: This module was deprecated in version 0.18 in favor of the model_selection module into which all the refactored classes and functions are moved. Also note that the interface of the new CV iterators are different from that of this module. This module will be removed in 0.20.\n",
      "  \"This module will be removed in 0.20.\", DeprecationWarning)\n",
      "/Users/wliao/anaconda/lib/python3.6/site-packages/sklearn/grid_search.py:42: DeprecationWarning: This module was deprecated in version 0.18 in favor of the model_selection module into which all the refactored classes and functions are moved. This module will be removed in 0.20.\n",
      "  DeprecationWarning)\n"
     ]
    },
    {
     "data": {
      "text/plain": [
       "GridSearchCV(cv=3, error_score='raise',\n",
       "       estimator=GradientBoostingClassifier(criterion='friedman_mse', init=None,\n",
       "              learning_rate=0.1, loss='deviance', max_depth=3,\n",
       "              max_features=None, max_leaf_nodes=None,\n",
       "              min_impurity_decrease=0.0, min_impurity_split=None,\n",
       "              min_samples_leaf=1, min_samples_split=2,\n",
       "              min_weight_fraction_leaf=0.0, n_estimators=100,\n",
       "              presort='auto', random_state=None, subsample=1.0, verbose=0,\n",
       "              warm_start=False),\n",
       "       fit_params={}, iid=True, n_jobs=1,\n",
       "       param_grid={'n_estimators': [1, 51, 101, 151, 201, 251, 301, 351, 401, 451], 'max_depth': [1, 3, 5, 7, 9], 'loss': ('exponential', 'deviance')},\n",
       "       pre_dispatch='2*n_jobs', refit=True, scoring='accuracy', verbose=0)"
      ]
     },
     "execution_count": 3,
     "metadata": {},
     "output_type": "execute_result"
    }
   ],
   "source": [
    "from sklearn import grid_search\n",
    "\n",
    "# Store parameters for grid search\n",
    "parameters = {'n_estimators':list(range(1,501,50)),'max_depth':list(range(1,11,2)),'loss':('exponential','deviance')}\n",
    "\n",
    "# Instantiate gradient boost model\n",
    "gradient_boost = ensemble.GradientBoostingClassifier()\n",
    "\n",
    "# Instantiate grid search\n",
    "gs = grid_search.GridSearchCV(gradient_boost, parameters,cv= 3,scoring=\"accuracy\")\n",
    "\n",
    "# Fit grid search to training data\n",
    "gs.fit(X_train,y_train)"
   ]
  },
  {
   "cell_type": "code",
   "execution_count": 4,
   "metadata": {
    "collapsed": false
   },
   "outputs": [
    {
     "name": "stdout",
     "output_type": "stream",
     "text": [
      "Training set accuracy:\n",
      "Percent Type I errors: 0.03662011969222\n",
      "Percent Type II errors: 0.19663721858079225\n",
      "\n",
      "Test set accuracy:\n",
      "Percent Type I errors: 0.02726063829787234\n",
      "Percent Type II errors: 0.4039228723404255\n"
     ]
    }
   ],
   "source": [
    "# Instantiate gradient boost using parameters from grid search\n",
    "clf = ensemble.GradientBoostingClassifier(**gs.best_params_)\n",
    "\n",
    "# Fit gradient boost to training data\n",
    "clf.fit(X_train, y_train)\n",
    "\n",
    "# Predict outcomes for training + test data\n",
    "predict_train = clf.predict(X_train)\n",
    "predict_test = clf.predict(X_test)\n",
    "\n",
    "# Accuracy tables.\n",
    "table_train = pd.crosstab(y_train, predict_train, margins=True)\n",
    "table_test = pd.crosstab(y_test, predict_test, margins=True)\n",
    "\n",
    "train_tI_errors = table_train.loc[0.0,1.0] / table_train.loc['All','All']\n",
    "train_tII_errors = table_train.loc[1.0,0.0] / table_train.loc['All','All']\n",
    "\n",
    "test_tI_errors = table_test.loc[0.0,1.0]/table_test.loc['All','All']\n",
    "test_tII_errors = table_test.loc[1.0,0.0]/table_test.loc['All','All']\n",
    "\n",
    "print((\n",
    "    'Training set accuracy:\\n'\n",
    "    'Percent Type I errors: {}\\n'\n",
    "    'Percent Type II errors: {}\\n\\n'\n",
    "    'Test set accuracy:\\n'\n",
    "    'Percent Type I errors: {}\\n'\n",
    "    'Percent Type II errors: {}'\n",
    ").format(train_tI_errors, train_tII_errors, test_tI_errors, test_tII_errors))\n"
   ]
  },
  {
   "cell_type": "code",
   "execution_count": 7,
   "metadata": {
    "collapsed": false
   },
   "outputs": [],
   "source": [
    "# Store results\n",
    "t1_errors.append(test_tI_errors)\n",
    "t2_errors.append(test_tII_errors)"
   ]
  },
  {
   "cell_type": "markdown",
   "metadata": {},
   "source": [
    "### Dropping least relevant features"
   ]
  },
  {
   "cell_type": "code",
   "execution_count": 8,
   "metadata": {
    "collapsed": false,
    "scrolled": true
   },
   "outputs": [
    {
     "data": {
      "image/png": "[encoded data removed]",
      "text/plain": [
       "<matplotlib.figure.Figure at 0x111981278>"
      ]
     },
     "metadata": {},
     "output_type": "display_data"
    }
   ],
   "source": [
    "feature_importance = clf.feature_importances_\n",
    "\n",
    "# Make importances relative to max importance.\n",
    "feature_importance = 100.0 * (feature_importance / feature_importance.max())\n",
    "sorted_idx = np.argsort(feature_importance)\n",
    "pos = np.arange(sorted_idx.shape[0]) + .5\n",
    "plt.subplot(1, 2, 2)\n",
    "plt.barh(pos, feature_importance[sorted_idx], align='center')\n",
    "plt.yticks(pos, X.columns[sorted_idx])\n",
    "plt.xlabel('Relative Importance')\n",
    "plt.title('Variable Importance')\n",
    "plt.show()"
   ]
  },
  {
   "cell_type": "code",
   "execution_count": 9,
   "metadata": {
    "collapsed": false
   },
   "outputs": [],
   "source": [
    "# Drop 5 least relevant features\n",
    "sm_features.drop(['DE','SE','year','CH','CZ'],axis=1,inplace=True)\n",
    "\n",
    "X = sm_features\n",
    "y = sm_target.values.ravel()\n",
    "\n",
    "# Create training and test sets.\n",
    "offset = int(X.shape[0] * 0.7)\n",
    "\n",
    "# Put 90% of the data in the training set.\n",
    "X_train, y_train = X[:offset], y[:offset]\n",
    "\n",
    "# And put 10% in the test set.\n",
    "X_test, y_test = X[offset:], y[offset:]"
   ]
  },
  {
   "cell_type": "code",
   "execution_count": 10,
   "metadata": {
    "collapsed": false
   },
   "outputs": [
    {
     "name": "stdout",
     "output_type": "stream",
     "text": [
      "Training set accuracy:\n",
      "Percent Type I errors: 0.0371900826446281\n",
      "Percent Type II errors: 0.1956397834140781\n",
      "\n",
      "Test set accuracy:\n",
      "Percent Type I errors: 0.028257978723404256\n",
      "Percent Type II errors: 0.4002659574468085\n"
     ]
    }
   ],
   "source": [
    "# Instantiate gradient boost using parameters from grid search\n",
    "clf = ensemble.GradientBoostingClassifier(**gs.best_params_)\n",
    "\n",
    "# Fit gradient boost to training data\n",
    "clf.fit(X_train, y_train)\n",
    "\n",
    "# Predict outcomes for training + test data\n",
    "predict_train = clf.predict(X_train)\n",
    "predict_test = clf.predict(X_test)\n",
    "\n",
    "# Accuracy tables.\n",
    "table_train = pd.crosstab(y_train, predict_train, margins=True)\n",
    "table_test = pd.crosstab(y_test, predict_test, margins=True)\n",
    "\n",
    "train_tI_errors = table_train.loc[0.0,1.0] / table_train.loc['All','All']\n",
    "train_tII_errors = table_train.loc[1.0,0.0] / table_train.loc['All','All']\n",
    "\n",
    "test_tI_errors = table_test.loc[0.0,1.0]/table_test.loc['All','All']\n",
    "test_tII_errors = table_test.loc[1.0,0.0]/table_test.loc['All','All']\n",
    "\n",
    "print((\n",
    "    'Training set accuracy:\\n'\n",
    "    'Percent Type I errors: {}\\n'\n",
    "    'Percent Type II errors: {}\\n\\n'\n",
    "    'Test set accuracy:\\n'\n",
    "    'Percent Type I errors: {}\\n'\n",
    "    'Percent Type II errors: {}'\n",
    ").format(train_tI_errors, train_tII_errors, test_tI_errors, test_tII_errors))\n"
   ]
  },
  {
   "cell_type": "code",
   "execution_count": 11,
   "metadata": {
    "collapsed": true
   },
   "outputs": [],
   "source": [
    "# Store results\n",
    "t1_errors.append(test_tI_errors)\n",
    "t2_errors.append(test_tII_errors)"
   ]
  },
  {
   "cell_type": "markdown",
   "metadata": {},
   "source": [
    "### Using mutual information"
   ]
  },
  {
   "cell_type": "code",
   "execution_count": 12,
   "metadata": {
    "collapsed": true
   },
   "outputs": [],
   "source": [
    "X_sm, Y_sm = smote.fit_sample(X,y)\n",
    "\n",
    "sm_features = pd.DataFrame(data=X_sm,columns=X.columns)\n",
    "\n",
    "sm_target = pd.DataFrame(data=Y_sm, columns = ['partner'])\n",
    "\n",
    "frames = [sm_features, sm_target]\n",
    "sm_data = pd.concat(frames,axis=1)\n",
    "\n",
    "X = sm_features\n",
    "y = sm_target.values.ravel()"
   ]
  },
  {
   "cell_type": "code",
   "execution_count": 13,
   "metadata": {
    "collapsed": false
   },
   "outputs": [],
   "source": [
    "from sklearn.feature_selection import SelectKBest, mutual_info_classif\n",
    "\n",
    "selector = SelectKBest(mutual_info_classif,k=5)\n",
    "selector.fit(X,y)\n",
    "idxs_selected = selector.get_support(indices=True)\n",
    "mutual_info = X[X.columns[[idxs_selected]]]"
   ]
  },
  {
   "cell_type": "code",
   "execution_count": 14,
   "metadata": {
    "collapsed": false
   },
   "outputs": [],
   "source": [
    "# Create training and test sets.\n",
    "offset = int(mutual_info.shape[0] * 0.7)\n",
    "\n",
    "# Put 90% of the data in the training set.\n",
    "X_train, y_train = mutual_info[:offset], y[:offset]\n",
    "\n",
    "# And put 10% in the test set.\n",
    "X_test, y_test = mutual_info[offset:], y[offset:]"
   ]
  },
  {
   "cell_type": "code",
   "execution_count": 15,
   "metadata": {
    "collapsed": false
   },
   "outputs": [
    {
     "name": "stdout",
     "output_type": "stream",
     "text": [
      "Training set accuracy:\n",
      "Percent Type I errors: 0.03761755485893417\n",
      "Percent Type II errors: 0.21045882017668852\n",
      "\n",
      "Test set accuracy:\n",
      "Percent Type I errors: 0.0269281914893617\n",
      "Percent Type II errors: 0.42154255319148937\n"
     ]
    }
   ],
   "source": [
    "# Instantiate gradient boost using parameters from grid search\n",
    "clf = ensemble.GradientBoostingClassifier(**gs.best_params_)\n",
    "\n",
    "# Fit gradient boost to training data\n",
    "clf.fit(X_train, y_train)\n",
    "\n",
    "# Predict outcomes for training + test data\n",
    "predict_train = clf.predict(X_train)\n",
    "predict_test = clf.predict(X_test)\n",
    "\n",
    "# Accuracy tables.\n",
    "table_train = pd.crosstab(y_train, predict_train, margins=True)\n",
    "table_test = pd.crosstab(y_test, predict_test, margins=True)\n",
    "\n",
    "train_tI_errors = table_train.loc[0.0,1.0] / table_train.loc['All','All']\n",
    "train_tII_errors = table_train.loc[1.0,0.0] / table_train.loc['All','All']\n",
    "\n",
    "test_tI_errors = table_test.loc[0.0,1.0]/table_test.loc['All','All']\n",
    "test_tII_errors = table_test.loc[1.0,0.0]/table_test.loc['All','All']\n",
    "\n",
    "print((\n",
    "    'Training set accuracy:\\n'\n",
    "    'Percent Type I errors: {}\\n'\n",
    "    'Percent Type II errors: {}\\n\\n'\n",
    "    'Test set accuracy:\\n'\n",
    "    'Percent Type I errors: {}\\n'\n",
    "    'Percent Type II errors: {}'\n",
    ").format(train_tI_errors, train_tII_errors, test_tI_errors, test_tII_errors))\n"
   ]
  },
  {
   "cell_type": "code",
   "execution_count": 16,
   "metadata": {
    "collapsed": false
   },
   "outputs": [],
   "source": [
    "# Store results\n",
    "t1_errors.append(test_tI_errors)\n",
    "t2_errors.append(test_tII_errors)"
   ]
  },
  {
   "cell_type": "markdown",
   "metadata": {},
   "source": [
    "### Using chi2"
   ]
  },
  {
   "cell_type": "code",
   "execution_count": 17,
   "metadata": {
    "collapsed": true
   },
   "outputs": [],
   "source": [
    "# Oversample data\n",
    "X_sm, Y_sm = smote.fit_sample(X,y)\n",
    "\n",
    "# Assign parameters from oversampled data\n",
    "sm_features = pd.DataFrame(data=X_sm,columns=X.columns)\n",
    "\n",
    "# Assign target variables from oversampled data\n",
    "sm_target = pd.DataFrame(data=Y_sm, columns = ['partner'])\n",
    "\n",
    "frames = [sm_features, sm_target]\n",
    "sm_data = pd.concat(frames,axis=1)\n",
    "\n",
    "X = sm_features\n",
    "y = sm_target.values.ravel()"
   ]
  },
  {
   "cell_type": "code",
   "execution_count": 18,
   "metadata": {
    "collapsed": true
   },
   "outputs": [],
   "source": [
    "from sklearn.feature_selection import SelectKBest, chi2\n",
    "\n",
    "# Instantiate selector\n",
    "selector = SelectKBest(chi2,k=5)\n",
    "\n",
    "# Fit selector to data\n",
    "selector.fit(X,y)\n",
    "\n",
    "# Store indexes of selected parameters\n",
    "idxs_selected = selector.get_support(indices=True)\n",
    "\n",
    "# Assign selected parameters to 'chi2'\n",
    "chi2 = X[X.columns[[idxs_selected]]]"
   ]
  },
  {
   "cell_type": "code",
   "execution_count": 19,
   "metadata": {
    "collapsed": true
   },
   "outputs": [],
   "source": [
    "# Create training and test sets.\n",
    "offset = int(chi2.shape[0] * 0.7)\n",
    "\n",
    "# Put 90% of the data in the training set.\n",
    "X_train, y_train = chi2[:offset], y[:offset]\n",
    "\n",
    "# And put 10% in the test set.\n",
    "X_test, y_test = chi2[offset:], y[offset:]"
   ]
  },
  {
   "cell_type": "code",
   "execution_count": 20,
   "metadata": {
    "collapsed": false,
    "scrolled": true
   },
   "outputs": [
    {
     "name": "stdout",
     "output_type": "stream",
     "text": [
      "Training set accuracy:\n",
      "Percent Type I errors: 0.03889997150185238\n",
      "Percent Type II errors: 0.20817896836705613\n",
      "\n",
      "Test set accuracy:\n",
      "Percent Type I errors: 0.02759308510638298\n",
      "Percent Type II errors: 0.42386968085106386\n"
     ]
    }
   ],
   "source": [
    "# Instantiate gradient boost using parameters from grid search\n",
    "clf = ensemble.GradientBoostingClassifier(**gs.best_params_)\n",
    "\n",
    "# Fit gradient boost to training data\n",
    "clf.fit(X_train, y_train)\n",
    "\n",
    "# Predict outcomes for training + test data\n",
    "predict_train = clf.predict(X_train)\n",
    "predict_test = clf.predict(X_test)\n",
    "\n",
    "# Accuracy tables.\n",
    "table_train = pd.crosstab(y_train, predict_train, margins=True)\n",
    "table_test = pd.crosstab(y_test, predict_test, margins=True)\n",
    "\n",
    "train_tI_errors = table_train.loc[0.0,1.0] / table_train.loc['All','All']\n",
    "train_tII_errors = table_train.loc[1.0,0.0] / table_train.loc['All','All']\n",
    "\n",
    "test_tI_errors = table_test.loc[0.0,1.0]/table_test.loc['All','All']\n",
    "test_tII_errors = table_test.loc[1.0,0.0]/table_test.loc['All','All']\n",
    "\n",
    "print((\n",
    "    'Training set accuracy:\\n'\n",
    "    'Percent Type I errors: {}\\n'\n",
    "    'Percent Type II errors: {}\\n\\n'\n",
    "    'Test set accuracy:\\n'\n",
    "    'Percent Type I errors: {}\\n'\n",
    "    'Percent Type II errors: {}'\n",
    ").format(train_tI_errors, train_tII_errors, test_tI_errors, test_tII_errors))\n"
   ]
  },
  {
   "cell_type": "code",
   "execution_count": 21,
   "metadata": {
    "collapsed": true
   },
   "outputs": [],
   "source": [
    "# Store results\n",
    "t1_errors.append(test_tI_errors)\n",
    "t2_errors.append(test_tII_errors)"
   ]
  },
  {
   "cell_type": "markdown",
   "metadata": {},
   "source": [
    "### PCA"
   ]
  },
  {
   "cell_type": "code",
   "execution_count": 23,
   "metadata": {
    "collapsed": true
   },
   "outputs": [],
   "source": [
    "# Oversample data\n",
    "X_sm, Y_sm = smote.fit_sample(X,y)\n",
    "\n",
    "# Assign parameters from oversampled data\n",
    "sm_features = pd.DataFrame(data=X_sm,columns=X.columns)\n",
    "\n",
    "# Assign target variables from oversampled data\n",
    "sm_target = pd.DataFrame(data=Y_sm, columns = ['partner'])\n",
    "\n",
    "frames = [sm_features, sm_target]\n",
    "sm_data = pd.concat(frames,axis=1)\n",
    "\n",
    "X = sm_features\n",
    "y = sm_target.values.ravel()"
   ]
  },
  {
   "cell_type": "code",
   "execution_count": 24,
   "metadata": {
    "collapsed": true
   },
   "outputs": [],
   "source": [
    "from sklearn import preprocessing\n",
    "from sklearn.decomposition import PCA\n",
    "\n",
    "pca = PCA(n_components=9)\n",
    "\n",
    "X_scaled = preprocessing.scale(X)\n",
    "\n",
    "X_pca = pca.fit_transform(X_scaled)"
   ]
  },
  {
   "cell_type": "code",
   "execution_count": 25,
   "metadata": {
    "collapsed": false,
    "scrolled": true
   },
   "outputs": [
    {
     "name": "stdout",
     "output_type": "stream",
     "text": [
      "[ 0.23110183  0.13333268  0.10082056  0.09723798  0.0898605   0.07484006\n",
      "  0.07000449  0.06447238  0.0547713 ]\n"
     ]
    },
    {
     "data": {
      "text/plain": [
       "[<matplotlib.lines.Line2D at 0x1279bbb70>]"
      ]
     },
     "execution_count": 25,
     "metadata": {},
     "output_type": "execute_result"
    },
    {
     "data": {
      "image/png": "[encoded data removed]",
      "text/plain": [
       "<matplotlib.figure.Figure at 0x125279518>"
      ]
     },
     "metadata": {},
     "output_type": "display_data"
    }
   ],
   "source": [
    "# Evaluate explained variance ratio -- it appears that the first component explains\n",
    "# most of the data set. \n",
    "print(pca.explained_variance_ratio_)\n",
    "plt.plot(pca.explained_variance_ratio_)"
   ]
  },
  {
   "cell_type": "code",
   "execution_count": 26,
   "metadata": {
    "collapsed": false
   },
   "outputs": [
    {
     "data": {
      "text/plain": [
       "0.91644178152206091"
      ]
     },
     "execution_count": 26,
     "metadata": {},
     "output_type": "execute_result"
    }
   ],
   "source": [
    "np.sum(pca.explained_variance_ratio_)"
   ]
  },
  {
   "cell_type": "code",
   "execution_count": 27,
   "metadata": {
    "collapsed": true
   },
   "outputs": [],
   "source": [
    "# Create training and test sets.\n",
    "offset = int(X_pca.shape[0] * 0.7)\n",
    "\n",
    "# Put 90% of the data in the training set.\n",
    "X_train, y_train = X_pca[:offset], y[:offset]\n",
    "\n",
    "# And put 10% in the test set.\n",
    "X_test, y_test = X_pca[offset:], y[offset:]"
   ]
  },
  {
   "cell_type": "code",
   "execution_count": 28,
   "metadata": {
    "collapsed": false
   },
   "outputs": [
    {
     "name": "stdout",
     "output_type": "stream",
     "text": [
      "Training set accuracy:\n",
      "Percent Type I errors: 0.04930179538330009\n",
      "Percent Type II errors: 0.1816756910800798\n",
      "\n",
      "Test set accuracy:\n",
      "Percent Type I errors: 0.03291223404255319\n",
      "Percent Type II errors: 0.40126329787234044\n"
     ]
    }
   ],
   "source": [
    "# Instantiate gradient boost using parameters from grid search\n",
    "clf = ensemble.GradientBoostingClassifier(**gs.best_params_)\n",
    "\n",
    "# Fit gradient boost to training data\n",
    "clf.fit(X_train, y_train)\n",
    "\n",
    "# Predict outcomes for training + test data\n",
    "predict_train = clf.predict(X_train)\n",
    "predict_test = clf.predict(X_test)\n",
    "\n",
    "# Accuracy tables.\n",
    "table_train = pd.crosstab(y_train, predict_train, margins=True)\n",
    "table_test = pd.crosstab(y_test, predict_test, margins=True)\n",
    "\n",
    "train_tI_errors = table_train.loc[0.0,1.0] / table_train.loc['All','All']\n",
    "train_tII_errors = table_train.loc[1.0,0.0] / table_train.loc['All','All']\n",
    "\n",
    "test_tI_errors = table_test.loc[0.0,1.0]/table_test.loc['All','All']\n",
    "test_tII_errors = table_test.loc[1.0,0.0]/table_test.loc['All','All']\n",
    "\n",
    "print((\n",
    "    'Training set accuracy:\\n'\n",
    "    'Percent Type I errors: {}\\n'\n",
    "    'Percent Type II errors: {}\\n\\n'\n",
    "    'Test set accuracy:\\n'\n",
    "    'Percent Type I errors: {}\\n'\n",
    "    'Percent Type II errors: {}'\n",
    ").format(train_tI_errors, train_tII_errors, test_tI_errors, test_tII_errors))\n"
   ]
  },
  {
   "cell_type": "code",
   "execution_count": 29,
   "metadata": {
    "collapsed": true
   },
   "outputs": [],
   "source": [
    "# Store results\n",
    "t1_errors.append(test_tI_errors)\n",
    "t2_errors.append(test_tII_errors)"
   ]
  },
  {
   "cell_type": "markdown",
   "metadata": {},
   "source": [
    "## Conclusion\n",
    "\n",
    "The best performance was achieved by dropping features that were found to be irrelevant to the target variable -- effectively reducing noise within the data set. However, this performance increase relative to the model's performance when fit on all of the data is trivial. "
   ]
  },
  {
   "cell_type": "code",
   "execution_count": 31,
   "metadata": {
    "collapsed": true
   },
   "outputs": [],
   "source": [
    "# Store strings describing variations of feature sets\n",
    "iterations = ['all_data','drop_irrev_features','mutual_info','chi2','pca']"
   ]
  },
  {
   "cell_type": "code",
   "execution_count": 32,
   "metadata": {
    "collapsed": false
   },
   "outputs": [],
   "source": [
    "# Create data frame \n",
    "results = pd.DataFrame()"
   ]
  },
  {
   "cell_type": "code",
   "execution_count": 33,
   "metadata": {
    "collapsed": true
   },
   "outputs": [],
   "source": [
    "# Store variations of feature sets\n",
    "# with results and their respective Type I and Type II accuracy results on test data\n",
    "results['iterations'] = iterations\n",
    "results['type_1_errors'] = t1_errors\n",
    "results['type_2_errors'] = t2_errors"
   ]
  },
  {
   "cell_type": "code",
   "execution_count": 40,
   "metadata": {
    "collapsed": false
   },
   "outputs": [],
   "source": [
    "# Create attribute to show total error for Type I and Type II errors\n",
    "results['total_error'] = results['type_1_errors']+results['type_2_errors']"
   ]
  },
  {
   "cell_type": "code",
   "execution_count": 49,
   "metadata": {
    "collapsed": false,
    "scrolled": false
   },
   "outputs": [
    {
     "data": {
      "text/html": [
       "<div>\n",
       "<style>\n",
       "    .dataframe thead tr:only-child th {\n",
       "        text-align: right;\n",
       "    }\n",
       "\n",
       "    .dataframe thead th {\n",
       "        text-align: left;\n",
       "    }\n",
       "\n",
       "    .dataframe tbody tr th {\n",
       "        vertical-align: top;\n",
       "    }\n",
       "</style>\n",
       "<table border=\"1\" class=\"dataframe\">\n",
       "  <thead>\n",
       "    <tr style=\"text-align: right;\">\n",
       "      <th></th>\n",
       "      <th>iterations</th>\n",
       "      <th>type_1_errors</th>\n",
       "      <th>type_2_errors</th>\n",
       "      <th>total_error</th>\n",
       "    </tr>\n",
       "  </thead>\n",
       "  <tbody>\n",
       "    <tr>\n",
       "      <th>1</th>\n",
       "      <td>drop_irrev_features</td>\n",
       "      <td>0.028258</td>\n",
       "      <td>0.400266</td>\n",
       "      <td>0.428524</td>\n",
       "    </tr>\n",
       "    <tr>\n",
       "      <th>0</th>\n",
       "      <td>all_data</td>\n",
       "      <td>0.027261</td>\n",
       "      <td>0.403923</td>\n",
       "      <td>0.431184</td>\n",
       "    </tr>\n",
       "    <tr>\n",
       "      <th>4</th>\n",
       "      <td>pca</td>\n",
       "      <td>0.032912</td>\n",
       "      <td>0.401263</td>\n",
       "      <td>0.434176</td>\n",
       "    </tr>\n",
       "    <tr>\n",
       "      <th>2</th>\n",
       "      <td>mutual_info</td>\n",
       "      <td>0.026928</td>\n",
       "      <td>0.421543</td>\n",
       "      <td>0.448471</td>\n",
       "    </tr>\n",
       "    <tr>\n",
       "      <th>3</th>\n",
       "      <td>chi2</td>\n",
       "      <td>0.027593</td>\n",
       "      <td>0.423870</td>\n",
       "      <td>0.451463</td>\n",
       "    </tr>\n",
       "  </tbody>\n",
       "</table>\n",
       "</div>"
      ],
      "text/plain": [
       "            iterations  type_1_errors  type_2_errors  total_error\n",
       "1  drop_irrev_features       0.028258       0.400266     0.428524\n",
       "0             all_data       0.027261       0.403923     0.431184\n",
       "4                  pca       0.032912       0.401263     0.434176\n",
       "2          mutual_info       0.026928       0.421543     0.448471\n",
       "3                 chi2       0.027593       0.423870     0.451463"
      ]
     },
     "execution_count": 49,
     "metadata": {},
     "output_type": "execute_result"
    }
   ],
   "source": [
    "# View results\n",
    "results.sort_values(['total_error'],ascending=[1])"
   ]
  }
 ],
 "metadata": {
  "kernelspec": {
   "display_name": "Python 3",
   "language": "python",
   "name": "python3"
  },
  "language_info": {
   "codemirror_mode": {
    "name": "ipython",
    "version": 3
   },
   "file_extension": ".py",
   "mimetype": "text/x-python",
   "name": "python",
   "nbconvert_exporter": "python",
   "pygments_lexer": "ipython3",
   "version": "3.6.4"
  }
 },
 "nbformat": 4,
 "nbformat_minor": 2
}
