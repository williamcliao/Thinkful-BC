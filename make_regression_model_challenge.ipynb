{
 "cells": [
  {
   "cell_type": "markdown",
   "metadata": {},
   "source": [
    "# Make Your Own Regression Model Challenge"
   ]
  },
  {
   "cell_type": "code",
   "execution_count": 202,
   "metadata": {
    "collapsed": true
   },
   "outputs": [],
   "source": [
    "import math\n",
    "import warnings\n",
    "\n",
    "from IPython.display import display\n",
    "from matplotlib import pyplot as plt\n",
    "import numpy as np\n",
    "import pandas as pd\n",
    "import seaborn as sns\n",
    "from sklearn import linear_model\n",
    "import statsmodels.formula.api as smf\n",
    "import scipy.stats\n",
    "import statsmodels.formula.api as smf\n",
    "from statsmodels.sandbox.regression.predstd import wls_prediction_std\n",
    "import math\n",
    "\n",
    "%matplotlib inline\n",
    "sns.set_style('white')\n",
    "\n",
    "# Display preferences.\n",
    "%matplotlib inline\n",
    "pd.options.display.float_format = '{:.3f}'.format\n",
    "\n",
    "# Suppress annoying harmless error.\n",
    "warnings.filterwarnings(\n",
    "    action=\"ignore\",\n",
    "    module=\"scipy\",\n",
    "    message=\"^internal gelsd\"\n",
    ")"
   ]
  },
  {
   "cell_type": "markdown",
   "metadata": {},
   "source": [
    "## Preparing data\n",
    "\n",
    "### Read in data\n"
   ]
  },
  {
   "cell_type": "code",
   "execution_count": 290,
   "metadata": {
    "collapsed": false
   },
   "outputs": [],
   "source": [
    "#Read in data\n",
    "df = pd.read_csv('crime.csv')\n",
    "\n",
    "#Rename columns\n",
    "df.columns = ['city','population','violent_crime','murder_nonegligent_manslaughter','rape_revised','rape_legacy_def','robbery','agg_assault','property_crime','burglary','larceny_theft','motor_theft','arson3','unnamed']"
   ]
  },
  {
   "cell_type": "code",
   "execution_count": 291,
   "metadata": {
    "collapsed": false
   },
   "outputs": [],
   "source": [
    "#df2 = df[['population','violent_crime','murder_nonegligent_manslaughter','rape_legacy_def','robbery','agg_assault','property_crime','burglary','larceny_theft','motor_theft']].copy()\n",
    "\n",
    "#df2 = df[['robbery','property_crime','population','murder_nonegligent_manslaughter']].copy()\n",
    "\n",
    "df.drop(['rape_revised','unnamed','arson3','city'],axis=1,inplace=True)\n",
    "\n",
    "df2 = df.copy()"
   ]
  },
  {
   "cell_type": "code",
   "execution_count": 292,
   "metadata": {
    "collapsed": false,
    "scrolled": true
   },
   "outputs": [
    {
     "data": {
      "text/html": [
       "<div>\n",
       "<style>\n",
       "    .dataframe thead tr:only-child th {\n",
       "        text-align: right;\n",
       "    }\n",
       "\n",
       "    .dataframe thead th {\n",
       "        text-align: left;\n",
       "    }\n",
       "\n",
       "    .dataframe tbody tr th {\n",
       "        vertical-align: top;\n",
       "    }\n",
       "</style>\n",
       "<table border=\"1\" class=\"dataframe\">\n",
       "  <thead>\n",
       "    <tr style=\"text-align: right;\">\n",
       "      <th></th>\n",
       "      <th>population</th>\n",
       "      <th>violent_crime</th>\n",
       "      <th>murder_nonegligent_manslaughter</th>\n",
       "      <th>rape_legacy_def</th>\n",
       "      <th>robbery</th>\n",
       "      <th>agg_assault</th>\n",
       "      <th>property_crime</th>\n",
       "      <th>burglary</th>\n",
       "      <th>larceny_theft</th>\n",
       "      <th>motor_theft</th>\n",
       "    </tr>\n",
       "  </thead>\n",
       "  <tbody>\n",
       "    <tr>\n",
       "      <th>0</th>\n",
       "      <td>1,861</td>\n",
       "      <td>0</td>\n",
       "      <td>0.000</td>\n",
       "      <td>0</td>\n",
       "      <td>0</td>\n",
       "      <td>0</td>\n",
       "      <td>12</td>\n",
       "      <td>2</td>\n",
       "      <td>10</td>\n",
       "      <td>0</td>\n",
       "    </tr>\n",
       "    <tr>\n",
       "      <th>1</th>\n",
       "      <td>2,577</td>\n",
       "      <td>3</td>\n",
       "      <td>0.000</td>\n",
       "      <td>0</td>\n",
       "      <td>0</td>\n",
       "      <td>3</td>\n",
       "      <td>24</td>\n",
       "      <td>3</td>\n",
       "      <td>20</td>\n",
       "      <td>1</td>\n",
       "    </tr>\n",
       "    <tr>\n",
       "      <th>2</th>\n",
       "      <td>2,846</td>\n",
       "      <td>3</td>\n",
       "      <td>0.000</td>\n",
       "      <td>0</td>\n",
       "      <td>0</td>\n",
       "      <td>3</td>\n",
       "      <td>16</td>\n",
       "      <td>1</td>\n",
       "      <td>15</td>\n",
       "      <td>0</td>\n",
       "    </tr>\n",
       "    <tr>\n",
       "      <th>3</th>\n",
       "      <td>97,956</td>\n",
       "      <td>791</td>\n",
       "      <td>8.000</td>\n",
       "      <td>30</td>\n",
       "      <td>227</td>\n",
       "      <td>526</td>\n",
       "      <td>4,090</td>\n",
       "      <td>705</td>\n",
       "      <td>3,243</td>\n",
       "      <td>142</td>\n",
       "    </tr>\n",
       "    <tr>\n",
       "      <th>4</th>\n",
       "      <td>6,388</td>\n",
       "      <td>23</td>\n",
       "      <td>0.000</td>\n",
       "      <td>3</td>\n",
       "      <td>4</td>\n",
       "      <td>16</td>\n",
       "      <td>223</td>\n",
       "      <td>53</td>\n",
       "      <td>165</td>\n",
       "      <td>5</td>\n",
       "    </tr>\n",
       "  </tbody>\n",
       "</table>\n",
       "</div>"
      ],
      "text/plain": [
       "  population violent_crime  murder_nonegligent_manslaughter rape_legacy_def  \\\n",
       "0      1,861             0                            0.000               0   \n",
       "1      2,577             3                            0.000               0   \n",
       "2      2,846             3                            0.000               0   \n",
       "3     97,956           791                            8.000              30   \n",
       "4      6,388            23                            0.000               3   \n",
       "\n",
       "  robbery agg_assault property_crime burglary larceny_theft motor_theft  \n",
       "0       0           0             12        2            10           0  \n",
       "1       0           3             24        3            20           1  \n",
       "2       0           3             16        1            15           0  \n",
       "3     227         526          4,090      705         3,243         142  \n",
       "4       4          16            223       53           165           5  "
      ]
     },
     "execution_count": 292,
     "metadata": {},
     "output_type": "execute_result"
    }
   ],
   "source": [
    "#Preview data\n",
    "df2.head(5)"
   ]
  },
  {
   "cell_type": "markdown",
   "metadata": {},
   "source": [
    "### Clean data\n",
    "\n",
    "During this phase, we eliminate na values, remove commas, convert numeric data to numeric data type and winsorize to account for outlieres."
   ]
  },
  {
   "cell_type": "code",
   "execution_count": 293,
   "metadata": {
    "collapsed": false
   },
   "outputs": [
    {
     "data": {
      "text/plain": [
       "population                         3\n",
       "violent_crime                      3\n",
       "murder_nonegligent_manslaughter    3\n",
       "rape_legacy_def                    3\n",
       "robbery                            3\n",
       "agg_assault                        3\n",
       "property_crime                     3\n",
       "burglary                           3\n",
       "larceny_theft                      3\n",
       "motor_theft                        3\n",
       "dtype: int64"
      ]
     },
     "execution_count": 293,
     "metadata": {},
     "output_type": "execute_result"
    }
   ],
   "source": [
    "#Evaluate how many null values there are \n",
    "df2.isnull().sum()"
   ]
  },
  {
   "cell_type": "code",
   "execution_count": 294,
   "metadata": {
    "collapsed": true
   },
   "outputs": [],
   "source": [
    "#There aren't that many null values so instead of imputing, we'll just remove them\n",
    "df2 = df2.dropna()"
   ]
  },
  {
   "cell_type": "code",
   "execution_count": 295,
   "metadata": {
    "collapsed": false,
    "scrolled": true
   },
   "outputs": [
    {
     "data": {
      "text/plain": [
       "population                          object\n",
       "violent_crime                       object\n",
       "murder_nonegligent_manslaughter    float64\n",
       "rape_legacy_def                     object\n",
       "robbery                             object\n",
       "agg_assault                         object\n",
       "property_crime                      object\n",
       "burglary                            object\n",
       "larceny_theft                       object\n",
       "motor_theft                         object\n",
       "dtype: object"
      ]
     },
     "execution_count": 295,
     "metadata": {},
     "output_type": "execute_result"
    }
   ],
   "source": [
    "#Evaluate data types; we need to convert some of the objects to floats\n",
    "df2.dtypes"
   ]
  },
  {
   "cell_type": "code",
   "execution_count": 296,
   "metadata": {
    "collapsed": false
   },
   "outputs": [],
   "source": [
    "cols = ['population','violent_crime','murder_nonegligent_manslaughter','rape_legacy_def','robbery','agg_assault','property_crime','burglary','larceny_theft','motor_theft']\n",
    "\n",
    "df2[cols] = df2[cols].replace({',':''},regex=True)"
   ]
  },
  {
   "cell_type": "code",
   "execution_count": 297,
   "metadata": {
    "collapsed": true
   },
   "outputs": [],
   "source": [
    "df2 = df2.apply(pd.to_numeric,errors='coerce')"
   ]
  },
  {
   "cell_type": "code",
   "execution_count": 298,
   "metadata": {
    "collapsed": false
   },
   "outputs": [
    {
     "data": {
      "image/png": "[encoded data removed]",
      "text/plain": [
       "<matplotlib.figure.Figure at 0x1155bee10>"
      ]
     },
     "metadata": {},
     "output_type": "display_data"
    }
   ],
   "source": [
    "#Evalute distribution of data\n",
    "fig, axs = plt.subplots(nrows=4)\n",
    "sns.boxplot(df2['robbery'],ax=axs[0])\n",
    "sns.boxplot(df2['property_crime'],ax=axs[1])\n",
    "sns.boxplot(df2['population'],ax=axs[2])\n",
    "sns.boxplot(df2['murder_nonegligent_manslaughter'],ax=axs[3])\n",
    "plt.tight_layout()\n"
   ]
  },
  {
   "cell_type": "code",
   "execution_count": 299,
   "metadata": {
    "collapsed": false
   },
   "outputs": [],
   "source": [
    "#There appear to be some pretty outstanding outliers,\n",
    "#we'll winsorize the data so they don't impair the model's performance \n",
    "for column in df2:\n",
    "    df2[column] = scipy.stats.mstats.winsorize(df2[column],limits=[0.05,0.05])"
   ]
  },
  {
   "cell_type": "code",
   "execution_count": 300,
   "metadata": {
    "collapsed": false
   },
   "outputs": [
    {
     "data": {
      "image/png": "[encoded data removed]",
      "text/plain": [
       "<matplotlib.figure.Figure at 0x111f82358>"
      ]
     },
     "metadata": {},
     "output_type": "display_data"
    }
   ],
   "source": [
    "#Revaluate distribution of data after winsorizing\n",
    "fig, axs = plt.subplots(nrows=4)\n",
    "sns.boxplot(df2['robbery'],ax=axs[0])\n",
    "sns.boxplot(df2['property_crime'],ax=axs[1])\n",
    "sns.boxplot(df2['population'],ax=axs[2])\n",
    "sns.boxplot(df2['murder_nonegligent_manslaughter'],ax=axs[3])\n",
    "plt.tight_layout()"
   ]
  },
  {
   "cell_type": "markdown",
   "metadata": {},
   "source": [
    "### Engineer new features\n",
    "\n",
    "The features engineered here are the requisite engineered features from the previous exercise. For the purpose of this exercise, we'll continue to utilize the data set with these engineered features. "
   ]
  },
  {
   "cell_type": "code",
   "execution_count": 301,
   "metadata": {
    "collapsed": false
   },
   "outputs": [],
   "source": [
    "#Whether robbery occurred in the city or not \n",
    "df2['robbery_signal'] = np.where((df2['robbery'] > 0),1,0)\n",
    "\n",
    "#Whether murder occurred in the city or not \n",
    "df2['murder_signal'] = np.where((df2['murder_nonegligent_manslaughter'] > 0),1,0)"
   ]
  },
  {
   "cell_type": "markdown",
   "metadata": {},
   "source": [
    "### Select Features\n",
    "\n",
    "During this phase, we'll be using mutual_info_classif to select the top 3 attributes to run the linear model through. "
   ]
  },
  {
   "cell_type": "code",
   "execution_count": 439,
   "metadata": {
    "collapsed": false
   },
   "outputs": [],
   "source": [
    "from sklearn.feature_selection import SelectKBest, mutual_info_classif\n",
    "\n",
    "features = df2.drop('property_crime',axis=1)\n",
    "target = df2['property_crime']\n",
    "\n",
    "selector = SelectKBest(mutual_info_classif,k=3)\n",
    "\n",
    "selector.fit(features, target)\n",
    "\n",
    "idxs_selected = selector.get_support(indices=True)\n",
    "result = features[features.columns[[idxs_selected]]]"
   ]
  },
  {
   "cell_type": "code",
   "execution_count": 440,
   "metadata": {
    "collapsed": false,
    "scrolled": true
   },
   "outputs": [
    {
     "data": {
      "text/html": [
       "<div>\n",
       "<style>\n",
       "    .dataframe thead tr:only-child th {\n",
       "        text-align: right;\n",
       "    }\n",
       "\n",
       "    .dataframe thead th {\n",
       "        text-align: left;\n",
       "    }\n",
       "\n",
       "    .dataframe tbody tr th {\n",
       "        vertical-align: top;\n",
       "    }\n",
       "</style>\n",
       "<table border=\"1\" class=\"dataframe\">\n",
       "  <thead>\n",
       "    <tr style=\"text-align: right;\">\n",
       "      <th></th>\n",
       "      <th>burglary</th>\n",
       "      <th>larceny_theft</th>\n",
       "      <th>property_crime_bc</th>\n",
       "    </tr>\n",
       "  </thead>\n",
       "  <tbody>\n",
       "    <tr>\n",
       "      <th>0</th>\n",
       "      <td>2</td>\n",
       "      <td>10</td>\n",
       "      <td>2.567</td>\n",
       "    </tr>\n",
       "    <tr>\n",
       "      <th>1</th>\n",
       "      <td>3</td>\n",
       "      <td>20</td>\n",
       "      <td>3.313</td>\n",
       "    </tr>\n",
       "    <tr>\n",
       "      <th>2</th>\n",
       "      <td>1</td>\n",
       "      <td>15</td>\n",
       "      <td>2.875</td>\n",
       "    </tr>\n",
       "    <tr>\n",
       "      <th>3</th>\n",
       "      <td>224</td>\n",
       "      <td>1182</td>\n",
       "      <td>7.965</td>\n",
       "    </tr>\n",
       "    <tr>\n",
       "      <th>4</th>\n",
       "      <td>53</td>\n",
       "      <td>165</td>\n",
       "      <td>5.807</td>\n",
       "    </tr>\n",
       "  </tbody>\n",
       "</table>\n",
       "</div>"
      ],
      "text/plain": [
       "   burglary  larceny_theft  property_crime_bc\n",
       "0         2             10              2.567\n",
       "1         3             20              3.313\n",
       "2         1             15              2.875\n",
       "3       224           1182              7.965\n",
       "4        53            165              5.807"
      ]
     },
     "execution_count": 440,
     "metadata": {},
     "output_type": "execute_result"
    }
   ],
   "source": [
    "result.head()"
   ]
  },
  {
   "cell_type": "code",
   "execution_count": 107,
   "metadata": {
    "collapsed": false
   },
   "outputs": [],
   "source": [
    "df2['property_crime_bc'] = scipy.stats.boxcox(df2['property_crime'])[0]\n",
    "df2['larceny_theft_bc'] = scipy.stats.boxcox(df2['larceny_theft'])[0]"
   ]
  },
  {
   "cell_type": "code",
   "execution_count": 420,
   "metadata": {
    "collapsed": false
   },
   "outputs": [],
   "source": [
    "df2['property_crime_bc'] = scipy.stats.boxcox(df2['property_crime'])[0]"
   ]
  },
  {
   "cell_type": "markdown",
   "metadata": {},
   "source": [
    "## Model\n",
    "\n",
    "### Run regression\n",
    "\n",
    "The R-squared value is quite high which suggests that the model is overfitting. Let's investigate further. "
   ]
  },
  {
   "cell_type": "code",
   "execution_count": 444,
   "metadata": {
    "collapsed": false
   },
   "outputs": [
    {
     "name": "stdout",
     "output_type": "stream",
     "text": [
      "\n",
      "Coefficients: \n",
      " [  7.38815849e-03   3.18094852e+00  -4.67850356e+00  -3.02865033e+00\n",
      "   3.69688660e+00   3.59806436e+00   2.92003317e+01]\n",
      "\n",
      "Intercept: \n",
      " -20.093381288\n",
      "\n",
      "R-squared:\n",
      "0.92521154364\n"
     ]
    }
   ],
   "source": [
    "#Instantiate and fit model\n",
    "regr = linear_model.LinearRegression()\n",
    "Y = df2['property_crime']\n",
    "X = df2[['population','violent_crime','robbery','agg_assault','burglary','motor_theft','robbery_signal']]\n",
    "regr.fit(X, Y)\n",
    "\n",
    "#Inspect results\n",
    "print('\\nCoefficients: \\n', regr.coef_)\n",
    "print('\\nIntercept: \\n', regr.intercept_)\n",
    "print('\\nR-squared:')\n",
    "print(regr.score(X, Y))"
   ]
  },
  {
   "cell_type": "markdown",
   "metadata": {},
   "source": [
    "### Cross validate"
   ]
  },
  {
   "cell_type": "code",
   "execution_count": 445,
   "metadata": {
    "collapsed": true
   },
   "outputs": [],
   "source": [
    "#Initialize standardizer, pipeline and KFold. Also standardize data during cross validation.\n",
    "from sklearn.preprocessing import StandardScaler\n",
    "from sklearn.pipeline import make_pipeline\n",
    "from sklearn.model_selection import KFold, cross_val_score\n",
    "\n",
    "standardizer = StandardScaler()\n",
    "pipeline = make_pipeline(standardizer, regr)\n",
    "kf = KFold(n_splits=10, shuffle=True, random_state=1)"
   ]
  },
  {
   "cell_type": "code",
   "execution_count": 446,
   "metadata": {
    "collapsed": true
   },
   "outputs": [],
   "source": [
    "#Append results of crossvalidation to cv_results\n",
    "cv_results = cross_val_score(pipeline, \n",
    "                             X, \n",
    "                             Y, \n",
    "                             cv=kf, \n",
    "                             n_jobs=-1)\n"
   ]
  },
  {
   "cell_type": "code",
   "execution_count": 447,
   "metadata": {
    "collapsed": false
   },
   "outputs": [
    {
     "data": {
      "text/plain": [
       "0.91078311359996533"
      ]
     },
     "execution_count": 447,
     "metadata": {},
     "output_type": "execute_result"
    }
   ],
   "source": [
    "cv_results.mean()"
   ]
  },
  {
   "cell_type": "markdown",
   "metadata": {},
   "source": [
    "## Evaluate\n",
    "\n",
    "### Normality Assessment\n",
    "\n",
    "The distribution of residuals is slightly skewed. "
   ]
  },
  {
   "cell_type": "code",
   "execution_count": 448,
   "metadata": {
    "collapsed": false
   },
   "outputs": [
    {
     "data": {
      "image/png": "[encoded data removed]",
      "text/plain": [
       "<matplotlib.figure.Figure at 0x1179b8320>"
      ]
     },
     "metadata": {},
     "output_type": "display_data"
    }
   ],
   "source": [
    "# Extract predicted values.\n",
    "predicted = regr.predict(X).ravel()\n",
    "actual = df2['property_crime'].astype(float)\n",
    "\n",
    "# Calculate the error, also called the residual.\n",
    "residual = actual - predicted\n",
    "\n",
    "# This looks a bit concerning.\n",
    "plt.hist(residual)\n",
    "plt.title('Residual counts')\n",
    "plt.xlabel('Residual')\n",
    "plt.ylabel('Count')\n",
    "plt.show()"
   ]
  },
  {
   "cell_type": "markdown",
   "metadata": {},
   "source": [
    "### Scedasticity Assessment\n",
    "\n",
    "Based on the scedasticity plot, the model appears to perform reasonably well for low value predictions, however performance drops considerably for moderate to high value predictions. "
   ]
  },
  {
   "cell_type": "code",
   "execution_count": 449,
   "metadata": {
    "collapsed": false
   },
   "outputs": [
    {
     "data": {
      "image/png": "[encoded data removed]",
      "text/plain": [
       "<matplotlib.figure.Figure at 0x1175fd358>"
      ]
     },
     "metadata": {},
     "output_type": "display_data"
    }
   ],
   "source": [
    "plt.scatter(predicted, residual)\n",
    "plt.xlabel('Predicted')\n",
    "plt.ylabel('Residual')\n",
    "plt.axhline(y=0)\n",
    "plt.title('Residual vs. Predicted')\n",
    "plt.show()"
   ]
  },
  {
   "cell_type": "markdown",
   "metadata": {},
   "source": [
    "### Linear Relationships Assessment\n",
    "\n",
    "The relationship between the attributes and target variable appear to be more or less linear and thus do not require any sort of nonlinear transformation."
   ]
  },
  {
   "cell_type": "code",
   "execution_count": 453,
   "metadata": {
    "collapsed": false
   },
   "outputs": [
    {
     "data": {
      "image/png": "[encoded data removed]",
      "text/plain": [
       "<matplotlib.figure.Figure at 0x117605dd8>"
      ]
     },
     "metadata": {},
     "output_type": "display_data"
    },
    {
     "data": {
      "image/png": "[encoded data removed]",
      "text/plain": [
       "<matplotlib.figure.Figure at 0x111f72c50>"
      ]
     },
     "metadata": {},
     "output_type": "display_data"
    },
    {
     "data": {
      "image/png": "[encoded data removed]",
      "text/plain": [
       "<matplotlib.figure.Figure at 0x117f654a8>"
      ]
     },
     "metadata": {},
     "output_type": "display_data"
    },
    {
     "data": {
      "image/png": "[encoded data removed]",
      "text/plain": [
       "<matplotlib.figure.Figure at 0x11533b5f8>"
      ]
     },
     "metadata": {},
     "output_type": "display_data"
    },
    {
     "data": {
      "image/png": "[encoded data removed]",
      "text/plain": [
       "<matplotlib.figure.Figure at 0x1181a4c18>"
      ]
     },
     "metadata": {},
     "output_type": "display_data"
    },
    {
     "data": {
      "image/png": "[encoded data removed]",
      "text/plain": [
       "<matplotlib.figure.Figure at 0x1179b4780>"
      ]
     },
     "metadata": {},
     "output_type": "display_data"
    },
    {
     "data": {
      "image/png": "[encoded data removed]",
      "text/plain": [
       "<matplotlib.figure.Figure at 0x117ddcc18>"
      ]
     },
     "metadata": {},
     "output_type": "display_data"
    }
   ],
   "source": [
    "plt.subplot(3,1,1)\n",
    "plt.scatter(df2['property_crime'], df2['robbery_signal'])\n",
    "plt.title('Robbery vs. Property Crime Raw values')\n",
    "plt.show()\n",
    "\n",
    "plt.subplot(3,1,2)\n",
    "plt.scatter(df2['property_crime'], df2['larceny_theft'])\n",
    "plt.title('Larceny/Theft vs. Property Crime Raw values')\n",
    "plt.show()\n",
    "\n",
    "plt.subplot(3,1,3)\n",
    "plt.scatter(df2['property_crime'], df2['burglary'])\n",
    "plt.title('Burglary vs. Property Crime Raw values')\n",
    "plt.show()\n",
    "\n",
    "plt.subplot(3,1,3)\n",
    "plt.scatter(df2['property_crime'], df2['population'])\n",
    "plt.title('Population vs. Property Crime Raw values')\n",
    "plt.show()\n",
    "\n",
    "plt.subplot(3,1,3)\n",
    "plt.scatter(df2['property_crime'], df2['violent_crime'])\n",
    "plt.title('Burglary vs. Property Crime Raw values')\n",
    "plt.show()\n",
    "\n",
    "plt.subplot(3,1,3)\n",
    "plt.scatter(df2['property_crime'], df2['robbery'])\n",
    "plt.title('Robbery vs. Property Crime Raw values')\n",
    "plt.show()\n",
    "\n",
    "plt.subplot(3,1,3)\n",
    "plt.scatter(df2['property_crime'], df2['agg_assault'])\n",
    "plt.title('Aggravated Assault vs. Property Crime Raw values')\n",
    "plt.show()"
   ]
  },
  {
   "cell_type": "markdown",
   "metadata": {},
   "source": [
    "### Collinearity Assessment\n",
    "\n",
    "There's a lot of multicollinearity which is not ideal for the model."
   ]
  },
  {
   "cell_type": "code",
   "execution_count": 410,
   "metadata": {
    "collapsed": false
   },
   "outputs": [
    {
     "data": {
      "text/html": [
       "<div>\n",
       "<style>\n",
       "    .dataframe thead tr:only-child th {\n",
       "        text-align: right;\n",
       "    }\n",
       "\n",
       "    .dataframe thead th {\n",
       "        text-align: left;\n",
       "    }\n",
       "\n",
       "    .dataframe tbody tr th {\n",
       "        vertical-align: top;\n",
       "    }\n",
       "</style>\n",
       "<table border=\"1\" class=\"dataframe\">\n",
       "  <thead>\n",
       "    <tr style=\"text-align: right;\">\n",
       "      <th></th>\n",
       "      <th>population</th>\n",
       "      <th>violent_crime</th>\n",
       "      <th>robbery</th>\n",
       "      <th>agg_assault</th>\n",
       "      <th>burglary</th>\n",
       "      <th>motor_theft</th>\n",
       "      <th>robbery_signal</th>\n",
       "    </tr>\n",
       "  </thead>\n",
       "  <tbody>\n",
       "    <tr>\n",
       "      <th>population</th>\n",
       "      <td>1.000</td>\n",
       "      <td>0.808</td>\n",
       "      <td>0.801</td>\n",
       "      <td>0.794</td>\n",
       "      <td>0.851</td>\n",
       "      <td>0.844</td>\n",
       "      <td>0.483</td>\n",
       "    </tr>\n",
       "    <tr>\n",
       "      <th>violent_crime</th>\n",
       "      <td>0.808</td>\n",
       "      <td>1.000</td>\n",
       "      <td>0.968</td>\n",
       "      <td>0.990</td>\n",
       "      <td>0.913</td>\n",
       "      <td>0.891</td>\n",
       "      <td>0.410</td>\n",
       "    </tr>\n",
       "    <tr>\n",
       "      <th>robbery</th>\n",
       "      <td>0.801</td>\n",
       "      <td>0.968</td>\n",
       "      <td>1.000</td>\n",
       "      <td>0.928</td>\n",
       "      <td>0.898</td>\n",
       "      <td>0.902</td>\n",
       "      <td>0.389</td>\n",
       "    </tr>\n",
       "    <tr>\n",
       "      <th>agg_assault</th>\n",
       "      <td>0.794</td>\n",
       "      <td>0.990</td>\n",
       "      <td>0.928</td>\n",
       "      <td>1.000</td>\n",
       "      <td>0.894</td>\n",
       "      <td>0.863</td>\n",
       "      <td>0.407</td>\n",
       "    </tr>\n",
       "    <tr>\n",
       "      <th>burglary</th>\n",
       "      <td>0.851</td>\n",
       "      <td>0.913</td>\n",
       "      <td>0.898</td>\n",
       "      <td>0.894</td>\n",
       "      <td>1.000</td>\n",
       "      <td>0.893</td>\n",
       "      <td>0.477</td>\n",
       "    </tr>\n",
       "    <tr>\n",
       "      <th>motor_theft</th>\n",
       "      <td>0.844</td>\n",
       "      <td>0.891</td>\n",
       "      <td>0.902</td>\n",
       "      <td>0.863</td>\n",
       "      <td>0.893</td>\n",
       "      <td>1.000</td>\n",
       "      <td>0.400</td>\n",
       "    </tr>\n",
       "    <tr>\n",
       "      <th>robbery_signal</th>\n",
       "      <td>0.483</td>\n",
       "      <td>0.410</td>\n",
       "      <td>0.389</td>\n",
       "      <td>0.407</td>\n",
       "      <td>0.477</td>\n",
       "      <td>0.400</td>\n",
       "      <td>1.000</td>\n",
       "    </tr>\n",
       "  </tbody>\n",
       "</table>\n",
       "</div>"
      ],
      "text/plain": [
       "                population  violent_crime  robbery  agg_assault  burglary  \\\n",
       "population           1.000          0.808    0.801        0.794     0.851   \n",
       "violent_crime        0.808          1.000    0.968        0.990     0.913   \n",
       "robbery              0.801          0.968    1.000        0.928     0.898   \n",
       "agg_assault          0.794          0.990    0.928        1.000     0.894   \n",
       "burglary             0.851          0.913    0.898        0.894     1.000   \n",
       "motor_theft          0.844          0.891    0.902        0.863     0.893   \n",
       "robbery_signal       0.483          0.410    0.389        0.407     0.477   \n",
       "\n",
       "                motor_theft  robbery_signal  \n",
       "population            0.844           0.483  \n",
       "violent_crime         0.891           0.410  \n",
       "robbery               0.902           0.389  \n",
       "agg_assault           0.863           0.407  \n",
       "burglary              0.893           0.477  \n",
       "motor_theft           1.000           0.400  \n",
       "robbery_signal        0.400           1.000  "
      ]
     },
     "metadata": {},
     "output_type": "display_data"
    }
   ],
   "source": [
    "correlation_matrix = X.corr()\n",
    "display(correlation_matrix)"
   ]
  }
 ],
 "metadata": {
  "kernelspec": {
   "display_name": "Python 3",
   "language": "python",
   "name": "python3"
  },
  "language_info": {
   "codemirror_mode": {
    "name": "ipython",
    "version": 3
   },
   "file_extension": ".py",
   "mimetype": "text/x-python",
   "name": "python",
   "nbconvert_exporter": "python",
   "pygments_lexer": "ipython3",
   "version": "3.6.0"
  }
 },
 "nbformat": 4,
 "nbformat_minor": 2
}
