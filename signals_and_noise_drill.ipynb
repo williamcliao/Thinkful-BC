{
 "cells": [
  {
   "cell_type": "markdown",
   "metadata": {},
   "source": [
    "# Signals and Noise Drill"
   ]
  },
  {
   "cell_type": "markdown",
   "metadata": {},
   "source": [
    "1. y¯1 = 5, y¯2 = 8, s1 = 1, s2 = 3, N1 = 200, N2 = 500\n",
    "2. y¯1 = 1090, y¯2 = 999, s1 = 400, s2 = 30, N1 = 900, N2 = 100\n",
    "3. y¯1 = 45, y¯2 = 40, s1 = 45, s2 = 40, N1 = 2000, N2 = 2000"
   ]
  },
  {
   "cell_type": "code",
   "execution_count": 2,
   "metadata": {
    "collapsed": true
   },
   "outputs": [],
   "source": [
    "import numpy as np"
   ]
  },
  {
   "cell_type": "code",
   "execution_count": 13,
   "metadata": {
    "collapsed": true
   },
   "outputs": [],
   "source": [
    "def t_val(y1,y2,s1,s2,n1,n2): \n",
    "    return (y1-y2)/np.sqrt(s1**2/n1+s2**2/n2)"
   ]
  },
  {
   "cell_type": "code",
   "execution_count": 16,
   "metadata": {
    "collapsed": true
   },
   "outputs": [],
   "source": [
    "val_1 = t_val(5,8,1,3,200,500)\n",
    "val_2 = t_val(1090,999,400,30,900,100)\n",
    "val_3 = t_val(45,40,45,40,2000,2000)"
   ]
  },
  {
   "cell_type": "code",
   "execution_count": 17,
   "metadata": {
    "collapsed": false
   },
   "outputs": [
    {
     "name": "stdout",
     "output_type": "stream",
     "text": [
      "-19.7814142019\n",
      "6.65853658537\n",
      "3.71390676354\n"
     ]
    }
   ],
   "source": [
    "print(val_1)\n",
    "print(val_2)\n",
    "print(val_3)"
   ]
  },
  {
   "cell_type": "code",
   "execution_count": null,
   "metadata": {
    "collapsed": true
   },
   "outputs": [],
   "source": []
  }
 ],
 "metadata": {
  "kernelspec": {
   "display_name": "Python 3",
   "language": "python",
   "name": "python3"
  },
  "language_info": {
   "codemirror_mode": {
    "name": "ipython",
    "version": 3
   },
   "file_extension": ".py",
   "mimetype": "text/x-python",
   "name": "python",
   "nbconvert_exporter": "python",
   "pygments_lexer": "ipython3",
   "version": "3.6.0"
  }
 },
 "nbformat": 4,
 "nbformat_minor": 2
}
