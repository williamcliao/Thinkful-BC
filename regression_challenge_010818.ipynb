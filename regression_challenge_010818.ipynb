{
 "cells": [
  {
   "cell_type": "markdown",
   "metadata": {},
   "source": [
    "# Regression Challenge\n",
    "\n",
    "\n",
    "## Preparation / Exploration"
   ]
  },
  {
   "cell_type": "code",
   "execution_count": 71,
   "metadata": {
    "collapsed": false
   },
   "outputs": [],
   "source": [
    "import numpy as np\n",
    "import pandas as pd\n",
    "import seaborn as sns\n",
    "import matplotlib.pyplot as plt\n",
    "%matplotlib inline\n",
    "from sklearn.model_selection import cross_val_score\n",
    "import statsmodels.api as sm\n",
    "from sklearn.linear_model import LogisticRegression\n",
    "from sklearn.linear_model import LogisticRegressionCV\n",
    "from sklearn import linear_model\n",
    "from sklearn import preprocessing\n",
    "np.set_printoptions(suppress=True)\n",
    "from IPython.display import display\n",
    "pd.options.display.float_format = '{:.3f}'.format\n",
    "import time"
   ]
  },
  {
   "cell_type": "code",
   "execution_count": 2,
   "metadata": {
    "collapsed": true
   },
   "outputs": [],
   "source": [
    "# Read in data\n",
    "df = pd.read_csv('cali_crime.csv')"
   ]
  },
  {
   "cell_type": "code",
   "execution_count": 3,
   "metadata": {
    "collapsed": false
   },
   "outputs": [
    {
     "data": {
      "text/html": [
       "<div>\n",
       "<style>\n",
       "    .dataframe thead tr:only-child th {\n",
       "        text-align: right;\n",
       "    }\n",
       "\n",
       "    .dataframe thead th {\n",
       "        text-align: left;\n",
       "    }\n",
       "\n",
       "    .dataframe tbody tr th {\n",
       "        vertical-align: top;\n",
       "    }\n",
       "</style>\n",
       "<table border=\"1\" class=\"dataframe\">\n",
       "  <thead>\n",
       "    <tr style=\"text-align: right;\">\n",
       "      <th></th>\n",
       "      <th>city of Angels</th>\n",
       "      <th>population</th>\n",
       "      <th>violent_crime</th>\n",
       "      <th>murder_nonnegligent_murder</th>\n",
       "      <th>rape_revised</th>\n",
       "      <th>rape_legacy</th>\n",
       "      <th>robbery</th>\n",
       "      <th>aggravated_assault</th>\n",
       "      <th>property_crime</th>\n",
       "      <th>burglary</th>\n",
       "      <th>larceny_theft</th>\n",
       "      <th>motorvehicle_theft</th>\n",
       "      <th>arson</th>\n",
       "      <th>Unnamed: 13</th>\n",
       "    </tr>\n",
       "  </thead>\n",
       "  <tbody>\n",
       "    <tr>\n",
       "      <th>0</th>\n",
       "      <td>Adelanto</td>\n",
       "      <td>31,165</td>\n",
       "      <td>198</td>\n",
       "      <td>2.000</td>\n",
       "      <td>nan</td>\n",
       "      <td>15.000</td>\n",
       "      <td>52</td>\n",
       "      <td>129</td>\n",
       "      <td>886</td>\n",
       "      <td>381</td>\n",
       "      <td>372</td>\n",
       "      <td>133</td>\n",
       "      <td>17</td>\n",
       "      <td>nan</td>\n",
       "    </tr>\n",
       "    <tr>\n",
       "      <th>1</th>\n",
       "      <td>Agoura Hills</td>\n",
       "      <td>20,762</td>\n",
       "      <td>19</td>\n",
       "      <td>0.000</td>\n",
       "      <td>nan</td>\n",
       "      <td>2.000</td>\n",
       "      <td>10</td>\n",
       "      <td>7</td>\n",
       "      <td>306</td>\n",
       "      <td>109</td>\n",
       "      <td>185</td>\n",
       "      <td>12</td>\n",
       "      <td>7</td>\n",
       "      <td>nan</td>\n",
       "    </tr>\n",
       "    <tr>\n",
       "      <th>2</th>\n",
       "      <td>Alameda</td>\n",
       "      <td>76,206</td>\n",
       "      <td>158</td>\n",
       "      <td>0.000</td>\n",
       "      <td>nan</td>\n",
       "      <td>10.000</td>\n",
       "      <td>85</td>\n",
       "      <td>63</td>\n",
       "      <td>1,902</td>\n",
       "      <td>287</td>\n",
       "      <td>1,285</td>\n",
       "      <td>330</td>\n",
       "      <td>17</td>\n",
       "      <td>nan</td>\n",
       "    </tr>\n",
       "    <tr>\n",
       "      <th>3</th>\n",
       "      <td>Albany</td>\n",
       "      <td>19,104</td>\n",
       "      <td>29</td>\n",
       "      <td>0.000</td>\n",
       "      <td>nan</td>\n",
       "      <td>1.000</td>\n",
       "      <td>24</td>\n",
       "      <td>4</td>\n",
       "      <td>557</td>\n",
       "      <td>94</td>\n",
       "      <td>388</td>\n",
       "      <td>75</td>\n",
       "      <td>7</td>\n",
       "      <td>nan</td>\n",
       "    </tr>\n",
       "    <tr>\n",
       "      <th>4</th>\n",
       "      <td>Alhambra</td>\n",
       "      <td>84,710</td>\n",
       "      <td>163</td>\n",
       "      <td>1.000</td>\n",
       "      <td>nan</td>\n",
       "      <td>9.000</td>\n",
       "      <td>81</td>\n",
       "      <td>72</td>\n",
       "      <td>1,774</td>\n",
       "      <td>344</td>\n",
       "      <td>1,196</td>\n",
       "      <td>234</td>\n",
       "      <td>7</td>\n",
       "      <td>nan</td>\n",
       "    </tr>\n",
       "  </tbody>\n",
       "</table>\n",
       "</div>"
      ],
      "text/plain": [
       "  city of Angels population violent_crime  murder_nonnegligent_murder  \\\n",
       "0       Adelanto     31,165           198                       2.000   \n",
       "1   Agoura Hills     20,762            19                       0.000   \n",
       "2        Alameda     76,206           158                       0.000   \n",
       "3         Albany     19,104            29                       0.000   \n",
       "4       Alhambra     84,710           163                       1.000   \n",
       "\n",
       "   rape_revised  rape_legacy robbery aggravated_assault property_crime  \\\n",
       "0           nan       15.000      52                129            886   \n",
       "1           nan        2.000      10                  7            306   \n",
       "2           nan       10.000      85                 63          1,902   \n",
       "3           nan        1.000      24                  4            557   \n",
       "4           nan        9.000      81                 72          1,774   \n",
       "\n",
       "  burglary larceny_theft motorvehicle_theft arson  Unnamed: 13  \n",
       "0      381           372                133    17          nan  \n",
       "1      109           185                 12     7          nan  \n",
       "2      287         1,285                330    17          nan  \n",
       "3       94           388                 75     7          nan  \n",
       "4      344         1,196                234     7          nan  "
      ]
     },
     "execution_count": 3,
     "metadata": {},
     "output_type": "execute_result"
    }
   ],
   "source": [
    "# Preview Data\n",
    "df.head()"
   ]
  },
  {
   "cell_type": "code",
   "execution_count": 4,
   "metadata": {
    "collapsed": false
   },
   "outputs": [
    {
     "data": {
      "text/plain": [
       "city of Angels                  0\n",
       "population                      2\n",
       "violent_crime                   2\n",
       "murder_nonnegligent_murder      2\n",
       "rape_revised                  464\n",
       "rape_legacy                     2\n",
       "robbery                         2\n",
       "aggravated_assault              2\n",
       "property_crime                  2\n",
       "burglary                        2\n",
       "larceny_theft                   2\n",
       "motorvehicle_theft              2\n",
       "arson                           2\n",
       "Unnamed: 13                   464\n",
       "dtype: int64"
      ]
     },
     "execution_count": 4,
     "metadata": {},
     "output_type": "execute_result"
    }
   ],
   "source": [
    "# Check for missing values\n",
    "df.isnull().sum()"
   ]
  },
  {
   "cell_type": "code",
   "execution_count": 5,
   "metadata": {
    "collapsed": true
   },
   "outputs": [],
   "source": [
    "# Drop attributes that appear to not contain any values\n",
    "df = df.drop('rape_revised',axis=1)\n",
    "df = df.drop('Unnamed: 13',axis=1)\n",
    "\n",
    "# Drop city attribute as we'll only be using numeric data for the regression omdel\n",
    "df = df.drop('city of Angels',axis=1)\n",
    "\n",
    "# Because there are so few remaining NaN values, we'll rows that have NaN\n",
    "# values instead of imputing\n",
    "df = df.dropna()"
   ]
  },
  {
   "cell_type": "code",
   "execution_count": 6,
   "metadata": {
    "collapsed": false
   },
   "outputs": [
    {
     "data": {
      "text/plain": [
       "population                    0\n",
       "violent_crime                 0\n",
       "murder_nonnegligent_murder    0\n",
       "rape_legacy                   0\n",
       "robbery                       0\n",
       "aggravated_assault            0\n",
       "property_crime                0\n",
       "burglary                      0\n",
       "larceny_theft                 0\n",
       "motorvehicle_theft            0\n",
       "arson                         0\n",
       "dtype: int64"
      ]
     },
     "execution_count": 6,
     "metadata": {},
     "output_type": "execute_result"
    }
   ],
   "source": [
    "# Double check to make sure there are no missing values \n",
    "df.isnull().sum()"
   ]
  },
  {
   "cell_type": "code",
   "execution_count": 7,
   "metadata": {
    "collapsed": false
   },
   "outputs": [
    {
     "data": {
      "text/plain": [
       "population                     object\n",
       "violent_crime                  object\n",
       "murder_nonnegligent_murder    float64\n",
       "rape_legacy                   float64\n",
       "robbery                        object\n",
       "aggravated_assault             object\n",
       "property_crime                 object\n",
       "burglary                       object\n",
       "larceny_theft                  object\n",
       "motorvehicle_theft             object\n",
       "arson                          object\n",
       "dtype: object"
      ]
     },
     "execution_count": 7,
     "metadata": {},
     "output_type": "execute_result"
    }
   ],
   "source": [
    "# Preview data types for remaining attributes\n",
    "df.dtypes"
   ]
  },
  {
   "cell_type": "code",
   "execution_count": 8,
   "metadata": {
    "collapsed": true
   },
   "outputs": [],
   "source": [
    "# Remove commas from objects\n",
    "for column in df.columns:\n",
    "    if df[column].dtype == 'O':\n",
    "        df[column] = df[column].str.replace(',','')"
   ]
  },
  {
   "cell_type": "code",
   "execution_count": 9,
   "metadata": {
    "collapsed": true
   },
   "outputs": [],
   "source": [
    "# Convert all attributes to numeric for model\n",
    "for column in df.columns:\n",
    "    df[column] = pd.to_numeric(df[column],errors='coerce')"
   ]
  },
  {
   "cell_type": "code",
   "execution_count": 10,
   "metadata": {
    "collapsed": true
   },
   "outputs": [],
   "source": [
    "# Create binary target variable for regression model \n",
    "# 0 = robbery did not occur, 1 = robbery did occur\n",
    "df['robbery_target'] = np.where((df['robbery'] > 0),1,0)"
   ]
  },
  {
   "cell_type": "code",
   "execution_count": 11,
   "metadata": {
    "collapsed": true
   },
   "outputs": [],
   "source": [
    "# Drop original 'robbery' attribute\n",
    "df = df.drop('robbery',axis=1)"
   ]
  },
  {
   "cell_type": "code",
   "execution_count": 12,
   "metadata": {
    "collapsed": false
   },
   "outputs": [
    {
     "data": {
      "text/plain": [
       "1    427\n",
       "0     35\n",
       "Name: robbery_target, dtype: int64"
      ]
     },
     "execution_count": 12,
     "metadata": {},
     "output_type": "execute_result"
    }
   ],
   "source": [
    "# Evaluate new target variable\n",
    "df['robbery_target'].value_counts()"
   ]
  },
  {
   "cell_type": "code",
   "execution_count": 13,
   "metadata": {
    "collapsed": false
   },
   "outputs": [
    {
     "data": {
      "image/png": "[encoded data removed]",
      "text/plain": [
       "<matplotlib.figure.Figure at 0x116416940>"
      ]
     },
     "metadata": {},
     "output_type": "display_data"
    },
    {
     "data": {
      "image/png": "[encoded data removed]",
      "text/plain": [
       "<matplotlib.figure.Figure at 0x119846ba8>"
      ]
     },
     "metadata": {},
     "output_type": "display_data"
    },
    {
     "data": {
      "image/png": "[encoded data removed]",
      "text/plain": [
       "<matplotlib.figure.Figure at 0x116416b00>"
      ]
     },
     "metadata": {},
     "output_type": "display_data"
    },
    {
     "data": {
      "image/png": "[encoded data removed]",
      "text/plain": [
       "<matplotlib.figure.Figure at 0x11994fef0>"
      ]
     },
     "metadata": {},
     "output_type": "display_data"
    },
    {
     "data": {
      "image/png": "[encoded data removed]",
      "text/plain": [
       "<matplotlib.figure.Figure at 0x119945400>"
      ]
     },
     "metadata": {},
     "output_type": "display_data"
    },
    {
     "data": {
      "image/png": "[encoded data removed]",
      "text/plain": [
       "<matplotlib.figure.Figure at 0x119b42780>"
      ]
     },
     "metadata": {},
     "output_type": "display_data"
    },
    {
     "data": {
      "image/png": "[encoded data removed]",
      "text/plain": [
       "<matplotlib.figure.Figure at 0x119b33828>"
      ]
     },
     "metadata": {},
     "output_type": "display_data"
    },
    {
     "data": {
      "image/png": "[encoded data removed]",
      "text/plain": [
       "<matplotlib.figure.Figure at 0x119bed748>"
      ]
     },
     "metadata": {},
     "output_type": "display_data"
    },
    {
     "data": {
      "image/png": "[encoded data removed]",
      "text/plain": [
       "<matplotlib.figure.Figure at 0x119f5acf8>"
      ]
     },
     "metadata": {},
     "output_type": "display_data"
    },
    {
     "data": {
      "image/png": "[encoded data removed]",
      "text/plain": [
       "<matplotlib.figure.Figure at 0x11a0bef98>"
      ]
     },
     "metadata": {},
     "output_type": "display_data"
    },
    {
     "data": {
      "image/png": "[encoded data removed]",
      "text/plain": [
       "<matplotlib.figure.Figure at 0x11a433c18>"
      ]
     },
     "metadata": {},
     "output_type": "display_data"
    }
   ],
   "source": [
    "# Examine data; areas where no robbery occurred also have significantly lower\n",
    "# crime rates in general \n",
    "for column in df.columns:\n",
    "    sns.boxplot(x='robbery_target',y=column,data=df)\n",
    "    plt.show()"
   ]
  },
  {
   "cell_type": "markdown",
   "metadata": {},
   "source": [
    "## Feature Selection"
   ]
  },
  {
   "cell_type": "code",
   "execution_count": 14,
   "metadata": {
    "collapsed": true
   },
   "outputs": [],
   "source": [
    "# Assign features and target variable to 'X' and 'Y' respectively\n",
    "X = df.drop('robbery_target',axis=1)\n",
    "Y = df['robbery_target']"
   ]
  },
  {
   "cell_type": "markdown",
   "metadata": {},
   "source": [
    "### Correlation Heatmap"
   ]
  },
  {
   "cell_type": "code",
   "execution_count": 15,
   "metadata": {
    "collapsed": true
   },
   "outputs": [],
   "source": [
    "df2 = pd.read_csv('cali_crime.csv')\n",
    "\n",
    "# Drop attributes that appear to not contain any values\n",
    "df2 = df2.drop('rape_revised',axis=1)\n",
    "df2 = df2.drop('Unnamed: 13',axis=1)\n",
    "\n",
    "# Drop city attribute as we'll only be using numeric data for the regression omdel\n",
    "df2 = df2.drop('city of Angels',axis=1)\n",
    "\n",
    "# Because there are so few remaining NaN values, we'll rows that have NaN\n",
    "# values instead of imputing\n",
    "df2 = df2.dropna()\n",
    "\n",
    "# Remove commas from objects\n",
    "for column in df2.columns:\n",
    "    if df2[column].dtype == 'O':\n",
    "        df2[column] = df2[column].str.replace(',','')\n",
    "\n",
    "# Convert all attributes to numeric for model\n",
    "for column in df2.columns:\n",
    "    df2[column] = pd.to_numeric(df2[column],errors='coerce')"
   ]
  },
  {
   "cell_type": "code",
   "execution_count": 16,
   "metadata": {
    "collapsed": false
   },
   "outputs": [
    {
     "data": {
      "text/plain": [
       "<matplotlib.axes._subplots.AxesSubplot at 0x119de7e80>"
      ]
     },
     "execution_count": 16,
     "metadata": {},
     "output_type": "execute_result"
    },
    {
     "data": {
      "image/png": "[encoded data removed]",
      "text/plain": [
       "<matplotlib.figure.Figure at 0x119de7438>"
      ]
     },
     "metadata": {},
     "output_type": "display_data"
    }
   ],
   "source": [
    "# It appears that many of the parameters in our data set are highly correlated\n",
    "sns.heatmap(df2.corr())"
   ]
  },
  {
   "cell_type": "markdown",
   "metadata": {},
   "source": [
    "### Random Forest (RF)"
   ]
  },
  {
   "cell_type": "code",
   "execution_count": 19,
   "metadata": {
    "collapsed": false
   },
   "outputs": [
    {
     "name": "stdout",
     "output_type": "stream",
     "text": [
      "Feature ranking:\n",
      "1. feature 1 (0.170793)\n",
      "2. feature 5 (0.141064)\n",
      "3. feature 7 (0.133588)\n",
      "4. feature 8 (0.117865)\n",
      "5. feature 4 (0.108893)\n",
      "6. feature 6 (0.102227)\n",
      "7. feature 0 (0.094027)\n",
      "8. feature 3 (0.073519)\n",
      "9. feature 9 (0.044635)\n",
      "10. feature 2 (0.013388)\n"
     ]
    },
    {
     "data": {
      "image/png": "[encoded data removed]",
      "text/plain": [
       "<matplotlib.figure.Figure at 0x11a0c4f28>"
      ]
     },
     "metadata": {},
     "output_type": "display_data"
    }
   ],
   "source": [
    "from sklearn.ensemble import ExtraTreesClassifier\n",
    "\n",
    "# Instantiate model\n",
    "forest = ExtraTreesClassifier(n_estimators=250)\n",
    "\n",
    "#Fit model\n",
    "forest.fit(X,Y)\n",
    "importances = forest.feature_importances_\n",
    "\n",
    "std = np.std([tree.feature_importances_ for tree in forest.estimators_],\n",
    "             axis=0)\n",
    "indices = np.argsort(importances)[::-1]\n",
    "\n",
    "# Print the feature ranking\n",
    "print(\"Feature ranking:\")\n",
    "\n",
    "for f in range(X.shape[1]):\n",
    "    print(\"%d. feature %d (%f)\" % (f + 1, indices[f], importances[indices[f]]))\n",
    "\n",
    "# Plot the feature importances of the forest\n",
    "plt.figure()\n",
    "plt.title(\"Feature importances\")\n",
    "plt.bar(range(X.shape[1]), importances[indices],\n",
    "       color=\"r\", yerr=std[indices], align=\"center\")\n",
    "plt.xticks(range(X.shape[1]), indices)\n",
    "plt.xlim([-1, X.shape[1]])\n",
    "plt.show()"
   ]
  },
  {
   "cell_type": "code",
   "execution_count": 20,
   "metadata": {
    "collapsed": true
   },
   "outputs": [],
   "source": [
    "# Assign features\n",
    "rf_features = X[X.columns[[indices[0:7]]]]"
   ]
  },
  {
   "cell_type": "code",
   "execution_count": 21,
   "metadata": {
    "collapsed": false
   },
   "outputs": [
    {
     "data": {
      "text/plain": [
       "<matplotlib.axes._subplots.AxesSubplot at 0x11a4ce588>"
      ]
     },
     "execution_count": 21,
     "metadata": {},
     "output_type": "execute_result"
    },
    {
     "data": {
      "image/png": "[encoded data removed]",
      "text/plain": [
       "<matplotlib.figure.Figure at 0x11a392710>"
      ]
     },
     "metadata": {},
     "output_type": "display_data"
    }
   ],
   "source": [
    "sns.heatmap(rf_features.corr())"
   ]
  },
  {
   "cell_type": "markdown",
   "metadata": {},
   "source": [
    "### Principal Component Analysis (PCA)"
   ]
  },
  {
   "cell_type": "code",
   "execution_count": 22,
   "metadata": {
    "collapsed": true
   },
   "outputs": [],
   "source": [
    "from sklearn import preprocessing\n",
    "from sklearn.decomposition import PCA\n",
    "\n",
    "pca = PCA(n_components=10)\n",
    "\n",
    "# Assign features and target variable to 'X' and 'Y' respectively\n",
    "X = df.drop('robbery_target',axis=1)\n",
    "X_scaled = preprocessing.scale(X)\n",
    "\n",
    "X_pca = pca.fit_transform(X_scaled)\n",
    "\n",
    "Y = df['robbery_target']"
   ]
  },
  {
   "cell_type": "code",
   "execution_count": 23,
   "metadata": {
    "collapsed": false,
    "scrolled": false
   },
   "outputs": [
    {
     "name": "stdout",
     "output_type": "stream",
     "text": [
      "[ 0.93989306  0.02319884  0.01280858  0.0103283   0.00556073  0.00446473\n",
      "  0.00188185  0.00126762  0.0005963   0.        ]\n"
     ]
    },
    {
     "data": {
      "text/plain": [
       "[<matplotlib.lines.Line2D at 0x11a1804a8>]"
      ]
     },
     "execution_count": 23,
     "metadata": {},
     "output_type": "execute_result"
    },
    {
     "data": {
      "image/png": "[encoded data removed]",
      "text/plain": [
       "<matplotlib.figure.Figure at 0x11a4d5ef0>"
      ]
     },
     "metadata": {},
     "output_type": "display_data"
    }
   ],
   "source": [
    "# Evaluate explained variance ratio -- it appears that the first component explains\n",
    "# most of the data set. \n",
    "print(pca.explained_variance_ratio_)\n",
    "plt.plot(pca.explained_variance_ratio_)"
   ]
  },
  {
   "cell_type": "code",
   "execution_count": 67,
   "metadata": {
    "collapsed": false
   },
   "outputs": [
    {
     "data": {
      "text/plain": [
       "array([ 9.39893063])"
      ]
     },
     "execution_count": 67,
     "metadata": {},
     "output_type": "execute_result"
    }
   ],
   "source": [
    "# The first principal component explains the variance of a little over 9 of \n",
    "# our features\n",
    "pca.explained_variance_"
   ]
  },
  {
   "cell_type": "code",
   "execution_count": 66,
   "metadata": {
    "collapsed": true
   },
   "outputs": [],
   "source": [
    "# Assign the first principal component to X_pca\n",
    "pca = PCA(n_components=1)\n",
    "X_pca = pca.fit_transform(X_scaled)"
   ]
  },
  {
   "cell_type": "markdown",
   "metadata": {},
   "source": [
    "# Logistic Regression"
   ]
  },
  {
   "cell_type": "markdown",
   "metadata": {},
   "source": [
    "### Using all features"
   ]
  },
  {
   "cell_type": "code",
   "execution_count": 59,
   "metadata": {
    "collapsed": false
   },
   "outputs": [
    {
     "name": "stdout",
     "output_type": "stream",
     "text": [
      "0.9329004329\n"
     ]
    }
   ],
   "source": [
    "# Fit logistic regression model\n",
    "lr = LogisticRegression()\n",
    "fit = lr.fit(X,Y)\n",
    "print(lr.score(X,Y))"
   ]
  },
  {
   "cell_type": "code",
   "execution_count": 60,
   "metadata": {
    "collapsed": false,
    "scrolled": false
   },
   "outputs": [
    {
     "name": "stdout",
     "output_type": "stream",
     "text": [
      "0.92440333025\n"
     ]
    }
   ],
   "source": [
    "# Evaluate performnace during cross validation\n",
    "lr_score = cross_val_score(lr,X,Y,cv=10)\n",
    "print(np.mean(lr_score))"
   ]
  },
  {
   "cell_type": "code",
   "execution_count": 61,
   "metadata": {
    "collapsed": false
   },
   "outputs": [
    {
     "name": "stdout",
     "output_type": "stream",
     "text": [
      "[[-0.00001494  0.12396467  0.00504732  0.02820308 -0.08474174  0.00836901\n",
      "  -0.01404096 -0.00077854  0.02318851  0.00910667]]\n",
      "[-0.03581743]\n"
     ]
    }
   ],
   "source": [
    "# Evaluate coefficients\n",
    "print(lr.coef_)\n",
    "print(lr.intercept_)"
   ]
  },
  {
   "cell_type": "markdown",
   "metadata": {},
   "source": [
    "### Using top features  from random forests"
   ]
  },
  {
   "cell_type": "code",
   "execution_count": 28,
   "metadata": {
    "collapsed": true
   },
   "outputs": [],
   "source": [
    "fit = lr.fit(rf_features,Y)"
   ]
  },
  {
   "cell_type": "code",
   "execution_count": 29,
   "metadata": {
    "collapsed": false
   },
   "outputs": [
    {
     "name": "stdout",
     "output_type": "stream",
     "text": [
      "0.92440333025\n"
     ]
    }
   ],
   "source": [
    "# Evaluate performnace during cross validation\n",
    "lr_rf_score = cross_val_score(lr,rf_features,Y,cv=10)\n",
    "print(np.mean(lr_rf_score))"
   ]
  },
  {
   "cell_type": "code",
   "execution_count": 30,
   "metadata": {
    "collapsed": false
   },
   "outputs": [
    {
     "name": "stdout",
     "output_type": "stream",
     "text": [
      "[[ 0.13242004  0.00822981 -0.00047811  0.02274517 -0.09250707 -0.01403726\n",
      "  -0.00001437]]\n",
      "[-0.03848397]\n"
     ]
    }
   ],
   "source": [
    "# Evaluate coefficients\n",
    "print(lr.coef_)\n",
    "print(lr.intercept_)"
   ]
  },
  {
   "cell_type": "markdown",
   "metadata": {},
   "source": [
    "### Using one principal components"
   ]
  },
  {
   "cell_type": "code",
   "execution_count": 68,
   "metadata": {
    "collapsed": false
   },
   "outputs": [],
   "source": [
    "# Evaluate coefficients\n",
    "fit = lr.fit(X_pca,Y)"
   ]
  },
  {
   "cell_type": "code",
   "execution_count": 72,
   "metadata": {
    "collapsed": false
   },
   "outputs": [
    {
     "name": "stdout",
     "output_type": "stream",
     "text": [
      "--- 0.028548240661621094 seconds ---\n",
      "0.92440333025\n"
     ]
    }
   ],
   "source": [
    "# Evaluate performnace during cross validation\n",
    "start_time = time.time()\n",
    "lr_score = cross_val_score(lr,X_pca,Y,cv=10)\n",
    "print(\"--- %s seconds ---\" % (time.time() - start_time))\n",
    "\n",
    "print(np.mean(lr_score))"
   ]
  },
  {
   "cell_type": "markdown",
   "metadata": {},
   "source": [
    "# Ridge Regression"
   ]
  },
  {
   "cell_type": "markdown",
   "metadata": {},
   "source": [
    "### Using all features"
   ]
  },
  {
   "cell_type": "code",
   "execution_count": 34,
   "metadata": {
    "collapsed": true
   },
   "outputs": [],
   "source": [
    "# Identify optimal lambda value \n",
    "ridge_cv = LogisticRegressionCV(penalty='l2')\n",
    "model_cv = ridge_cv.fit(X,Y)\n",
    "ridge_lambda = float(model_cv.C_)"
   ]
  },
  {
   "cell_type": "code",
   "execution_count": 35,
   "metadata": {
    "collapsed": false
   },
   "outputs": [
    {
     "name": "stdout",
     "output_type": "stream",
     "text": [
      "0.9329004329\n"
     ]
    }
   ],
   "source": [
    "# Fit Ridge regression model to data with optimal lambda value \n",
    "ridger = LogisticRegression(penalty='l2',C=ridge_lambda)\n",
    "fit = ridger.fit(X,Y)\n",
    "print(ridger.score(X,Y))"
   ]
  },
  {
   "cell_type": "code",
   "execution_count": 37,
   "metadata": {
    "collapsed": false,
    "scrolled": true
   },
   "outputs": [
    {
     "name": "stdout",
     "output_type": "stream",
     "text": [
      "0.92440333025\n"
     ]
    }
   ],
   "source": [
    "# Evaluate performance during cross validation\n",
    "ridge_score = cross_val_score(ridger,X,Y,cv=10)\n",
    "print(np.mean(ridge_score))"
   ]
  },
  {
   "cell_type": "code",
   "execution_count": 38,
   "metadata": {
    "collapsed": false
   },
   "outputs": [
    {
     "name": "stdout",
     "output_type": "stream",
     "text": [
      "[[-0.0000149   0.12395627  0.00504642  0.02820038 -0.08470121  0.00837655\n",
      "  -0.0140439  -0.00079969  0.02322014  0.00910685]]\n",
      "[-0.03580556]\n"
     ]
    }
   ],
   "source": [
    "# Evaluate coefficients\n",
    "print(ridger.coef_)\n",
    "print(ridger.intercept_)"
   ]
  },
  {
   "cell_type": "markdown",
   "metadata": {},
   "source": [
    "### Using top features  from random forests"
   ]
  },
  {
   "cell_type": "code",
   "execution_count": 39,
   "metadata": {
    "collapsed": true
   },
   "outputs": [],
   "source": [
    "# Identify optimal lambda value \n",
    "ridge_cv = LogisticRegressionCV(penalty='l2')\n",
    "model_cv = ridge_cv.fit(rf_features,Y)\n",
    "ridge_lambda = float(model_cv.C_)"
   ]
  },
  {
   "cell_type": "code",
   "execution_count": 40,
   "metadata": {
    "collapsed": false
   },
   "outputs": [
    {
     "name": "stdout",
     "output_type": "stream",
     "text": [
      "0.9329004329\n"
     ]
    }
   ],
   "source": [
    "# Fit Ridge regression model to data with optimal lambda value \n",
    "ridger = LogisticRegression(penalty='l2',C=ridge_lambda)\n",
    "fit = ridger.fit(rf_features,Y)\n",
    "print(ridger.score(rf_features,Y))"
   ]
  },
  {
   "cell_type": "code",
   "execution_count": 73,
   "metadata": {
    "collapsed": false
   },
   "outputs": [
    {
     "name": "stdout",
     "output_type": "stream",
     "text": [
      "--- 0.04904985427856445 seconds ---\n",
      "0.92440333025\n"
     ]
    }
   ],
   "source": [
    "# Evaluate performance during cross validation\n",
    "start_time = time.time()\n",
    "ridge_score = cross_val_score(ridger,rf_features,Y,cv=10)\n",
    "print(\"--- %s seconds ---\" % (time.time() - start_time))\n",
    "\n",
    "print(np.mean(ridge_score))"
   ]
  },
  {
   "cell_type": "code",
   "execution_count": 42,
   "metadata": {
    "collapsed": false,
    "scrolled": true
   },
   "outputs": [
    {
     "name": "stdout",
     "output_type": "stream",
     "text": [
      "[[ 0.13242902  0.00821536 -0.00043784  0.02268287 -0.09258363 -0.01402967\n",
      "  -0.00001443]]\n",
      "[-0.03850518]\n"
     ]
    }
   ],
   "source": [
    "# Evaluate coefficients\n",
    "print(ridger.coef_)\n",
    "print(ridger.intercept_)"
   ]
  },
  {
   "cell_type": "markdown",
   "metadata": {},
   "source": [
    "# Lasso Regression"
   ]
  },
  {
   "cell_type": "markdown",
   "metadata": {},
   "source": [
    "### Using all features"
   ]
  },
  {
   "cell_type": "code",
   "execution_count": 47,
   "metadata": {
    "collapsed": true
   },
   "outputs": [],
   "source": [
    "# Identify optimal lambda for lasso regression model \n",
    "lasso_cv = LogisticRegressionCV(penalty='l1',solver='liblinear')\n",
    "model_cv = lasso_cv.fit(X,Y)\n",
    "lasso_lambda = float(model_cv.C_)"
   ]
  },
  {
   "cell_type": "code",
   "execution_count": 48,
   "metadata": {
    "collapsed": false,
    "scrolled": true
   },
   "outputs": [
    {
     "name": "stdout",
     "output_type": "stream",
     "text": [
      "0.924242424242\n"
     ]
    }
   ],
   "source": [
    "# Fit lesson regression model to data with optimal lambda\n",
    "lassor = LogisticRegression(penalty='l1',C=lasso_lambda)\n",
    "fit = lassor.fit(X,Y)\n",
    "print(lassor.score(X,Y))"
   ]
  },
  {
   "cell_type": "code",
   "execution_count": 49,
   "metadata": {
    "collapsed": false,
    "scrolled": true
   },
   "outputs": [
    {
     "name": "stdout",
     "output_type": "stream",
     "text": [
      "0.926577243293\n"
     ]
    }
   ],
   "source": [
    "# Evaluate performance during cross validation\n",
    "lassor_score = cross_val_score(lassor,X,Y,cv=10)\n",
    "print(np.mean(lassor_score))"
   ]
  },
  {
   "cell_type": "code",
   "execution_count": 50,
   "metadata": {
    "collapsed": false,
    "scrolled": true
   },
   "outputs": [
    {
     "name": "stdout",
     "output_type": "stream",
     "text": [
      "[[ 0.00001147  0.01646515  0.010318    0.08353227  0.00362749  0.00041082\n",
      "   0.00326435  0.00213066  0.00236343  0.04168362]]\n",
      "[ 0.2178657]\n"
     ]
    }
   ],
   "source": [
    "# Evaluate coefficients \n",
    "print(lassor.coef_)\n",
    "print(lassor.intercept_)"
   ]
  },
  {
   "cell_type": "markdown",
   "metadata": {},
   "source": [
    "### Using top features  from random forests"
   ]
  },
  {
   "cell_type": "code",
   "execution_count": 51,
   "metadata": {
    "collapsed": true
   },
   "outputs": [],
   "source": [
    "# Identify optimal lambda for lasso regression model \n",
    "lasso_cv = LogisticRegressionCV(penalty='l1',solver='liblinear')\n",
    "model_cv = lasso_cv.fit(rf_features,Y)\n",
    "lasso_lambda = float(model_cv.C_)"
   ]
  },
  {
   "cell_type": "code",
   "execution_count": 52,
   "metadata": {
    "collapsed": false
   },
   "outputs": [
    {
     "name": "stdout",
     "output_type": "stream",
     "text": [
      "0.924242424242\n"
     ]
    }
   ],
   "source": [
    "# Fit lesson regression model to data with optimal lambda\n",
    "lassor = LogisticRegression(penalty='l1',C=lasso_lambda)\n",
    "fit = lassor.fit(rf_features,Y)\n",
    "print(lassor.score(rf_features,Y))"
   ]
  },
  {
   "cell_type": "code",
   "execution_count": 53,
   "metadata": {
    "collapsed": false,
    "scrolled": true
   },
   "outputs": [
    {
     "name": "stdout",
     "output_type": "stream",
     "text": [
      "[[ 0.01535024  0.00143402  0.00282296 -0.00029432  0.01085465  0.00494725\n",
      "   0.00000492]]\n",
      "[ 0.13547569]\n"
     ]
    }
   ],
   "source": [
    "# Evaluate coefficients \n",
    "print(lassor.coef_)\n",
    "print(lassor.intercept_)"
   ]
  },
  {
   "cell_type": "markdown",
   "metadata": {},
   "source": [
    "## Conclusion\n",
    "\n"
   ]
  },
  {
   "cell_type": "markdown",
   "metadata": {},
   "source": [
    "PCA with Logistic Regression or Ridge regression both seem to be appropriate methodologies. \n",
    "\n",
    "Both are comparable in performance and address the high multicollinearity within the data set. \n",
    "\n",
    "Picking an ideal model of the two would depend on the business case - if your model doesn't have to be interpretable, then PCA would be optimal as its performance is similar and it's computationally less expensive. \n",
    "\n",
    "If your interpretability is a requirement, then ridge regression with a subset of decidedly 'important features' (via Random Forests in our case) is more appropriate. "
   ]
  }
 ],
 "metadata": {
  "kernelspec": {
   "display_name": "Python 3",
   "language": "python",
   "name": "python3"
  },
  "language_info": {
   "codemirror_mode": {
    "name": "ipython",
    "version": 3
   },
   "file_extension": ".py",
   "mimetype": "text/x-python",
   "name": "python",
   "nbconvert_exporter": "python",
   "pygments_lexer": "ipython3",
   "version": "3.6.0"
  }
 },
 "nbformat": 4,
 "nbformat_minor": 2
}
